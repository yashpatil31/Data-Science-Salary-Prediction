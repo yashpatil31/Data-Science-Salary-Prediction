{
 "cells": [
  {
   "cell_type": "code",
   "execution_count": 1,
   "id": "a59ecf9b",
   "metadata": {},
   "outputs": [],
   "source": [
    "#pip install selenium"
   ]
  },
  {
   "cell_type": "code",
   "execution_count": 2,
   "id": "6ad0e5fe",
   "metadata": {},
   "outputs": [],
   "source": [
    "#pip install wordcloud"
   ]
  },
  {
   "cell_type": "code",
   "execution_count": 3,
   "id": "84ece594",
   "metadata": {},
   "outputs": [],
   "source": [
    "#pip install nltk"
   ]
  },
  {
   "cell_type": "code",
   "execution_count": 4,
   "id": "17c907b4",
   "metadata": {},
   "outputs": [],
   "source": [
    "#pip install pillow"
   ]
  },
  {
   "cell_type": "code",
   "execution_count": 25,
   "id": "0a3dd2e4",
   "metadata": {},
   "outputs": [],
   "source": [
    "#pip install yellowbrick"
   ]
  },
  {
   "cell_type": "code",
   "execution_count": 5,
   "id": "be96da22",
   "metadata": {},
   "outputs": [],
   "source": [
    "# import nltk\n",
    "# nltk.download('stopwords')\n",
    "#nltk.download('punkt')"
   ]
  },
  {
   "cell_type": "code",
   "execution_count": 3,
   "id": "40cc4a6b",
   "metadata": {},
   "outputs": [],
   "source": [
    "from selenium import webdriver\n",
    "from selenium.common.exceptions import NoSuchElementException, ElementClickInterceptedException, TimeoutException\n",
    "from selenium.webdriver.support import expected_conditions as EC\n",
    "from selenium.webdriver.chrome.service import Service\n",
    "from selenium.webdriver.common.by import By\n",
    "from selenium.webdriver.support.wait import WebDriverWait\n",
    "import pandas as pd\n",
    "import numpy as np\n",
    "import matplotlib.pyplot as plt\n",
    "import seaborn as sns\n",
    "import time"
   ]
  },
  {
   "cell_type": "code",
   "execution_count": 3,
   "id": "c7ffaa3d",
   "metadata": {},
   "outputs": [],
   "source": [
    "def get_jobs(keyword, no_of_jobs, verbose):\n",
    "    opts = webdriver.ChromeOptions()\n",
    "    \n",
    "    #headless chrome browser\n",
    "    #the chrome tab will not open at the time of scraping\n",
    "    # opts.add_argument(\"--headless=new\")\n",
    "    \n",
    "    #change path to path of chromedriver in your pc\n",
    "    driver = webdriver.Chrome(service=Service(r\"C:\\Users\\Patil\\Documents\\DSBDA_Mini_Project\\chromedriver.exe\"),options=opts)\n",
    "    driver.set_window_size(1080,1000)\n",
    "    \n",
    "    url = 'https://www.glassdoor.com/Job/jobs.htm?sc.keyword=\"'+keyword+'\"'\n",
    "    driver.get(url)\n",
    "    delay = 5 #maximum time to wait for a page\n",
    "    jobs = []\n",
    "    pop_up = False\n",
    "    \n",
    "    while len(jobs) < no_of_jobs:\n",
    "        \n",
    "        time.sleep(delay)\n",
    "        \n",
    "        #handling the sign in prompt\n",
    "        if not pop_up:\n",
    "            try:\n",
    "                driver.find_element(By.CLASS_NAME, \"react-job-listing\").click()\n",
    "            except ElementClickInterceptedException:\n",
    "                pass\n",
    "\n",
    "            time.sleep(1)\n",
    "\n",
    "            try:\n",
    "                driver.find_element(By.CSS_SELECTOR, '[alt=\"Close\"]').click()\n",
    "            except ElementClickInterceptedException:\n",
    "                pass\n",
    "            pop_up = True\n",
    "        \n",
    "#         #waiting till the popup loads\n",
    "#         try:\n",
    "#             myElem = WebDriverWait(driver, 10).until(EC.presence_of_element_located((By.CLASS_NAME, \"SVGInline-svg modal_closeIcon-svg\")))\n",
    "#             try:\n",
    "#                 driver.find_element(By.CLASS_NAME, \"SVGInline-svg modal_closeIcon-svg\").click()  #clicking to the X.\n",
    "#             except NoSuchElementException:\n",
    "#                 pass\n",
    "#         except TimeoutException:\n",
    "#              print(\"Loading took too much time!\")\n",
    "        \n",
    "        \n",
    "        #getting the list of all the job\n",
    "        job_buttons = driver.find_elements(By.CLASS_NAME,\"react-job-listing\")\n",
    "        no_of_job_buttons = len(job_buttons)\n",
    "        print(\"No of jobs per page: \",no_of_job_buttons)\n",
    "        \n",
    "        for job_button in job_buttons:\n",
    "            print(\"Progress: {}\".format(\"\" + str(len(jobs)) + \"/\" + str(no_of_jobs)))\n",
    "            if len(jobs) >= no_of_jobs:\n",
    "                break\n",
    "            \n",
    "            \n",
    "            job_button.click()\n",
    "#             if(len(jobs) == 7):\n",
    "#                 try:\n",
    "#                     driver.find_element(By.CSS_SELECTOR, '[alt=\"Close\"]').click()\n",
    "#                 except ElementClickInterceptedException:\n",
    "#                     pass\n",
    "#             time.sleep(1)\n",
    "            collected_success = False\n",
    "            \n",
    "            while not collected_success:\n",
    "                try:\n",
    "                    company_name = driver.find_element(By.XPATH,'.//div[@data-test=\"employerName\"]').text\n",
    "                    \n",
    "                    location = driver.find_element(By.XPATH,'.//div[@data-test=\"location\"]').text\n",
    "                    job_title = driver.find_element(By.XPATH,'.//div[@data-test=\"jobTitle\"]').text\n",
    "                    job_description = driver.find_element(By.XPATH,'.//div[@class=\"jobDescriptionContent desc\"]').text\n",
    "                    collected_success = True\n",
    "                except:\n",
    "                    time.sleep(5)\n",
    "                \n",
    "            try:\n",
    "                salary_estimate = driver.find_element(By.XPATH,'.//div[@class=\"css-w04er4 e1tk4kwz6\"]/div/span[@class=\"css-1xe2xww e1wijj242\"]').text\n",
    "            except NoSuchElementException:\n",
    "                salary_estimate = -1 #You need to set a \"not found value. It's important.\"\n",
    "            \n",
    "            try:\n",
    "                rating =  driver.find_element(By.XPATH,'.//span[@data-test=\"detailRating\"]').text\n",
    "            except NoSuchElementException:\n",
    "                rating = -1 #You need to set a \"not found value. It's important.\"\n",
    "            \n",
    "            try:\n",
    "                size = driver.find_element(By.XPATH,'.//div[@class=\"d-flex justify-content-start css-rmzuhb e1pvx6aw0\"]/span[text()=\"Size\"]//following-sibling::span').text\n",
    "            except NoSuchElementException:\n",
    "                size = -1\n",
    "\n",
    "            try:\n",
    "                founded = driver.find_element(By.XPATH,'.//div[@class=\"d-flex justify-content-start css-rmzuhb e1pvx6aw0\"]/span[text()=\"Founded\"]//following-sibling::*').text\n",
    "            except NoSuchElementException:\n",
    "                founded = -1\n",
    "            \n",
    "            try:\n",
    "                industry = driver.find_element(By.XPATH,'.//div[@class=\"d-flex justify-content-start css-rmzuhb e1pvx6aw0\"]/span[text()=\"Industry\"]//following-sibling::*').text\n",
    "            except NoSuchElementException:\n",
    "                industry = -1\n",
    "\n",
    "            try:\n",
    "                type_of_ownership = driver.find_element(By.XPATH,'.//div[@class=\"d-flex justify-content-start css-rmzuhb e1pvx6aw0\"]/span[text()=\"Type\"]//following-sibling::*').text\n",
    "            except NoSuchElementException:\n",
    "                type_of_ownership = -1\n",
    "            \n",
    "            try:\n",
    "                sector = driver.find_element(By.XPATH,'.//div[@class=\"d-flex justify-content-start css-rmzuhb e1pvx6aw0\"]/span[text()=\"Sector\"]//following-sibling::*').text\n",
    "            except NoSuchElementException:\n",
    "                sector = -1\n",
    "            \n",
    "            try:\n",
    "                revenue = driver.find_element(By.XPATH,'.//div[@class=\"d-flex justify-content-start css-rmzuhb e1pvx6aw0\"]/span[text()=\"Revenue\"]//following-sibling::*').text\n",
    "            except NoSuchElementException:\n",
    "                revenue = -1\n",
    "                \n",
    "            #Printing for debugging\n",
    "            if verbose:\n",
    "                print(\"Job Title: {}\".format(job_title))\n",
    "                print(\"Salary Estimate: {}\".format(salary_estimate))\n",
    "                print(\"Job Description: {}\".format(job_description[:500]))\n",
    "                print(\"Rating: {}\".format(rating))\n",
    "                print(\"Company Name: {}\".format(company_name))\n",
    "                print(\"Location: {}\".format(location))\n",
    "                print(\"Size: {}\".format(size))\n",
    "                print(\"Founded: {}\".format(founded))\n",
    "                print(\"Type of Ownership: {}\".format(type_of_ownership))\n",
    "                print(\"Industry: {}\".format(industry))\n",
    "                print(\"Sector: {}\".format(sector))\n",
    "                print(\"Revenue: {}\".format(revenue))\n",
    "            \n",
    "            jobs.append({\"Job Title\" : job_title,\n",
    "            \"Salary Estimate\" : salary_estimate,\n",
    "            \"Job Description\" : job_description,\n",
    "            \"Rating\" : rating,\n",
    "            \"Company Name\" : company_name,\n",
    "            \"Location\" : location,\n",
    "            \"Size\" : size,\n",
    "            \"Founded\" : founded,\n",
    "            \"Type of ownership\" : type_of_ownership,\n",
    "            \"Industry\" : industry,\n",
    "            \"Sector\" : sector,\n",
    "            \"Revenue\" : revenue})\n",
    "            \n",
    "        #Clicking on the \"next page\" button\n",
    "        try:\n",
    "            driver.find_element(By.CSS_SELECTOR,'span[alt=\"next-icon\"]').click()\n",
    "        except NoSuchElementException:\n",
    "            print(\"Scraping terminated before reaching target number of jobs. Needed {}, got {}.\".format(no_of_jobs, len(jobs)))\n",
    "            break\n",
    "                \n",
    "    return pd.DataFrame(jobs)\n"
   ]
  },
  {
   "cell_type": "code",
   "execution_count": 4,
   "id": "2c457166",
   "metadata": {
    "scrolled": true
   },
   "outputs": [
    {
     "name": "stdout",
     "output_type": "stream",
     "text": [
      "No of jobs per page:  30\n",
      "Progress: 0/500\n",
      "Progress: 1/500\n",
      "Progress: 2/500\n",
      "Progress: 3/500\n",
      "Progress: 4/500\n",
      "Progress: 5/500\n",
      "Progress: 6/500\n",
      "Progress: 7/500\n",
      "Progress: 8/500\n",
      "Progress: 9/500\n",
      "Progress: 10/500\n",
      "Progress: 11/500\n",
      "Progress: 12/500\n",
      "Progress: 13/500\n",
      "Progress: 14/500\n",
      "Progress: 15/500\n",
      "Progress: 16/500\n",
      "Progress: 17/500\n",
      "Progress: 18/500\n",
      "Progress: 19/500\n",
      "Progress: 20/500\n",
      "Progress: 21/500\n",
      "Progress: 22/500\n",
      "Progress: 23/500\n",
      "Progress: 24/500\n",
      "Progress: 25/500\n",
      "Progress: 26/500\n",
      "Progress: 27/500\n",
      "Progress: 28/500\n",
      "Progress: 29/500\n",
      "No of jobs per page:  30\n",
      "Progress: 30/500\n",
      "Progress: 31/500\n",
      "Progress: 32/500\n",
      "Progress: 33/500\n",
      "Progress: 34/500\n",
      "Progress: 35/500\n",
      "Progress: 36/500\n",
      "Progress: 37/500\n",
      "Progress: 38/500\n",
      "Progress: 39/500\n",
      "Progress: 40/500\n",
      "Progress: 41/500\n",
      "Progress: 42/500\n",
      "Progress: 43/500\n",
      "Progress: 44/500\n",
      "Progress: 45/500\n",
      "Progress: 46/500\n",
      "Progress: 47/500\n",
      "Progress: 48/500\n",
      "Progress: 49/500\n",
      "Progress: 50/500\n",
      "Progress: 51/500\n",
      "Progress: 52/500\n",
      "Progress: 53/500\n",
      "Progress: 54/500\n",
      "Progress: 55/500\n",
      "Progress: 56/500\n",
      "Progress: 57/500\n",
      "Progress: 58/500\n",
      "Progress: 59/500\n",
      "No of jobs per page:  30\n",
      "Progress: 60/500\n",
      "Progress: 61/500\n",
      "Progress: 62/500\n",
      "Progress: 63/500\n",
      "Progress: 64/500\n",
      "Progress: 65/500\n",
      "Progress: 66/500\n",
      "Progress: 67/500\n",
      "Progress: 68/500\n",
      "Progress: 69/500\n",
      "Progress: 70/500\n",
      "Progress: 71/500\n",
      "Progress: 72/500\n",
      "Progress: 73/500\n",
      "Progress: 74/500\n",
      "Progress: 75/500\n",
      "Progress: 76/500\n",
      "Progress: 77/500\n",
      "Progress: 78/500\n",
      "Progress: 79/500\n",
      "Progress: 80/500\n",
      "Progress: 81/500\n",
      "Progress: 82/500\n",
      "Progress: 83/500\n",
      "Progress: 84/500\n",
      "Progress: 85/500\n",
      "Progress: 86/500\n",
      "Progress: 87/500\n",
      "Progress: 88/500\n",
      "Progress: 89/500\n",
      "No of jobs per page:  30\n",
      "Progress: 90/500\n",
      "Progress: 91/500\n",
      "Progress: 92/500\n",
      "Progress: 93/500\n",
      "Progress: 94/500\n",
      "Progress: 95/500\n",
      "Progress: 96/500\n",
      "Progress: 97/500\n",
      "Progress: 98/500\n",
      "Progress: 99/500\n",
      "Progress: 100/500\n",
      "Progress: 101/500\n",
      "Progress: 102/500\n",
      "Progress: 103/500\n",
      "Progress: 104/500\n",
      "Progress: 105/500\n",
      "Progress: 106/500\n",
      "Progress: 107/500\n",
      "Progress: 108/500\n",
      "Progress: 109/500\n",
      "Progress: 110/500\n",
      "Progress: 111/500\n",
      "Progress: 112/500\n",
      "Progress: 113/500\n",
      "Progress: 114/500\n",
      "Progress: 115/500\n",
      "Progress: 116/500\n",
      "Progress: 117/500\n",
      "Progress: 118/500\n",
      "Progress: 119/500\n",
      "No of jobs per page:  30\n",
      "Progress: 120/500\n",
      "Progress: 121/500\n",
      "Progress: 122/500\n",
      "Progress: 123/500\n",
      "Progress: 124/500\n",
      "Progress: 125/500\n",
      "Progress: 126/500\n",
      "Progress: 127/500\n",
      "Progress: 128/500\n",
      "Progress: 129/500\n",
      "Progress: 130/500\n",
      "Progress: 131/500\n",
      "Progress: 132/500\n",
      "Progress: 133/500\n",
      "Progress: 134/500\n",
      "Progress: 135/500\n",
      "Progress: 136/500\n",
      "Progress: 137/500\n",
      "Progress: 138/500\n",
      "Progress: 139/500\n",
      "Progress: 140/500\n",
      "Progress: 141/500\n",
      "Progress: 142/500\n",
      "Progress: 143/500\n",
      "Progress: 144/500\n",
      "Progress: 145/500\n",
      "Progress: 146/500\n",
      "Progress: 147/500\n",
      "Progress: 148/500\n",
      "Progress: 149/500\n",
      "No of jobs per page:  30\n",
      "Progress: 150/500\n",
      "Progress: 151/500\n",
      "Progress: 152/500\n",
      "Progress: 153/500\n",
      "Progress: 154/500\n",
      "Progress: 155/500\n",
      "Progress: 156/500\n",
      "Progress: 157/500\n",
      "Progress: 158/500\n",
      "Progress: 159/500\n",
      "Progress: 160/500\n",
      "Progress: 161/500\n",
      "Progress: 162/500\n",
      "Progress: 163/500\n",
      "Progress: 164/500\n",
      "Progress: 165/500\n",
      "Progress: 166/500\n",
      "Progress: 167/500\n",
      "Progress: 168/500\n",
      "Progress: 169/500\n",
      "Progress: 170/500\n",
      "Progress: 171/500\n",
      "Progress: 172/500\n",
      "Progress: 173/500\n",
      "Progress: 174/500\n",
      "Progress: 175/500\n",
      "Progress: 176/500\n",
      "Progress: 177/500\n",
      "Progress: 178/500\n",
      "Progress: 179/500\n",
      "No of jobs per page:  30\n",
      "Progress: 180/500\n",
      "Progress: 181/500\n",
      "Progress: 182/500\n",
      "Progress: 183/500\n",
      "Progress: 184/500\n",
      "Progress: 185/500\n",
      "Progress: 186/500\n",
      "Progress: 187/500\n",
      "Progress: 188/500\n",
      "Progress: 189/500\n",
      "Progress: 190/500\n",
      "Progress: 191/500\n",
      "Progress: 192/500\n",
      "Progress: 193/500\n",
      "Progress: 194/500\n",
      "Progress: 195/500\n",
      "Progress: 196/500\n",
      "Progress: 197/500\n",
      "Progress: 198/500\n",
      "Progress: 199/500\n",
      "Progress: 200/500\n",
      "Progress: 201/500\n",
      "Progress: 202/500\n",
      "Progress: 203/500\n",
      "Progress: 204/500\n",
      "Progress: 205/500\n",
      "Progress: 206/500\n",
      "Progress: 207/500\n",
      "Progress: 208/500\n",
      "Progress: 209/500\n",
      "No of jobs per page:  30\n",
      "Progress: 210/500\n",
      "Progress: 211/500\n",
      "Progress: 212/500\n",
      "Progress: 213/500\n",
      "Progress: 214/500\n",
      "Progress: 215/500\n",
      "Progress: 216/500\n",
      "Progress: 217/500\n",
      "Progress: 218/500\n",
      "Progress: 219/500\n",
      "Progress: 220/500\n",
      "Progress: 221/500\n",
      "Progress: 222/500\n",
      "Progress: 223/500\n",
      "Progress: 224/500\n",
      "Progress: 225/500\n",
      "Progress: 226/500\n",
      "Progress: 227/500\n",
      "Progress: 228/500\n",
      "Progress: 229/500\n",
      "Progress: 230/500\n",
      "Progress: 231/500\n",
      "Progress: 232/500\n",
      "Progress: 233/500\n",
      "Progress: 234/500\n",
      "Progress: 235/500\n",
      "Progress: 236/500\n",
      "Progress: 237/500\n",
      "Progress: 238/500\n",
      "Progress: 239/500\n",
      "No of jobs per page:  30\n",
      "Progress: 240/500\n",
      "Progress: 241/500\n",
      "Progress: 242/500\n",
      "Progress: 243/500\n",
      "Progress: 244/500\n",
      "Progress: 245/500\n",
      "Progress: 246/500\n",
      "Progress: 247/500\n",
      "Progress: 248/500\n",
      "Progress: 249/500\n",
      "Progress: 250/500\n",
      "Progress: 251/500\n",
      "Progress: 252/500\n",
      "Progress: 253/500\n",
      "Progress: 254/500\n",
      "Progress: 255/500\n",
      "Progress: 256/500\n",
      "Progress: 257/500\n",
      "Progress: 258/500\n",
      "Progress: 259/500\n",
      "Progress: 260/500\n",
      "Progress: 261/500\n",
      "Progress: 262/500\n",
      "Progress: 263/500\n",
      "Progress: 264/500\n",
      "Progress: 265/500\n",
      "Progress: 266/500\n",
      "Progress: 267/500\n",
      "Progress: 268/500\n",
      "Progress: 269/500\n",
      "No of jobs per page:  30\n",
      "Progress: 270/500\n",
      "Progress: 271/500\n",
      "Progress: 272/500\n",
      "Progress: 273/500\n",
      "Progress: 274/500\n",
      "Progress: 275/500\n",
      "Progress: 276/500\n",
      "Progress: 277/500\n",
      "Progress: 278/500\n",
      "Progress: 279/500\n",
      "Progress: 280/500\n",
      "Progress: 281/500\n",
      "Progress: 282/500\n",
      "Progress: 283/500\n",
      "Progress: 284/500\n",
      "Progress: 285/500\n",
      "Progress: 286/500\n",
      "Progress: 287/500\n",
      "Progress: 288/500\n",
      "Progress: 289/500\n",
      "Progress: 290/500\n",
      "Progress: 291/500\n",
      "Progress: 292/500\n",
      "Progress: 293/500\n",
      "Progress: 294/500\n",
      "Progress: 295/500\n",
      "Progress: 296/500\n",
      "Progress: 297/500\n",
      "Progress: 298/500\n",
      "Progress: 299/500\n",
      "No of jobs per page:  30\n",
      "Progress: 300/500\n",
      "Progress: 301/500\n",
      "Progress: 302/500\n",
      "Progress: 303/500\n",
      "Progress: 304/500\n",
      "Progress: 305/500\n",
      "Progress: 306/500\n",
      "Progress: 307/500\n",
      "Progress: 308/500\n",
      "Progress: 309/500\n",
      "Progress: 310/500\n",
      "Progress: 311/500\n",
      "Progress: 312/500\n",
      "Progress: 313/500\n",
      "Progress: 314/500\n",
      "Progress: 315/500\n",
      "Progress: 316/500\n",
      "Progress: 317/500\n",
      "Progress: 318/500\n",
      "Progress: 319/500\n",
      "Progress: 320/500\n",
      "Progress: 321/500\n",
      "Progress: 322/500\n",
      "Progress: 323/500\n",
      "Progress: 324/500\n",
      "Progress: 325/500\n",
      "Progress: 326/500\n",
      "Progress: 327/500\n",
      "Progress: 328/500\n",
      "Progress: 329/500\n",
      "No of jobs per page:  30\n",
      "Progress: 330/500\n",
      "Progress: 331/500\n",
      "Progress: 332/500\n",
      "Progress: 333/500\n",
      "Progress: 334/500\n",
      "Progress: 335/500\n",
      "Progress: 336/500\n",
      "Progress: 337/500\n",
      "Progress: 338/500\n",
      "Progress: 339/500\n",
      "Progress: 340/500\n",
      "Progress: 341/500\n",
      "Progress: 342/500\n",
      "Progress: 343/500\n",
      "Progress: 344/500\n",
      "Progress: 345/500\n",
      "Progress: 346/500\n",
      "Progress: 347/500\n",
      "Progress: 348/500\n",
      "Progress: 349/500\n",
      "Progress: 350/500\n",
      "Progress: 351/500\n",
      "Progress: 352/500\n",
      "Progress: 353/500\n",
      "Progress: 354/500\n",
      "Progress: 355/500\n",
      "Progress: 356/500\n",
      "Progress: 357/500\n",
      "Progress: 358/500\n",
      "Progress: 359/500\n",
      "No of jobs per page:  30\n",
      "Progress: 360/500\n",
      "Progress: 361/500\n",
      "Progress: 362/500\n",
      "Progress: 363/500\n",
      "Progress: 364/500\n",
      "Progress: 365/500\n",
      "Progress: 366/500\n",
      "Progress: 367/500\n",
      "Progress: 368/500\n",
      "Progress: 369/500\n",
      "Progress: 370/500\n",
      "Progress: 371/500\n",
      "Progress: 372/500\n",
      "Progress: 373/500\n",
      "Progress: 374/500\n",
      "Progress: 375/500\n",
      "Progress: 376/500\n",
      "Progress: 377/500\n",
      "Progress: 378/500\n",
      "Progress: 379/500\n",
      "Progress: 380/500\n",
      "Progress: 381/500\n",
      "Progress: 382/500\n",
      "Progress: 383/500\n",
      "Progress: 384/500\n",
      "Progress: 385/500\n",
      "Progress: 386/500\n",
      "Progress: 387/500\n",
      "Progress: 388/500\n",
      "Progress: 389/500\n",
      "No of jobs per page:  30\n",
      "Progress: 390/500\n",
      "Progress: 391/500\n",
      "Progress: 392/500\n",
      "Progress: 393/500\n",
      "Progress: 394/500\n",
      "Progress: 395/500\n",
      "Progress: 396/500\n",
      "Progress: 397/500\n",
      "Progress: 398/500\n",
      "Progress: 399/500\n",
      "Progress: 400/500\n",
      "Progress: 401/500\n",
      "Progress: 402/500\n",
      "Progress: 403/500\n",
      "Progress: 404/500\n",
      "Progress: 405/500\n",
      "Progress: 406/500\n",
      "Progress: 407/500\n",
      "Progress: 408/500\n",
      "Progress: 409/500\n",
      "Progress: 410/500\n",
      "Progress: 411/500\n",
      "Progress: 412/500\n",
      "Progress: 413/500\n",
      "Progress: 414/500\n",
      "Progress: 415/500\n",
      "Progress: 416/500\n",
      "Progress: 417/500\n",
      "Progress: 418/500\n",
      "Progress: 419/500\n",
      "No of jobs per page:  30\n",
      "Progress: 420/500\n",
      "Progress: 421/500\n",
      "Progress: 422/500\n",
      "Progress: 423/500\n",
      "Progress: 424/500\n",
      "Progress: 425/500\n",
      "Progress: 426/500\n",
      "Progress: 427/500\n",
      "Progress: 428/500\n",
      "Progress: 429/500\n",
      "Progress: 430/500\n",
      "Progress: 431/500\n",
      "Progress: 432/500\n",
      "Progress: 433/500\n",
      "Progress: 434/500\n",
      "Progress: 435/500\n",
      "Progress: 436/500\n",
      "Progress: 437/500\n",
      "Progress: 438/500\n",
      "Progress: 439/500\n",
      "Progress: 440/500\n"
     ]
    },
    {
     "name": "stdout",
     "output_type": "stream",
     "text": [
      "Progress: 441/500\n",
      "Progress: 442/500\n",
      "Progress: 443/500\n",
      "Progress: 444/500\n",
      "Progress: 445/500\n",
      "Progress: 446/500\n",
      "Progress: 447/500\n",
      "Progress: 448/500\n",
      "Progress: 449/500\n",
      "No of jobs per page:  30\n",
      "Progress: 450/500\n",
      "Progress: 451/500\n",
      "Progress: 452/500\n",
      "Progress: 453/500\n",
      "Progress: 454/500\n",
      "Progress: 455/500\n",
      "Progress: 456/500\n",
      "Progress: 457/500\n",
      "Progress: 458/500\n",
      "Progress: 459/500\n",
      "Progress: 460/500\n",
      "Progress: 461/500\n",
      "Progress: 462/500\n",
      "Progress: 463/500\n",
      "Progress: 464/500\n",
      "Progress: 465/500\n",
      "Progress: 466/500\n",
      "Progress: 467/500\n",
      "Progress: 468/500\n",
      "Progress: 469/500\n",
      "Progress: 470/500\n",
      "Progress: 471/500\n",
      "Progress: 472/500\n",
      "Progress: 473/500\n",
      "Progress: 474/500\n",
      "Progress: 475/500\n",
      "Progress: 476/500\n",
      "Progress: 477/500\n",
      "Progress: 478/500\n",
      "Progress: 479/500\n",
      "No of jobs per page:  30\n",
      "Progress: 480/500\n",
      "Progress: 481/500\n",
      "Progress: 482/500\n",
      "Progress: 483/500\n",
      "Progress: 484/500\n",
      "Progress: 485/500\n",
      "Progress: 486/500\n",
      "Progress: 487/500\n",
      "Progress: 488/500\n",
      "Progress: 489/500\n",
      "Progress: 490/500\n",
      "Progress: 491/500\n",
      "Progress: 492/500\n",
      "Progress: 493/500\n",
      "Progress: 494/500\n",
      "Progress: 495/500\n",
      "Progress: 496/500\n",
      "Progress: 497/500\n",
      "Progress: 498/500\n",
      "Progress: 499/500\n",
      "Progress: 500/500\n"
     ]
    }
   ],
   "source": [
    "df = get_jobs(\"data scientist\", 500, False)\n",
    "df\n",
    "df.to_csv(\"glassdoor_jobs.csv\", index=False)"
   ]
  },
  {
   "cell_type": "markdown",
   "id": "6e242c4a",
   "metadata": {},
   "source": [
    "# Data Cleaning"
   ]
  },
  {
   "cell_type": "code",
   "execution_count": 4,
   "id": "512bafef",
   "metadata": {},
   "outputs": [
    {
     "data": {
      "text/html": [
       "<div>\n",
       "<style scoped>\n",
       "    .dataframe tbody tr th:only-of-type {\n",
       "        vertical-align: middle;\n",
       "    }\n",
       "\n",
       "    .dataframe tbody tr th {\n",
       "        vertical-align: top;\n",
       "    }\n",
       "\n",
       "    .dataframe thead th {\n",
       "        text-align: right;\n",
       "    }\n",
       "</style>\n",
       "<table border=\"1\" class=\"dataframe\">\n",
       "  <thead>\n",
       "    <tr style=\"text-align: right;\">\n",
       "      <th></th>\n",
       "      <th>Job Title</th>\n",
       "      <th>Salary Estimate</th>\n",
       "      <th>Job Description</th>\n",
       "      <th>Rating</th>\n",
       "      <th>Company Name</th>\n",
       "      <th>Location</th>\n",
       "      <th>Size</th>\n",
       "      <th>Founded</th>\n",
       "      <th>Type of ownership</th>\n",
       "      <th>Industry</th>\n",
       "      <th>Sector</th>\n",
       "      <th>Revenue</th>\n",
       "    </tr>\n",
       "  </thead>\n",
       "  <tbody>\n",
       "    <tr>\n",
       "      <th>0</th>\n",
       "      <td>Associate Data Scientist</td>\n",
       "      <td>Employer Provided Salary:$80K - $110K</td>\n",
       "      <td>The Role\\nWe are seeking a motivated and analy...</td>\n",
       "      <td>4.8</td>\n",
       "      <td>Polco\\n4.8</td>\n",
       "      <td>Remote</td>\n",
       "      <td>51 to 200 Employees</td>\n",
       "      <td>-1</td>\n",
       "      <td>Company - Private</td>\n",
       "      <td>Municipal Agencies</td>\n",
       "      <td>Government &amp; Public Administration</td>\n",
       "      <td>Unknown / Non-Applicable</td>\n",
       "    </tr>\n",
       "    <tr>\n",
       "      <th>1</th>\n",
       "      <td>Data Scientist</td>\n",
       "      <td>Employer Provided Salary:$88K - $110K</td>\n",
       "      <td>We Are Overstock:\\nAt Overstock.com, we believ...</td>\n",
       "      <td>3.2</td>\n",
       "      <td>Overstock.com Inc.\\n3.2</td>\n",
       "      <td>Remote</td>\n",
       "      <td>1001 to 5000 Employees</td>\n",
       "      <td>1999</td>\n",
       "      <td>Company - Public</td>\n",
       "      <td>Home Furniture &amp; Housewares Stores</td>\n",
       "      <td>Retail &amp; Wholesale</td>\n",
       "      <td>$1 to $5 billion (USD)</td>\n",
       "    </tr>\n",
       "    <tr>\n",
       "      <th>2</th>\n",
       "      <td>Data Scientist</td>\n",
       "      <td>-1</td>\n",
       "      <td>Job Description\\n\\nAs the EMP MDA Data Scienti...</td>\n",
       "      <td>4.2</td>\n",
       "      <td>INTEL\\n4.2</td>\n",
       "      <td>Remote</td>\n",
       "      <td>10000+ Employees</td>\n",
       "      <td>1968</td>\n",
       "      <td>Company - Public</td>\n",
       "      <td>Computer Hardware Development</td>\n",
       "      <td>Information Technology</td>\n",
       "      <td>$10+ billion (USD)</td>\n",
       "    </tr>\n",
       "    <tr>\n",
       "      <th>3</th>\n",
       "      <td>Data Scientist</td>\n",
       "      <td>Employer Provided Salary:$75.00 - $80.00 Per Hour</td>\n",
       "      <td>Required\\nSelf-motivated individual who functi...</td>\n",
       "      <td>-1.0</td>\n",
       "      <td>PROLIM Corporation</td>\n",
       "      <td>Remote</td>\n",
       "      <td>-1</td>\n",
       "      <td>-1</td>\n",
       "      <td>-1</td>\n",
       "      <td>-1</td>\n",
       "      <td>-1</td>\n",
       "      <td>-1</td>\n",
       "    </tr>\n",
       "    <tr>\n",
       "      <th>4</th>\n",
       "      <td>Data Scientist I</td>\n",
       "      <td>Employer Provided Salary:$64K - $116K</td>\n",
       "      <td>PURPOSE:\\nThe Data Scientist I will be respons...</td>\n",
       "      <td>3.2</td>\n",
       "      <td>UNFI\\n3.2</td>\n",
       "      <td>Providence, RI</td>\n",
       "      <td>10000+ Employees</td>\n",
       "      <td>1978</td>\n",
       "      <td>Company - Public</td>\n",
       "      <td>Wholesale</td>\n",
       "      <td>Retail &amp; Wholesale</td>\n",
       "      <td>$10+ billion (USD)</td>\n",
       "    </tr>\n",
       "  </tbody>\n",
       "</table>\n",
       "</div>"
      ],
      "text/plain": [
       "                  Job Title  \\\n",
       "0  Associate Data Scientist   \n",
       "1            Data Scientist   \n",
       "2            Data Scientist   \n",
       "3            Data Scientist   \n",
       "4          Data Scientist I   \n",
       "\n",
       "                                     Salary Estimate  \\\n",
       "0              Employer Provided Salary:$80K - $110K   \n",
       "1              Employer Provided Salary:$88K - $110K   \n",
       "2                                                 -1   \n",
       "3  Employer Provided Salary:$75.00 - $80.00 Per Hour   \n",
       "4              Employer Provided Salary:$64K - $116K   \n",
       "\n",
       "                                     Job Description  Rating  \\\n",
       "0  The Role\\nWe are seeking a motivated and analy...     4.8   \n",
       "1  We Are Overstock:\\nAt Overstock.com, we believ...     3.2   \n",
       "2  Job Description\\n\\nAs the EMP MDA Data Scienti...     4.2   \n",
       "3  Required\\nSelf-motivated individual who functi...    -1.0   \n",
       "4  PURPOSE:\\nThe Data Scientist I will be respons...     3.2   \n",
       "\n",
       "              Company Name        Location                    Size  Founded  \\\n",
       "0               Polco\\n4.8          Remote     51 to 200 Employees       -1   \n",
       "1  Overstock.com Inc.\\n3.2          Remote  1001 to 5000 Employees     1999   \n",
       "2               INTEL\\n4.2          Remote        10000+ Employees     1968   \n",
       "3       PROLIM Corporation          Remote                      -1       -1   \n",
       "4                UNFI\\n3.2  Providence, RI        10000+ Employees     1978   \n",
       "\n",
       "   Type of ownership                            Industry  \\\n",
       "0  Company - Private                  Municipal Agencies   \n",
       "1   Company - Public  Home Furniture & Housewares Stores   \n",
       "2   Company - Public       Computer Hardware Development   \n",
       "3                 -1                                  -1   \n",
       "4   Company - Public                           Wholesale   \n",
       "\n",
       "                               Sector                   Revenue  \n",
       "0  Government & Public Administration  Unknown / Non-Applicable  \n",
       "1                  Retail & Wholesale    $1 to $5 billion (USD)  \n",
       "2              Information Technology        $10+ billion (USD)  \n",
       "3                                  -1                        -1  \n",
       "4                  Retail & Wholesale        $10+ billion (USD)  "
      ]
     },
     "execution_count": 4,
     "metadata": {},
     "output_type": "execute_result"
    }
   ],
   "source": [
    "df = pd.read_csv(\"glassdoor_jobs.csv\")\n",
    "df.head()"
   ]
  },
  {
   "cell_type": "code",
   "execution_count": 99,
   "id": "5fb6b79d",
   "metadata": {},
   "outputs": [
    {
     "name": "stdout",
     "output_type": "stream",
     "text": [
      "<class 'pandas.core.frame.DataFrame'>\n",
      "RangeIndex: 500 entries, 0 to 499\n",
      "Data columns (total 12 columns):\n",
      " #   Column             Non-Null Count  Dtype  \n",
      "---  ------             --------------  -----  \n",
      " 0   Job Title          500 non-null    object \n",
      " 1   Salary Estimate    500 non-null    object \n",
      " 2   Job Description    500 non-null    object \n",
      " 3   Rating             500 non-null    float64\n",
      " 4   Company Name       500 non-null    object \n",
      " 5   Location           500 non-null    object \n",
      " 6   Size               500 non-null    object \n",
      " 7   Founded            500 non-null    int64  \n",
      " 8   Type of ownership  500 non-null    object \n",
      " 9   Industry           500 non-null    object \n",
      " 10  Sector             500 non-null    object \n",
      " 11  Revenue            500 non-null    object \n",
      "dtypes: float64(1), int64(1), object(10)\n",
      "memory usage: 47.0+ KB\n"
     ]
    }
   ],
   "source": [
    "df.info()"
   ]
  },
  {
   "cell_type": "markdown",
   "id": "43e59314",
   "metadata": {},
   "source": [
    "## Cleaning the Salary Estimate column"
   ]
  },
  {
   "cell_type": "code",
   "execution_count": 100,
   "id": "4fc09a1c",
   "metadata": {},
   "outputs": [
    {
     "data": {
      "text/plain": [
       "(389, 12)"
      ]
     },
     "execution_count": 100,
     "metadata": {},
     "output_type": "execute_result"
    }
   ],
   "source": [
    "#removing columns having no salary estimate value\n",
    "\n",
    "df = df[df[\"Salary Estimate\"] != \"-1\"]\n",
    "df.shape"
   ]
  },
  {
   "cell_type": "code",
   "execution_count": 101,
   "id": "0ea371de",
   "metadata": {},
   "outputs": [
    {
     "data": {
      "text/html": [
       "<div>\n",
       "<style scoped>\n",
       "    .dataframe tbody tr th:only-of-type {\n",
       "        vertical-align: middle;\n",
       "    }\n",
       "\n",
       "    .dataframe tbody tr th {\n",
       "        vertical-align: top;\n",
       "    }\n",
       "\n",
       "    .dataframe thead th {\n",
       "        text-align: right;\n",
       "    }\n",
       "</style>\n",
       "<table border=\"1\" class=\"dataframe\">\n",
       "  <thead>\n",
       "    <tr style=\"text-align: right;\">\n",
       "      <th></th>\n",
       "      <th>Job Title</th>\n",
       "      <th>Salary Estimate</th>\n",
       "      <th>Job Description</th>\n",
       "      <th>Rating</th>\n",
       "      <th>Company Name</th>\n",
       "      <th>Location</th>\n",
       "      <th>Size</th>\n",
       "      <th>Founded</th>\n",
       "      <th>Type of ownership</th>\n",
       "      <th>Industry</th>\n",
       "      <th>Sector</th>\n",
       "      <th>Revenue</th>\n",
       "      <th>Employer Provided</th>\n",
       "      <th>Hourly</th>\n",
       "      <th>min_sal</th>\n",
       "      <th>max_sal</th>\n",
       "      <th>avg_sal</th>\n",
       "    </tr>\n",
       "  </thead>\n",
       "  <tbody>\n",
       "    <tr>\n",
       "      <th>0</th>\n",
       "      <td>Associate Data Scientist</td>\n",
       "      <td>Employer Provided Salary:$80K - $110K</td>\n",
       "      <td>The Role\\nWe are seeking a motivated and analy...</td>\n",
       "      <td>4.8</td>\n",
       "      <td>Polco\\n4.8</td>\n",
       "      <td>Remote</td>\n",
       "      <td>51 to 200 Employees</td>\n",
       "      <td>-1</td>\n",
       "      <td>Company - Private</td>\n",
       "      <td>Municipal Agencies</td>\n",
       "      <td>Government &amp; Public Administration</td>\n",
       "      <td>Unknown / Non-Applicable</td>\n",
       "      <td>1</td>\n",
       "      <td>0</td>\n",
       "      <td>80.0</td>\n",
       "      <td>110.0</td>\n",
       "      <td>95.0</td>\n",
       "    </tr>\n",
       "    <tr>\n",
       "      <th>1</th>\n",
       "      <td>Data Scientist</td>\n",
       "      <td>Employer Provided Salary:$88K - $110K</td>\n",
       "      <td>We Are Overstock:\\nAt Overstock.com, we believ...</td>\n",
       "      <td>3.2</td>\n",
       "      <td>Overstock.com Inc.\\n3.2</td>\n",
       "      <td>Remote</td>\n",
       "      <td>1001 to 5000 Employees</td>\n",
       "      <td>1999</td>\n",
       "      <td>Company - Public</td>\n",
       "      <td>Home Furniture &amp; Housewares Stores</td>\n",
       "      <td>Retail &amp; Wholesale</td>\n",
       "      <td>$1 to $5 billion (USD)</td>\n",
       "      <td>1</td>\n",
       "      <td>0</td>\n",
       "      <td>88.0</td>\n",
       "      <td>110.0</td>\n",
       "      <td>99.0</td>\n",
       "    </tr>\n",
       "    <tr>\n",
       "      <th>3</th>\n",
       "      <td>Data Scientist</td>\n",
       "      <td>Employer Provided Salary:$75.00 - $80.00 Per Hour</td>\n",
       "      <td>Required\\nSelf-motivated individual who functi...</td>\n",
       "      <td>-1.0</td>\n",
       "      <td>PROLIM Corporation</td>\n",
       "      <td>Remote</td>\n",
       "      <td>-1</td>\n",
       "      <td>-1</td>\n",
       "      <td>-1</td>\n",
       "      <td>-1</td>\n",
       "      <td>-1</td>\n",
       "      <td>-1</td>\n",
       "      <td>1</td>\n",
       "      <td>1</td>\n",
       "      <td>75.0</td>\n",
       "      <td>80.0</td>\n",
       "      <td>77.5</td>\n",
       "    </tr>\n",
       "    <tr>\n",
       "      <th>4</th>\n",
       "      <td>Data Scientist I</td>\n",
       "      <td>Employer Provided Salary:$64K - $116K</td>\n",
       "      <td>PURPOSE:\\nThe Data Scientist I will be respons...</td>\n",
       "      <td>3.2</td>\n",
       "      <td>UNFI\\n3.2</td>\n",
       "      <td>Providence, RI</td>\n",
       "      <td>10000+ Employees</td>\n",
       "      <td>1978</td>\n",
       "      <td>Company - Public</td>\n",
       "      <td>Wholesale</td>\n",
       "      <td>Retail &amp; Wholesale</td>\n",
       "      <td>$10+ billion (USD)</td>\n",
       "      <td>1</td>\n",
       "      <td>0</td>\n",
       "      <td>64.0</td>\n",
       "      <td>116.0</td>\n",
       "      <td>90.0</td>\n",
       "    </tr>\n",
       "    <tr>\n",
       "      <th>5</th>\n",
       "      <td>Data Scientist</td>\n",
       "      <td>Employer Provided Salary:$60K - $140K</td>\n",
       "      <td>iOS: https://apps.apple.com/us/app/id155187173...</td>\n",
       "      <td>-1.0</td>\n",
       "      <td>Redvest App</td>\n",
       "      <td>Remote</td>\n",
       "      <td>-1</td>\n",
       "      <td>-1</td>\n",
       "      <td>-1</td>\n",
       "      <td>-1</td>\n",
       "      <td>-1</td>\n",
       "      <td>-1</td>\n",
       "      <td>1</td>\n",
       "      <td>0</td>\n",
       "      <td>60.0</td>\n",
       "      <td>140.0</td>\n",
       "      <td>100.0</td>\n",
       "    </tr>\n",
       "  </tbody>\n",
       "</table>\n",
       "</div>"
      ],
      "text/plain": [
       "                  Job Title  \\\n",
       "0  Associate Data Scientist   \n",
       "1            Data Scientist   \n",
       "3            Data Scientist   \n",
       "4          Data Scientist I   \n",
       "5            Data Scientist   \n",
       "\n",
       "                                     Salary Estimate  \\\n",
       "0              Employer Provided Salary:$80K - $110K   \n",
       "1              Employer Provided Salary:$88K - $110K   \n",
       "3  Employer Provided Salary:$75.00 - $80.00 Per Hour   \n",
       "4              Employer Provided Salary:$64K - $116K   \n",
       "5              Employer Provided Salary:$60K - $140K   \n",
       "\n",
       "                                     Job Description  Rating  \\\n",
       "0  The Role\\nWe are seeking a motivated and analy...     4.8   \n",
       "1  We Are Overstock:\\nAt Overstock.com, we believ...     3.2   \n",
       "3  Required\\nSelf-motivated individual who functi...    -1.0   \n",
       "4  PURPOSE:\\nThe Data Scientist I will be respons...     3.2   \n",
       "5  iOS: https://apps.apple.com/us/app/id155187173...    -1.0   \n",
       "\n",
       "              Company Name        Location                    Size  Founded  \\\n",
       "0               Polco\\n4.8          Remote     51 to 200 Employees       -1   \n",
       "1  Overstock.com Inc.\\n3.2          Remote  1001 to 5000 Employees     1999   \n",
       "3       PROLIM Corporation          Remote                      -1       -1   \n",
       "4                UNFI\\n3.2  Providence, RI        10000+ Employees     1978   \n",
       "5              Redvest App          Remote                      -1       -1   \n",
       "\n",
       "   Type of ownership                            Industry  \\\n",
       "0  Company - Private                  Municipal Agencies   \n",
       "1   Company - Public  Home Furniture & Housewares Stores   \n",
       "3                 -1                                  -1   \n",
       "4   Company - Public                           Wholesale   \n",
       "5                 -1                                  -1   \n",
       "\n",
       "                               Sector                   Revenue  \\\n",
       "0  Government & Public Administration  Unknown / Non-Applicable   \n",
       "1                  Retail & Wholesale    $1 to $5 billion (USD)   \n",
       "3                                  -1                        -1   \n",
       "4                  Retail & Wholesale        $10+ billion (USD)   \n",
       "5                                  -1                        -1   \n",
       "\n",
       "   Employer Provided  Hourly  min_sal  max_sal  avg_sal  \n",
       "0                  1       0     80.0    110.0     95.0  \n",
       "1                  1       0     88.0    110.0     99.0  \n",
       "3                  1       1     75.0     80.0     77.5  \n",
       "4                  1       0     64.0    116.0     90.0  \n",
       "5                  1       0     60.0    140.0    100.0  "
      ]
     },
     "execution_count": 101,
     "metadata": {},
     "output_type": "execute_result"
    }
   ],
   "source": [
    "# x.lower used to convert text to lowercase\n",
    "#x.strip removes whitespace from strings\n",
    "\n",
    "#categorising salary based on type\n",
    "df[\"Employer Provided\"] = df[\"Salary Estimate\"].apply(lambda x : 1 if 'employer provided salary' in x.lower() else 0)\n",
    "df[\"Hourly\"] = df[\"Salary Estimate\"].apply(lambda x : 1 if 'per hour' in x.lower() else 0)\n",
    "\n",
    "#cleaning\n",
    "salary = df[\"Salary Estimate\"].apply(lambda x: x.lower().replace('employer provided salary:','').replace('per hour','').replace('(glassdoor est.)',''))\n",
    "without_k = salary.apply(lambda x: x.replace('$','').replace('k',''))\n",
    "\n",
    "df[\"min_sal\"] = without_k.apply(lambda x: float(x.split('-')[0].strip()))\n",
    "df[\"max_sal\"] = without_k.apply(lambda x: float(x.split('-')[0].strip()) if len(x.split('-'))!=2 else float(x.split('-')[1].strip()))\n",
    "df[\"avg_sal\"] = (df.min_sal + df.max_sal)/2\n",
    "\n",
    "df.head()"
   ]
  },
  {
   "cell_type": "markdown",
   "id": "b7d7c16e",
   "metadata": {},
   "source": [
    "## Cleaning company name column"
   ]
  },
  {
   "cell_type": "code",
   "execution_count": 102,
   "id": "aa2ba340",
   "metadata": {},
   "outputs": [
    {
     "data": {
      "text/html": [
       "<div>\n",
       "<style scoped>\n",
       "    .dataframe tbody tr th:only-of-type {\n",
       "        vertical-align: middle;\n",
       "    }\n",
       "\n",
       "    .dataframe tbody tr th {\n",
       "        vertical-align: top;\n",
       "    }\n",
       "\n",
       "    .dataframe thead th {\n",
       "        text-align: right;\n",
       "    }\n",
       "</style>\n",
       "<table border=\"1\" class=\"dataframe\">\n",
       "  <thead>\n",
       "    <tr style=\"text-align: right;\">\n",
       "      <th></th>\n",
       "      <th>Job Title</th>\n",
       "      <th>Salary Estimate</th>\n",
       "      <th>Job Description</th>\n",
       "      <th>Rating</th>\n",
       "      <th>Company Name</th>\n",
       "      <th>Location</th>\n",
       "      <th>Size</th>\n",
       "      <th>Founded</th>\n",
       "      <th>Type of ownership</th>\n",
       "      <th>Industry</th>\n",
       "      <th>Sector</th>\n",
       "      <th>Revenue</th>\n",
       "      <th>Employer Provided</th>\n",
       "      <th>Hourly</th>\n",
       "      <th>min_sal</th>\n",
       "      <th>max_sal</th>\n",
       "      <th>avg_sal</th>\n",
       "    </tr>\n",
       "  </thead>\n",
       "  <tbody>\n",
       "    <tr>\n",
       "      <th>0</th>\n",
       "      <td>Associate Data Scientist</td>\n",
       "      <td>Employer Provided Salary:$80K - $110K</td>\n",
       "      <td>The Role\\nWe are seeking a motivated and analy...</td>\n",
       "      <td>4.8</td>\n",
       "      <td>Polco</td>\n",
       "      <td>Remote</td>\n",
       "      <td>51 to 200 Employees</td>\n",
       "      <td>-1</td>\n",
       "      <td>Company - Private</td>\n",
       "      <td>Municipal Agencies</td>\n",
       "      <td>Government &amp; Public Administration</td>\n",
       "      <td>Unknown / Non-Applicable</td>\n",
       "      <td>1</td>\n",
       "      <td>0</td>\n",
       "      <td>80.0</td>\n",
       "      <td>110.0</td>\n",
       "      <td>95.0</td>\n",
       "    </tr>\n",
       "    <tr>\n",
       "      <th>1</th>\n",
       "      <td>Data Scientist</td>\n",
       "      <td>Employer Provided Salary:$88K - $110K</td>\n",
       "      <td>We Are Overstock:\\nAt Overstock.com, we believ...</td>\n",
       "      <td>3.2</td>\n",
       "      <td>Overstock.com Inc.</td>\n",
       "      <td>Remote</td>\n",
       "      <td>1001 to 5000 Employees</td>\n",
       "      <td>1999</td>\n",
       "      <td>Company - Public</td>\n",
       "      <td>Home Furniture &amp; Housewares Stores</td>\n",
       "      <td>Retail &amp; Wholesale</td>\n",
       "      <td>$1 to $5 billion (USD)</td>\n",
       "      <td>1</td>\n",
       "      <td>0</td>\n",
       "      <td>88.0</td>\n",
       "      <td>110.0</td>\n",
       "      <td>99.0</td>\n",
       "    </tr>\n",
       "    <tr>\n",
       "      <th>3</th>\n",
       "      <td>Data Scientist</td>\n",
       "      <td>Employer Provided Salary:$75.00 - $80.00 Per Hour</td>\n",
       "      <td>Required\\nSelf-motivated individual who functi...</td>\n",
       "      <td>-1.0</td>\n",
       "      <td>PROLIM Corporation</td>\n",
       "      <td>Remote</td>\n",
       "      <td>-1</td>\n",
       "      <td>-1</td>\n",
       "      <td>-1</td>\n",
       "      <td>-1</td>\n",
       "      <td>-1</td>\n",
       "      <td>-1</td>\n",
       "      <td>1</td>\n",
       "      <td>1</td>\n",
       "      <td>75.0</td>\n",
       "      <td>80.0</td>\n",
       "      <td>77.5</td>\n",
       "    </tr>\n",
       "    <tr>\n",
       "      <th>4</th>\n",
       "      <td>Data Scientist I</td>\n",
       "      <td>Employer Provided Salary:$64K - $116K</td>\n",
       "      <td>PURPOSE:\\nThe Data Scientist I will be respons...</td>\n",
       "      <td>3.2</td>\n",
       "      <td>UNFI</td>\n",
       "      <td>Providence, RI</td>\n",
       "      <td>10000+ Employees</td>\n",
       "      <td>1978</td>\n",
       "      <td>Company - Public</td>\n",
       "      <td>Wholesale</td>\n",
       "      <td>Retail &amp; Wholesale</td>\n",
       "      <td>$10+ billion (USD)</td>\n",
       "      <td>1</td>\n",
       "      <td>0</td>\n",
       "      <td>64.0</td>\n",
       "      <td>116.0</td>\n",
       "      <td>90.0</td>\n",
       "    </tr>\n",
       "    <tr>\n",
       "      <th>5</th>\n",
       "      <td>Data Scientist</td>\n",
       "      <td>Employer Provided Salary:$60K - $140K</td>\n",
       "      <td>iOS: https://apps.apple.com/us/app/id155187173...</td>\n",
       "      <td>-1.0</td>\n",
       "      <td>Redvest App</td>\n",
       "      <td>Remote</td>\n",
       "      <td>-1</td>\n",
       "      <td>-1</td>\n",
       "      <td>-1</td>\n",
       "      <td>-1</td>\n",
       "      <td>-1</td>\n",
       "      <td>-1</td>\n",
       "      <td>1</td>\n",
       "      <td>0</td>\n",
       "      <td>60.0</td>\n",
       "      <td>140.0</td>\n",
       "      <td>100.0</td>\n",
       "    </tr>\n",
       "  </tbody>\n",
       "</table>\n",
       "</div>"
      ],
      "text/plain": [
       "                  Job Title  \\\n",
       "0  Associate Data Scientist   \n",
       "1            Data Scientist   \n",
       "3            Data Scientist   \n",
       "4          Data Scientist I   \n",
       "5            Data Scientist   \n",
       "\n",
       "                                     Salary Estimate  \\\n",
       "0              Employer Provided Salary:$80K - $110K   \n",
       "1              Employer Provided Salary:$88K - $110K   \n",
       "3  Employer Provided Salary:$75.00 - $80.00 Per Hour   \n",
       "4              Employer Provided Salary:$64K - $116K   \n",
       "5              Employer Provided Salary:$60K - $140K   \n",
       "\n",
       "                                     Job Description  Rating  \\\n",
       "0  The Role\\nWe are seeking a motivated and analy...     4.8   \n",
       "1  We Are Overstock:\\nAt Overstock.com, we believ...     3.2   \n",
       "3  Required\\nSelf-motivated individual who functi...    -1.0   \n",
       "4  PURPOSE:\\nThe Data Scientist I will be respons...     3.2   \n",
       "5  iOS: https://apps.apple.com/us/app/id155187173...    -1.0   \n",
       "\n",
       "         Company Name        Location                    Size  Founded  \\\n",
       "0               Polco          Remote     51 to 200 Employees       -1   \n",
       "1  Overstock.com Inc.          Remote  1001 to 5000 Employees     1999   \n",
       "3  PROLIM Corporation          Remote                      -1       -1   \n",
       "4                UNFI  Providence, RI        10000+ Employees     1978   \n",
       "5         Redvest App          Remote                      -1       -1   \n",
       "\n",
       "   Type of ownership                            Industry  \\\n",
       "0  Company - Private                  Municipal Agencies   \n",
       "1   Company - Public  Home Furniture & Housewares Stores   \n",
       "3                 -1                                  -1   \n",
       "4   Company - Public                           Wholesale   \n",
       "5                 -1                                  -1   \n",
       "\n",
       "                               Sector                   Revenue  \\\n",
       "0  Government & Public Administration  Unknown / Non-Applicable   \n",
       "1                  Retail & Wholesale    $1 to $5 billion (USD)   \n",
       "3                                  -1                        -1   \n",
       "4                  Retail & Wholesale        $10+ billion (USD)   \n",
       "5                                  -1                        -1   \n",
       "\n",
       "   Employer Provided  Hourly  min_sal  max_sal  avg_sal  \n",
       "0                  1       0     80.0    110.0     95.0  \n",
       "1                  1       0     88.0    110.0     99.0  \n",
       "3                  1       1     75.0     80.0     77.5  \n",
       "4                  1       0     64.0    116.0     90.0  \n",
       "5                  1       0     60.0    140.0    100.0  "
      ]
     },
     "execution_count": 102,
     "metadata": {},
     "output_type": "execute_result"
    }
   ],
   "source": [
    "df[\"Company Name\"] = df[\"Company Name\"].apply(lambda x : x.split('\\n')[0] if '\\n' in x.lower() else x)\n",
    "df.head()"
   ]
  },
  {
   "cell_type": "markdown",
   "id": "46d5a7ec",
   "metadata": {},
   "source": [
    "## Cleaning Location field"
   ]
  },
  {
   "cell_type": "code",
   "execution_count": 103,
   "id": "6c4f99bf",
   "metadata": {},
   "outputs": [
    {
     "data": {
      "text/html": [
       "<div>\n",
       "<style scoped>\n",
       "    .dataframe tbody tr th:only-of-type {\n",
       "        vertical-align: middle;\n",
       "    }\n",
       "\n",
       "    .dataframe tbody tr th {\n",
       "        vertical-align: top;\n",
       "    }\n",
       "\n",
       "    .dataframe thead th {\n",
       "        text-align: right;\n",
       "    }\n",
       "</style>\n",
       "<table border=\"1\" class=\"dataframe\">\n",
       "  <thead>\n",
       "    <tr style=\"text-align: right;\">\n",
       "      <th></th>\n",
       "      <th>Job Title</th>\n",
       "      <th>Salary Estimate</th>\n",
       "      <th>Job Description</th>\n",
       "      <th>Rating</th>\n",
       "      <th>Company Name</th>\n",
       "      <th>Location</th>\n",
       "      <th>Size</th>\n",
       "      <th>Founded</th>\n",
       "      <th>Type of ownership</th>\n",
       "      <th>Industry</th>\n",
       "      <th>Sector</th>\n",
       "      <th>Revenue</th>\n",
       "      <th>Employer Provided</th>\n",
       "      <th>Hourly</th>\n",
       "      <th>min_sal</th>\n",
       "      <th>max_sal</th>\n",
       "      <th>avg_sal</th>\n",
       "      <th>Onsite</th>\n",
       "    </tr>\n",
       "  </thead>\n",
       "  <tbody>\n",
       "    <tr>\n",
       "      <th>0</th>\n",
       "      <td>Associate Data Scientist</td>\n",
       "      <td>Employer Provided Salary:$80K - $110K</td>\n",
       "      <td>The Role\\nWe are seeking a motivated and analy...</td>\n",
       "      <td>4.8</td>\n",
       "      <td>Polco</td>\n",
       "      <td>Remote</td>\n",
       "      <td>51 to 200 Employees</td>\n",
       "      <td>-1</td>\n",
       "      <td>Company - Private</td>\n",
       "      <td>Municipal Agencies</td>\n",
       "      <td>Government &amp; Public Administration</td>\n",
       "      <td>Unknown / Non-Applicable</td>\n",
       "      <td>1</td>\n",
       "      <td>0</td>\n",
       "      <td>80.0</td>\n",
       "      <td>110.0</td>\n",
       "      <td>95.0</td>\n",
       "      <td>0</td>\n",
       "    </tr>\n",
       "    <tr>\n",
       "      <th>1</th>\n",
       "      <td>Data Scientist</td>\n",
       "      <td>Employer Provided Salary:$88K - $110K</td>\n",
       "      <td>We Are Overstock:\\nAt Overstock.com, we believ...</td>\n",
       "      <td>3.2</td>\n",
       "      <td>Overstock.com Inc.</td>\n",
       "      <td>Remote</td>\n",
       "      <td>1001 to 5000 Employees</td>\n",
       "      <td>1999</td>\n",
       "      <td>Company - Public</td>\n",
       "      <td>Home Furniture &amp; Housewares Stores</td>\n",
       "      <td>Retail &amp; Wholesale</td>\n",
       "      <td>$1 to $5 billion (USD)</td>\n",
       "      <td>1</td>\n",
       "      <td>0</td>\n",
       "      <td>88.0</td>\n",
       "      <td>110.0</td>\n",
       "      <td>99.0</td>\n",
       "      <td>0</td>\n",
       "    </tr>\n",
       "    <tr>\n",
       "      <th>3</th>\n",
       "      <td>Data Scientist</td>\n",
       "      <td>Employer Provided Salary:$75.00 - $80.00 Per Hour</td>\n",
       "      <td>Required\\nSelf-motivated individual who functi...</td>\n",
       "      <td>-1.0</td>\n",
       "      <td>PROLIM Corporation</td>\n",
       "      <td>Remote</td>\n",
       "      <td>-1</td>\n",
       "      <td>-1</td>\n",
       "      <td>-1</td>\n",
       "      <td>-1</td>\n",
       "      <td>-1</td>\n",
       "      <td>-1</td>\n",
       "      <td>1</td>\n",
       "      <td>1</td>\n",
       "      <td>75.0</td>\n",
       "      <td>80.0</td>\n",
       "      <td>77.5</td>\n",
       "      <td>0</td>\n",
       "    </tr>\n",
       "    <tr>\n",
       "      <th>4</th>\n",
       "      <td>Data Scientist I</td>\n",
       "      <td>Employer Provided Salary:$64K - $116K</td>\n",
       "      <td>PURPOSE:\\nThe Data Scientist I will be respons...</td>\n",
       "      <td>3.2</td>\n",
       "      <td>UNFI</td>\n",
       "      <td>Providence, RI</td>\n",
       "      <td>10000+ Employees</td>\n",
       "      <td>1978</td>\n",
       "      <td>Company - Public</td>\n",
       "      <td>Wholesale</td>\n",
       "      <td>Retail &amp; Wholesale</td>\n",
       "      <td>$10+ billion (USD)</td>\n",
       "      <td>1</td>\n",
       "      <td>0</td>\n",
       "      <td>64.0</td>\n",
       "      <td>116.0</td>\n",
       "      <td>90.0</td>\n",
       "      <td>1</td>\n",
       "    </tr>\n",
       "    <tr>\n",
       "      <th>5</th>\n",
       "      <td>Data Scientist</td>\n",
       "      <td>Employer Provided Salary:$60K - $140K</td>\n",
       "      <td>iOS: https://apps.apple.com/us/app/id155187173...</td>\n",
       "      <td>-1.0</td>\n",
       "      <td>Redvest App</td>\n",
       "      <td>Remote</td>\n",
       "      <td>-1</td>\n",
       "      <td>-1</td>\n",
       "      <td>-1</td>\n",
       "      <td>-1</td>\n",
       "      <td>-1</td>\n",
       "      <td>-1</td>\n",
       "      <td>1</td>\n",
       "      <td>0</td>\n",
       "      <td>60.0</td>\n",
       "      <td>140.0</td>\n",
       "      <td>100.0</td>\n",
       "      <td>0</td>\n",
       "    </tr>\n",
       "  </tbody>\n",
       "</table>\n",
       "</div>"
      ],
      "text/plain": [
       "                  Job Title  \\\n",
       "0  Associate Data Scientist   \n",
       "1            Data Scientist   \n",
       "3            Data Scientist   \n",
       "4          Data Scientist I   \n",
       "5            Data Scientist   \n",
       "\n",
       "                                     Salary Estimate  \\\n",
       "0              Employer Provided Salary:$80K - $110K   \n",
       "1              Employer Provided Salary:$88K - $110K   \n",
       "3  Employer Provided Salary:$75.00 - $80.00 Per Hour   \n",
       "4              Employer Provided Salary:$64K - $116K   \n",
       "5              Employer Provided Salary:$60K - $140K   \n",
       "\n",
       "                                     Job Description  Rating  \\\n",
       "0  The Role\\nWe are seeking a motivated and analy...     4.8   \n",
       "1  We Are Overstock:\\nAt Overstock.com, we believ...     3.2   \n",
       "3  Required\\nSelf-motivated individual who functi...    -1.0   \n",
       "4  PURPOSE:\\nThe Data Scientist I will be respons...     3.2   \n",
       "5  iOS: https://apps.apple.com/us/app/id155187173...    -1.0   \n",
       "\n",
       "         Company Name        Location                    Size  Founded  \\\n",
       "0               Polco          Remote     51 to 200 Employees       -1   \n",
       "1  Overstock.com Inc.          Remote  1001 to 5000 Employees     1999   \n",
       "3  PROLIM Corporation          Remote                      -1       -1   \n",
       "4                UNFI  Providence, RI        10000+ Employees     1978   \n",
       "5         Redvest App          Remote                      -1       -1   \n",
       "\n",
       "   Type of ownership                            Industry  \\\n",
       "0  Company - Private                  Municipal Agencies   \n",
       "1   Company - Public  Home Furniture & Housewares Stores   \n",
       "3                 -1                                  -1   \n",
       "4   Company - Public                           Wholesale   \n",
       "5                 -1                                  -1   \n",
       "\n",
       "                               Sector                   Revenue  \\\n",
       "0  Government & Public Administration  Unknown / Non-Applicable   \n",
       "1                  Retail & Wholesale    $1 to $5 billion (USD)   \n",
       "3                                  -1                        -1   \n",
       "4                  Retail & Wholesale        $10+ billion (USD)   \n",
       "5                                  -1                        -1   \n",
       "\n",
       "   Employer Provided  Hourly  min_sal  max_sal  avg_sal  Onsite  \n",
       "0                  1       0     80.0    110.0     95.0       0  \n",
       "1                  1       0     88.0    110.0     99.0       0  \n",
       "3                  1       1     75.0     80.0     77.5       0  \n",
       "4                  1       0     64.0    116.0     90.0       1  \n",
       "5                  1       0     60.0    140.0    100.0       0  "
      ]
     },
     "execution_count": 103,
     "metadata": {},
     "output_type": "execute_result"
    }
   ],
   "source": [
    "#checking if the job is onsite or remote\n",
    "df[\"Onsite\"] = df[\"Location\"].apply(lambda x : 0 if 'remote' in x.lower() else 1)\n",
    "df.head()"
   ]
  },
  {
   "cell_type": "code",
   "execution_count": 104,
   "id": "0bae8d4a",
   "metadata": {},
   "outputs": [],
   "source": [
    "def findstate(loc):\n",
    "    if 'remote' in loc.lower():\n",
    "        return 'remote'\n",
    "    elif len(loc.split(',')) == 2:\n",
    "        return loc.split(',')[1].strip()\n",
    "    else:\n",
    "        return loc.split(',')[0].strip()"
   ]
  },
  {
   "cell_type": "code",
   "execution_count": 105,
   "id": "d81181ab",
   "metadata": {},
   "outputs": [
    {
     "data": {
      "text/html": [
       "<div>\n",
       "<style scoped>\n",
       "    .dataframe tbody tr th:only-of-type {\n",
       "        vertical-align: middle;\n",
       "    }\n",
       "\n",
       "    .dataframe tbody tr th {\n",
       "        vertical-align: top;\n",
       "    }\n",
       "\n",
       "    .dataframe thead th {\n",
       "        text-align: right;\n",
       "    }\n",
       "</style>\n",
       "<table border=\"1\" class=\"dataframe\">\n",
       "  <thead>\n",
       "    <tr style=\"text-align: right;\">\n",
       "      <th></th>\n",
       "      <th>Job Title</th>\n",
       "      <th>Salary Estimate</th>\n",
       "      <th>Job Description</th>\n",
       "      <th>Rating</th>\n",
       "      <th>Company Name</th>\n",
       "      <th>Location</th>\n",
       "      <th>Size</th>\n",
       "      <th>Founded</th>\n",
       "      <th>Type of ownership</th>\n",
       "      <th>Industry</th>\n",
       "      <th>Sector</th>\n",
       "      <th>Revenue</th>\n",
       "      <th>Employer Provided</th>\n",
       "      <th>Hourly</th>\n",
       "      <th>min_sal</th>\n",
       "      <th>max_sal</th>\n",
       "      <th>avg_sal</th>\n",
       "      <th>Onsite</th>\n",
       "      <th>State</th>\n",
       "    </tr>\n",
       "  </thead>\n",
       "  <tbody>\n",
       "    <tr>\n",
       "      <th>0</th>\n",
       "      <td>Associate Data Scientist</td>\n",
       "      <td>Employer Provided Salary:$80K - $110K</td>\n",
       "      <td>The Role\\nWe are seeking a motivated and analy...</td>\n",
       "      <td>4.8</td>\n",
       "      <td>Polco</td>\n",
       "      <td>Remote</td>\n",
       "      <td>51 to 200 Employees</td>\n",
       "      <td>-1</td>\n",
       "      <td>Company - Private</td>\n",
       "      <td>Municipal Agencies</td>\n",
       "      <td>Government &amp; Public Administration</td>\n",
       "      <td>Unknown / Non-Applicable</td>\n",
       "      <td>1</td>\n",
       "      <td>0</td>\n",
       "      <td>80.0</td>\n",
       "      <td>110.0</td>\n",
       "      <td>95.0</td>\n",
       "      <td>0</td>\n",
       "      <td>remote</td>\n",
       "    </tr>\n",
       "    <tr>\n",
       "      <th>1</th>\n",
       "      <td>Data Scientist</td>\n",
       "      <td>Employer Provided Salary:$88K - $110K</td>\n",
       "      <td>We Are Overstock:\\nAt Overstock.com, we believ...</td>\n",
       "      <td>3.2</td>\n",
       "      <td>Overstock.com Inc.</td>\n",
       "      <td>Remote</td>\n",
       "      <td>1001 to 5000 Employees</td>\n",
       "      <td>1999</td>\n",
       "      <td>Company - Public</td>\n",
       "      <td>Home Furniture &amp; Housewares Stores</td>\n",
       "      <td>Retail &amp; Wholesale</td>\n",
       "      <td>$1 to $5 billion (USD)</td>\n",
       "      <td>1</td>\n",
       "      <td>0</td>\n",
       "      <td>88.0</td>\n",
       "      <td>110.0</td>\n",
       "      <td>99.0</td>\n",
       "      <td>0</td>\n",
       "      <td>remote</td>\n",
       "    </tr>\n",
       "    <tr>\n",
       "      <th>3</th>\n",
       "      <td>Data Scientist</td>\n",
       "      <td>Employer Provided Salary:$75.00 - $80.00 Per Hour</td>\n",
       "      <td>Required\\nSelf-motivated individual who functi...</td>\n",
       "      <td>-1.0</td>\n",
       "      <td>PROLIM Corporation</td>\n",
       "      <td>Remote</td>\n",
       "      <td>-1</td>\n",
       "      <td>-1</td>\n",
       "      <td>-1</td>\n",
       "      <td>-1</td>\n",
       "      <td>-1</td>\n",
       "      <td>-1</td>\n",
       "      <td>1</td>\n",
       "      <td>1</td>\n",
       "      <td>75.0</td>\n",
       "      <td>80.0</td>\n",
       "      <td>77.5</td>\n",
       "      <td>0</td>\n",
       "      <td>remote</td>\n",
       "    </tr>\n",
       "    <tr>\n",
       "      <th>4</th>\n",
       "      <td>Data Scientist I</td>\n",
       "      <td>Employer Provided Salary:$64K - $116K</td>\n",
       "      <td>PURPOSE:\\nThe Data Scientist I will be respons...</td>\n",
       "      <td>3.2</td>\n",
       "      <td>UNFI</td>\n",
       "      <td>Providence, RI</td>\n",
       "      <td>10000+ Employees</td>\n",
       "      <td>1978</td>\n",
       "      <td>Company - Public</td>\n",
       "      <td>Wholesale</td>\n",
       "      <td>Retail &amp; Wholesale</td>\n",
       "      <td>$10+ billion (USD)</td>\n",
       "      <td>1</td>\n",
       "      <td>0</td>\n",
       "      <td>64.0</td>\n",
       "      <td>116.0</td>\n",
       "      <td>90.0</td>\n",
       "      <td>1</td>\n",
       "      <td>RI</td>\n",
       "    </tr>\n",
       "    <tr>\n",
       "      <th>5</th>\n",
       "      <td>Data Scientist</td>\n",
       "      <td>Employer Provided Salary:$60K - $140K</td>\n",
       "      <td>iOS: https://apps.apple.com/us/app/id155187173...</td>\n",
       "      <td>-1.0</td>\n",
       "      <td>Redvest App</td>\n",
       "      <td>Remote</td>\n",
       "      <td>-1</td>\n",
       "      <td>-1</td>\n",
       "      <td>-1</td>\n",
       "      <td>-1</td>\n",
       "      <td>-1</td>\n",
       "      <td>-1</td>\n",
       "      <td>1</td>\n",
       "      <td>0</td>\n",
       "      <td>60.0</td>\n",
       "      <td>140.0</td>\n",
       "      <td>100.0</td>\n",
       "      <td>0</td>\n",
       "      <td>remote</td>\n",
       "    </tr>\n",
       "  </tbody>\n",
       "</table>\n",
       "</div>"
      ],
      "text/plain": [
       "                  Job Title  \\\n",
       "0  Associate Data Scientist   \n",
       "1            Data Scientist   \n",
       "3            Data Scientist   \n",
       "4          Data Scientist I   \n",
       "5            Data Scientist   \n",
       "\n",
       "                                     Salary Estimate  \\\n",
       "0              Employer Provided Salary:$80K - $110K   \n",
       "1              Employer Provided Salary:$88K - $110K   \n",
       "3  Employer Provided Salary:$75.00 - $80.00 Per Hour   \n",
       "4              Employer Provided Salary:$64K - $116K   \n",
       "5              Employer Provided Salary:$60K - $140K   \n",
       "\n",
       "                                     Job Description  Rating  \\\n",
       "0  The Role\\nWe are seeking a motivated and analy...     4.8   \n",
       "1  We Are Overstock:\\nAt Overstock.com, we believ...     3.2   \n",
       "3  Required\\nSelf-motivated individual who functi...    -1.0   \n",
       "4  PURPOSE:\\nThe Data Scientist I will be respons...     3.2   \n",
       "5  iOS: https://apps.apple.com/us/app/id155187173...    -1.0   \n",
       "\n",
       "         Company Name        Location                    Size  Founded  \\\n",
       "0               Polco          Remote     51 to 200 Employees       -1   \n",
       "1  Overstock.com Inc.          Remote  1001 to 5000 Employees     1999   \n",
       "3  PROLIM Corporation          Remote                      -1       -1   \n",
       "4                UNFI  Providence, RI        10000+ Employees     1978   \n",
       "5         Redvest App          Remote                      -1       -1   \n",
       "\n",
       "   Type of ownership                            Industry  \\\n",
       "0  Company - Private                  Municipal Agencies   \n",
       "1   Company - Public  Home Furniture & Housewares Stores   \n",
       "3                 -1                                  -1   \n",
       "4   Company - Public                           Wholesale   \n",
       "5                 -1                                  -1   \n",
       "\n",
       "                               Sector                   Revenue  \\\n",
       "0  Government & Public Administration  Unknown / Non-Applicable   \n",
       "1                  Retail & Wholesale    $1 to $5 billion (USD)   \n",
       "3                                  -1                        -1   \n",
       "4                  Retail & Wholesale        $10+ billion (USD)   \n",
       "5                                  -1                        -1   \n",
       "\n",
       "   Employer Provided  Hourly  min_sal  max_sal  avg_sal  Onsite   State  \n",
       "0                  1       0     80.0    110.0     95.0       0  remote  \n",
       "1                  1       0     88.0    110.0     99.0       0  remote  \n",
       "3                  1       1     75.0     80.0     77.5       0  remote  \n",
       "4                  1       0     64.0    116.0     90.0       1      RI  \n",
       "5                  1       0     60.0    140.0    100.0       0  remote  "
      ]
     },
     "execution_count": 105,
     "metadata": {},
     "output_type": "execute_result"
    }
   ],
   "source": [
    "#seperating state field from the location\n",
    "df[\"State\"] = df[\"Location\"].apply(findstate)\n",
    "df.head()"
   ]
  },
  {
   "cell_type": "code",
   "execution_count": 106,
   "id": "0fe45d46",
   "metadata": {},
   "outputs": [
    {
     "data": {
      "text/plain": [
       "remote           88\n",
       "CA               75\n",
       "TX               51\n",
       "NY               19\n",
       "GA               16\n",
       "OH               16\n",
       "VA               15\n",
       "TN               12\n",
       "AZ               12\n",
       "RI               12\n",
       "WA                9\n",
       "OR                7\n",
       "SD                5\n",
       "CO                5\n",
       "MA                5\n",
       "IA                5\n",
       "MD                4\n",
       "MS                4\n",
       "IL                4\n",
       "MN                4\n",
       "NC                4\n",
       "United States     3\n",
       "WI                3\n",
       "NV                3\n",
       "MI                2\n",
       "NJ                2\n",
       "Pennsylvania      1\n",
       "MO                1\n",
       "Illinois          1\n",
       "Delaware          1\n",
       "Name: State, dtype: int64"
      ]
     },
     "execution_count": 106,
     "metadata": {},
     "output_type": "execute_result"
    }
   ],
   "source": [
    "df[\"State\"].value_counts()"
   ]
  },
  {
   "cell_type": "code",
   "execution_count": 107,
   "id": "46d21c7f",
   "metadata": {},
   "outputs": [],
   "source": [
    "def fixstate(state):\n",
    "    if state.lower() == \"united states\":\n",
    "        return \"US\"\n",
    "    elif state.lower() == \"pennsylvania\":\n",
    "        return \"PA\"\n",
    "    elif state.lower() == \"illinois\":\n",
    "        return \"IL\"\n",
    "    elif state.lower() == \"delaware\":\n",
    "        return \"DE\"\n",
    "    else:\n",
    "        return state"
   ]
  },
  {
   "cell_type": "code",
   "execution_count": 108,
   "id": "bd22ac2e",
   "metadata": {},
   "outputs": [],
   "source": [
    "#fixing states having full names\n",
    "df[\"State\"] = df[\"State\"].apply(fixstate)"
   ]
  },
  {
   "cell_type": "code",
   "execution_count": 109,
   "id": "6f89f0ad",
   "metadata": {},
   "outputs": [
    {
     "data": {
      "text/plain": [
       "remote    88\n",
       "CA        75\n",
       "TX        51\n",
       "NY        19\n",
       "GA        16\n",
       "OH        16\n",
       "VA        15\n",
       "TN        12\n",
       "AZ        12\n",
       "RI        12\n",
       "WA         9\n",
       "OR         7\n",
       "CO         5\n",
       "IL         5\n",
       "SD         5\n",
       "MA         5\n",
       "IA         5\n",
       "NC         4\n",
       "MN         4\n",
       "MD         4\n",
       "MS         4\n",
       "WI         3\n",
       "NV         3\n",
       "US         3\n",
       "MI         2\n",
       "NJ         2\n",
       "MO         1\n",
       "PA         1\n",
       "DE         1\n",
       "Name: State, dtype: int64"
      ]
     },
     "execution_count": 109,
     "metadata": {},
     "output_type": "execute_result"
    }
   ],
   "source": [
    "df[\"State\"].value_counts()"
   ]
  },
  {
   "cell_type": "markdown",
   "id": "2c482fe7",
   "metadata": {},
   "source": [
    "## Cleaning the founded column"
   ]
  },
  {
   "cell_type": "code",
   "execution_count": 110,
   "id": "6b395b17",
   "metadata": {},
   "outputs": [
    {
     "data": {
      "text/html": [
       "<div>\n",
       "<style scoped>\n",
       "    .dataframe tbody tr th:only-of-type {\n",
       "        vertical-align: middle;\n",
       "    }\n",
       "\n",
       "    .dataframe tbody tr th {\n",
       "        vertical-align: top;\n",
       "    }\n",
       "\n",
       "    .dataframe thead th {\n",
       "        text-align: right;\n",
       "    }\n",
       "</style>\n",
       "<table border=\"1\" class=\"dataframe\">\n",
       "  <thead>\n",
       "    <tr style=\"text-align: right;\">\n",
       "      <th></th>\n",
       "      <th>Job Title</th>\n",
       "      <th>Salary Estimate</th>\n",
       "      <th>Job Description</th>\n",
       "      <th>Rating</th>\n",
       "      <th>Company Name</th>\n",
       "      <th>Location</th>\n",
       "      <th>Size</th>\n",
       "      <th>Founded</th>\n",
       "      <th>Type of ownership</th>\n",
       "      <th>Industry</th>\n",
       "      <th>Sector</th>\n",
       "      <th>Revenue</th>\n",
       "      <th>Employer Provided</th>\n",
       "      <th>Hourly</th>\n",
       "      <th>min_sal</th>\n",
       "      <th>max_sal</th>\n",
       "      <th>avg_sal</th>\n",
       "      <th>Onsite</th>\n",
       "      <th>State</th>\n",
       "      <th>Age</th>\n",
       "    </tr>\n",
       "  </thead>\n",
       "  <tbody>\n",
       "    <tr>\n",
       "      <th>0</th>\n",
       "      <td>Associate Data Scientist</td>\n",
       "      <td>Employer Provided Salary:$80K - $110K</td>\n",
       "      <td>The Role\\nWe are seeking a motivated and analy...</td>\n",
       "      <td>4.8</td>\n",
       "      <td>Polco</td>\n",
       "      <td>Remote</td>\n",
       "      <td>51 to 200 Employees</td>\n",
       "      <td>-1</td>\n",
       "      <td>Company - Private</td>\n",
       "      <td>Municipal Agencies</td>\n",
       "      <td>Government &amp; Public Administration</td>\n",
       "      <td>Unknown / Non-Applicable</td>\n",
       "      <td>1</td>\n",
       "      <td>0</td>\n",
       "      <td>80.0</td>\n",
       "      <td>110.0</td>\n",
       "      <td>95.0</td>\n",
       "      <td>0</td>\n",
       "      <td>remote</td>\n",
       "      <td>-1</td>\n",
       "    </tr>\n",
       "    <tr>\n",
       "      <th>1</th>\n",
       "      <td>Data Scientist</td>\n",
       "      <td>Employer Provided Salary:$88K - $110K</td>\n",
       "      <td>We Are Overstock:\\nAt Overstock.com, we believ...</td>\n",
       "      <td>3.2</td>\n",
       "      <td>Overstock.com Inc.</td>\n",
       "      <td>Remote</td>\n",
       "      <td>1001 to 5000 Employees</td>\n",
       "      <td>1999</td>\n",
       "      <td>Company - Public</td>\n",
       "      <td>Home Furniture &amp; Housewares Stores</td>\n",
       "      <td>Retail &amp; Wholesale</td>\n",
       "      <td>$1 to $5 billion (USD)</td>\n",
       "      <td>1</td>\n",
       "      <td>0</td>\n",
       "      <td>88.0</td>\n",
       "      <td>110.0</td>\n",
       "      <td>99.0</td>\n",
       "      <td>0</td>\n",
       "      <td>remote</td>\n",
       "      <td>24</td>\n",
       "    </tr>\n",
       "    <tr>\n",
       "      <th>3</th>\n",
       "      <td>Data Scientist</td>\n",
       "      <td>Employer Provided Salary:$75.00 - $80.00 Per Hour</td>\n",
       "      <td>Required\\nSelf-motivated individual who functi...</td>\n",
       "      <td>-1.0</td>\n",
       "      <td>PROLIM Corporation</td>\n",
       "      <td>Remote</td>\n",
       "      <td>-1</td>\n",
       "      <td>-1</td>\n",
       "      <td>-1</td>\n",
       "      <td>-1</td>\n",
       "      <td>-1</td>\n",
       "      <td>-1</td>\n",
       "      <td>1</td>\n",
       "      <td>1</td>\n",
       "      <td>75.0</td>\n",
       "      <td>80.0</td>\n",
       "      <td>77.5</td>\n",
       "      <td>0</td>\n",
       "      <td>remote</td>\n",
       "      <td>-1</td>\n",
       "    </tr>\n",
       "    <tr>\n",
       "      <th>4</th>\n",
       "      <td>Data Scientist I</td>\n",
       "      <td>Employer Provided Salary:$64K - $116K</td>\n",
       "      <td>PURPOSE:\\nThe Data Scientist I will be respons...</td>\n",
       "      <td>3.2</td>\n",
       "      <td>UNFI</td>\n",
       "      <td>Providence, RI</td>\n",
       "      <td>10000+ Employees</td>\n",
       "      <td>1978</td>\n",
       "      <td>Company - Public</td>\n",
       "      <td>Wholesale</td>\n",
       "      <td>Retail &amp; Wholesale</td>\n",
       "      <td>$10+ billion (USD)</td>\n",
       "      <td>1</td>\n",
       "      <td>0</td>\n",
       "      <td>64.0</td>\n",
       "      <td>116.0</td>\n",
       "      <td>90.0</td>\n",
       "      <td>1</td>\n",
       "      <td>RI</td>\n",
       "      <td>45</td>\n",
       "    </tr>\n",
       "    <tr>\n",
       "      <th>5</th>\n",
       "      <td>Data Scientist</td>\n",
       "      <td>Employer Provided Salary:$60K - $140K</td>\n",
       "      <td>iOS: https://apps.apple.com/us/app/id155187173...</td>\n",
       "      <td>-1.0</td>\n",
       "      <td>Redvest App</td>\n",
       "      <td>Remote</td>\n",
       "      <td>-1</td>\n",
       "      <td>-1</td>\n",
       "      <td>-1</td>\n",
       "      <td>-1</td>\n",
       "      <td>-1</td>\n",
       "      <td>-1</td>\n",
       "      <td>1</td>\n",
       "      <td>0</td>\n",
       "      <td>60.0</td>\n",
       "      <td>140.0</td>\n",
       "      <td>100.0</td>\n",
       "      <td>0</td>\n",
       "      <td>remote</td>\n",
       "      <td>-1</td>\n",
       "    </tr>\n",
       "  </tbody>\n",
       "</table>\n",
       "</div>"
      ],
      "text/plain": [
       "                  Job Title  \\\n",
       "0  Associate Data Scientist   \n",
       "1            Data Scientist   \n",
       "3            Data Scientist   \n",
       "4          Data Scientist I   \n",
       "5            Data Scientist   \n",
       "\n",
       "                                     Salary Estimate  \\\n",
       "0              Employer Provided Salary:$80K - $110K   \n",
       "1              Employer Provided Salary:$88K - $110K   \n",
       "3  Employer Provided Salary:$75.00 - $80.00 Per Hour   \n",
       "4              Employer Provided Salary:$64K - $116K   \n",
       "5              Employer Provided Salary:$60K - $140K   \n",
       "\n",
       "                                     Job Description  Rating  \\\n",
       "0  The Role\\nWe are seeking a motivated and analy...     4.8   \n",
       "1  We Are Overstock:\\nAt Overstock.com, we believ...     3.2   \n",
       "3  Required\\nSelf-motivated individual who functi...    -1.0   \n",
       "4  PURPOSE:\\nThe Data Scientist I will be respons...     3.2   \n",
       "5  iOS: https://apps.apple.com/us/app/id155187173...    -1.0   \n",
       "\n",
       "         Company Name        Location                    Size  Founded  \\\n",
       "0               Polco          Remote     51 to 200 Employees       -1   \n",
       "1  Overstock.com Inc.          Remote  1001 to 5000 Employees     1999   \n",
       "3  PROLIM Corporation          Remote                      -1       -1   \n",
       "4                UNFI  Providence, RI        10000+ Employees     1978   \n",
       "5         Redvest App          Remote                      -1       -1   \n",
       "\n",
       "   Type of ownership                            Industry  \\\n",
       "0  Company - Private                  Municipal Agencies   \n",
       "1   Company - Public  Home Furniture & Housewares Stores   \n",
       "3                 -1                                  -1   \n",
       "4   Company - Public                           Wholesale   \n",
       "5                 -1                                  -1   \n",
       "\n",
       "                               Sector                   Revenue  \\\n",
       "0  Government & Public Administration  Unknown / Non-Applicable   \n",
       "1                  Retail & Wholesale    $1 to $5 billion (USD)   \n",
       "3                                  -1                        -1   \n",
       "4                  Retail & Wholesale        $10+ billion (USD)   \n",
       "5                                  -1                        -1   \n",
       "\n",
       "   Employer Provided  Hourly  min_sal  max_sal  avg_sal  Onsite   State  Age  \n",
       "0                  1       0     80.0    110.0     95.0       0  remote   -1  \n",
       "1                  1       0     88.0    110.0     99.0       0  remote   24  \n",
       "3                  1       1     75.0     80.0     77.5       0  remote   -1  \n",
       "4                  1       0     64.0    116.0     90.0       1      RI   45  \n",
       "5                  1       0     60.0    140.0    100.0       0  remote   -1  "
      ]
     },
     "execution_count": 110,
     "metadata": {},
     "output_type": "execute_result"
    }
   ],
   "source": [
    "#determining the age of the company\n",
    "df[\"Age\"] = df[\"Founded\"].apply(lambda x : x if x == -1 else 2023-x)\n",
    "df.head()"
   ]
  },
  {
   "cell_type": "markdown",
   "id": "979dcaa7",
   "metadata": {},
   "source": [
    "## Parsing the job Description Field"
   ]
  },
  {
   "cell_type": "code",
   "execution_count": 111,
   "id": "762efc92",
   "metadata": {},
   "outputs": [
    {
     "data": {
      "text/plain": [
       "0    324\n",
       "1     65\n",
       "Name: python, dtype: int64"
      ]
     },
     "execution_count": 111,
     "metadata": {},
     "output_type": "execute_result"
    }
   ],
   "source": [
    "#checking for python keyword in job description\n",
    "df[\"python\"] = df[\"Job Description\"].apply(lambda x: 1 if 'python' in x.lower() else 0)\n",
    "df.python.value_counts()"
   ]
  },
  {
   "cell_type": "code",
   "execution_count": 112,
   "id": "507e0e48",
   "metadata": {},
   "outputs": [
    {
     "data": {
      "text/plain": [
       "0    382\n",
       "1      7\n",
       "Name: spark, dtype: int64"
      ]
     },
     "execution_count": 112,
     "metadata": {},
     "output_type": "execute_result"
    }
   ],
   "source": [
    "#checking for spark keyword in job description\n",
    "df[\"spark\"] = df[\"Job Description\"].apply(lambda x: 1 if 'spark' in x.lower() else 0)\n",
    "df.spark.value_counts()"
   ]
  },
  {
   "cell_type": "code",
   "execution_count": 113,
   "id": "def380f0",
   "metadata": {},
   "outputs": [
    {
     "data": {
      "text/plain": [
       "0    370\n",
       "1     19\n",
       "Name: tableau, dtype: int64"
      ]
     },
     "execution_count": 113,
     "metadata": {},
     "output_type": "execute_result"
    }
   ],
   "source": [
    "#checking for tableau keyword in job description\n",
    "df[\"tableau\"] = df[\"Job Description\"].apply(lambda x: 1 if 'tableau' in x.lower() else 0)\n",
    "df.tableau.value_counts()"
   ]
  },
  {
   "cell_type": "code",
   "execution_count": 114,
   "id": "7a271939",
   "metadata": {},
   "outputs": [
    {
     "data": {
      "text/plain": [
       "0    389\n",
       "Name: tensorflow, dtype: int64"
      ]
     },
     "execution_count": 114,
     "metadata": {},
     "output_type": "execute_result"
    }
   ],
   "source": [
    "#checking for tensorflow keyword in job description\n",
    "df[\"tensorflow\"] = df[\"Job Description\"].apply(lambda x: 1 if 'tensorflow' in x.lower() else 0)\n",
    "df.tensorflow.value_counts()"
   ]
  },
  {
   "cell_type": "markdown",
   "id": "5b3a75ee",
   "metadata": {},
   "source": [
    "## Cleaning Job Title field"
   ]
  },
  {
   "cell_type": "code",
   "execution_count": 115,
   "id": "8d691764",
   "metadata": {},
   "outputs": [],
   "source": [
    "def title_simplifier(title):\n",
    "    if 'data scientist' in title.lower():\n",
    "        return 'data scientist'\n",
    "    elif 'data enginner' in title.lower():\n",
    "        return 'data enginner'\n",
    "    elif 'machine learning' in title.lower():\n",
    "        return 'mle'\n",
    "    elif 'manager' in title.lower():\n",
    "        return 'manager'\n",
    "    else:\n",
    "        return 'na'\n",
    "\n",
    "def seniority(title):\n",
    "    if 'sr' in title.lower() or 'senior' in title.lower() or 'lead' in title.lower() or 'principal' in title.lower():\n",
    "        return 'senior'\n",
    "    elif 'jr' in title.lower() or 'junior' in title.lower():\n",
    "        return 'junior'\n",
    "    else:\n",
    "        return 'na'"
   ]
  },
  {
   "cell_type": "code",
   "execution_count": 116,
   "id": "cf1cf258",
   "metadata": {},
   "outputs": [
    {
     "data": {
      "text/plain": [
       "data scientist    355\n",
       "na                 34\n",
       "Name: Simplified Title, dtype: int64"
      ]
     },
     "execution_count": 116,
     "metadata": {},
     "output_type": "execute_result"
    }
   ],
   "source": [
    "#getting the type of roles\n",
    "df['Simplified Title'] = df['Job Title'].apply(title_simplifier)\n",
    "df['Simplified Title'].value_counts()"
   ]
  },
  {
   "cell_type": "code",
   "execution_count": 117,
   "id": "87517e6a",
   "metadata": {},
   "outputs": [
    {
     "data": {
      "text/plain": [
       "na        341\n",
       "senior     31\n",
       "junior     17\n",
       "Name: Seniority, dtype: int64"
      ]
     },
     "execution_count": 117,
     "metadata": {},
     "output_type": "execute_result"
    }
   ],
   "source": [
    "#classifying the roles as junior and senior\n",
    "df['Seniority'] = df['Job Title'].apply(seniority)\n",
    "df['Seniority'].value_counts()"
   ]
  },
  {
   "cell_type": "code",
   "execution_count": 118,
   "id": "b45d14a7",
   "metadata": {},
   "outputs": [],
   "source": [
    "#converting hourly salary into annual salary\n",
    "df[\"min_sal\"] = df.apply(lambda x : x.min_sal*1.5 if x.Hourly == 1 else x.min_sal, axis = 1)"
   ]
  },
  {
   "cell_type": "code",
   "execution_count": 119,
   "id": "2b6f1198",
   "metadata": {},
   "outputs": [
    {
     "data": {
      "text/plain": [
       "0       80.0\n",
       "1       88.0\n",
       "3      112.5\n",
       "4       64.0\n",
       "5       60.0\n",
       "       ...  \n",
       "494     90.0\n",
       "495     72.0\n",
       "496     81.0\n",
       "498     90.0\n",
       "499     90.0\n",
       "Name: min_sal, Length: 389, dtype: float64"
      ]
     },
     "execution_count": 119,
     "metadata": {},
     "output_type": "execute_result"
    }
   ],
   "source": [
    "df[\"min_sal\"]"
   ]
  },
  {
   "cell_type": "markdown",
   "id": "329575ba",
   "metadata": {},
   "source": [
    "## Cleaning Type of organisation column"
   ]
  },
  {
   "cell_type": "code",
   "execution_count": 120,
   "id": "a01db551",
   "metadata": {},
   "outputs": [],
   "source": [
    "def checkprivate(company):\n",
    "    if 'private' in company.lower():\n",
    "        return 1\n",
    "    elif 'public' in company.lower():\n",
    "        return 0\n",
    "    else:\n",
    "        return -1"
   ]
  },
  {
   "cell_type": "code",
   "execution_count": 121,
   "id": "e6c136b7",
   "metadata": {},
   "outputs": [
    {
     "data": {
      "text/html": [
       "<div>\n",
       "<style scoped>\n",
       "    .dataframe tbody tr th:only-of-type {\n",
       "        vertical-align: middle;\n",
       "    }\n",
       "\n",
       "    .dataframe tbody tr th {\n",
       "        vertical-align: top;\n",
       "    }\n",
       "\n",
       "    .dataframe thead th {\n",
       "        text-align: right;\n",
       "    }\n",
       "</style>\n",
       "<table border=\"1\" class=\"dataframe\">\n",
       "  <thead>\n",
       "    <tr style=\"text-align: right;\">\n",
       "      <th></th>\n",
       "      <th>Job Title</th>\n",
       "      <th>Salary Estimate</th>\n",
       "      <th>Job Description</th>\n",
       "      <th>Rating</th>\n",
       "      <th>Company Name</th>\n",
       "      <th>Location</th>\n",
       "      <th>Size</th>\n",
       "      <th>Founded</th>\n",
       "      <th>Type of ownership</th>\n",
       "      <th>Industry</th>\n",
       "      <th>...</th>\n",
       "      <th>Onsite</th>\n",
       "      <th>State</th>\n",
       "      <th>Age</th>\n",
       "      <th>python</th>\n",
       "      <th>spark</th>\n",
       "      <th>tableau</th>\n",
       "      <th>tensorflow</th>\n",
       "      <th>Simplified Title</th>\n",
       "      <th>Seniority</th>\n",
       "      <th>isPrivate</th>\n",
       "    </tr>\n",
       "  </thead>\n",
       "  <tbody>\n",
       "    <tr>\n",
       "      <th>0</th>\n",
       "      <td>Associate Data Scientist</td>\n",
       "      <td>Employer Provided Salary:$80K - $110K</td>\n",
       "      <td>The Role\\nWe are seeking a motivated and analy...</td>\n",
       "      <td>4.8</td>\n",
       "      <td>Polco</td>\n",
       "      <td>Remote</td>\n",
       "      <td>51 to 200 Employees</td>\n",
       "      <td>-1</td>\n",
       "      <td>Company - Private</td>\n",
       "      <td>Municipal Agencies</td>\n",
       "      <td>...</td>\n",
       "      <td>0</td>\n",
       "      <td>remote</td>\n",
       "      <td>-1</td>\n",
       "      <td>0</td>\n",
       "      <td>0</td>\n",
       "      <td>0</td>\n",
       "      <td>0</td>\n",
       "      <td>data scientist</td>\n",
       "      <td>na</td>\n",
       "      <td>1</td>\n",
       "    </tr>\n",
       "    <tr>\n",
       "      <th>1</th>\n",
       "      <td>Data Scientist</td>\n",
       "      <td>Employer Provided Salary:$88K - $110K</td>\n",
       "      <td>We Are Overstock:\\nAt Overstock.com, we believ...</td>\n",
       "      <td>3.2</td>\n",
       "      <td>Overstock.com Inc.</td>\n",
       "      <td>Remote</td>\n",
       "      <td>1001 to 5000 Employees</td>\n",
       "      <td>1999</td>\n",
       "      <td>Company - Public</td>\n",
       "      <td>Home Furniture &amp; Housewares Stores</td>\n",
       "      <td>...</td>\n",
       "      <td>0</td>\n",
       "      <td>remote</td>\n",
       "      <td>24</td>\n",
       "      <td>0</td>\n",
       "      <td>0</td>\n",
       "      <td>0</td>\n",
       "      <td>0</td>\n",
       "      <td>data scientist</td>\n",
       "      <td>na</td>\n",
       "      <td>0</td>\n",
       "    </tr>\n",
       "    <tr>\n",
       "      <th>3</th>\n",
       "      <td>Data Scientist</td>\n",
       "      <td>Employer Provided Salary:$75.00 - $80.00 Per Hour</td>\n",
       "      <td>Required\\nSelf-motivated individual who functi...</td>\n",
       "      <td>-1.0</td>\n",
       "      <td>PROLIM Corporation</td>\n",
       "      <td>Remote</td>\n",
       "      <td>-1</td>\n",
       "      <td>-1</td>\n",
       "      <td>-1</td>\n",
       "      <td>-1</td>\n",
       "      <td>...</td>\n",
       "      <td>0</td>\n",
       "      <td>remote</td>\n",
       "      <td>-1</td>\n",
       "      <td>1</td>\n",
       "      <td>0</td>\n",
       "      <td>1</td>\n",
       "      <td>0</td>\n",
       "      <td>data scientist</td>\n",
       "      <td>na</td>\n",
       "      <td>-1</td>\n",
       "    </tr>\n",
       "    <tr>\n",
       "      <th>4</th>\n",
       "      <td>Data Scientist I</td>\n",
       "      <td>Employer Provided Salary:$64K - $116K</td>\n",
       "      <td>PURPOSE:\\nThe Data Scientist I will be respons...</td>\n",
       "      <td>3.2</td>\n",
       "      <td>UNFI</td>\n",
       "      <td>Providence, RI</td>\n",
       "      <td>10000+ Employees</td>\n",
       "      <td>1978</td>\n",
       "      <td>Company - Public</td>\n",
       "      <td>Wholesale</td>\n",
       "      <td>...</td>\n",
       "      <td>1</td>\n",
       "      <td>RI</td>\n",
       "      <td>45</td>\n",
       "      <td>0</td>\n",
       "      <td>0</td>\n",
       "      <td>0</td>\n",
       "      <td>0</td>\n",
       "      <td>data scientist</td>\n",
       "      <td>na</td>\n",
       "      <td>0</td>\n",
       "    </tr>\n",
       "    <tr>\n",
       "      <th>5</th>\n",
       "      <td>Data Scientist</td>\n",
       "      <td>Employer Provided Salary:$60K - $140K</td>\n",
       "      <td>iOS: https://apps.apple.com/us/app/id155187173...</td>\n",
       "      <td>-1.0</td>\n",
       "      <td>Redvest App</td>\n",
       "      <td>Remote</td>\n",
       "      <td>-1</td>\n",
       "      <td>-1</td>\n",
       "      <td>-1</td>\n",
       "      <td>-1</td>\n",
       "      <td>...</td>\n",
       "      <td>0</td>\n",
       "      <td>remote</td>\n",
       "      <td>-1</td>\n",
       "      <td>0</td>\n",
       "      <td>0</td>\n",
       "      <td>0</td>\n",
       "      <td>0</td>\n",
       "      <td>data scientist</td>\n",
       "      <td>na</td>\n",
       "      <td>-1</td>\n",
       "    </tr>\n",
       "  </tbody>\n",
       "</table>\n",
       "<p>5 rows × 27 columns</p>\n",
       "</div>"
      ],
      "text/plain": [
       "                  Job Title  \\\n",
       "0  Associate Data Scientist   \n",
       "1            Data Scientist   \n",
       "3            Data Scientist   \n",
       "4          Data Scientist I   \n",
       "5            Data Scientist   \n",
       "\n",
       "                                     Salary Estimate  \\\n",
       "0              Employer Provided Salary:$80K - $110K   \n",
       "1              Employer Provided Salary:$88K - $110K   \n",
       "3  Employer Provided Salary:$75.00 - $80.00 Per Hour   \n",
       "4              Employer Provided Salary:$64K - $116K   \n",
       "5              Employer Provided Salary:$60K - $140K   \n",
       "\n",
       "                                     Job Description  Rating  \\\n",
       "0  The Role\\nWe are seeking a motivated and analy...     4.8   \n",
       "1  We Are Overstock:\\nAt Overstock.com, we believ...     3.2   \n",
       "3  Required\\nSelf-motivated individual who functi...    -1.0   \n",
       "4  PURPOSE:\\nThe Data Scientist I will be respons...     3.2   \n",
       "5  iOS: https://apps.apple.com/us/app/id155187173...    -1.0   \n",
       "\n",
       "         Company Name        Location                    Size  Founded  \\\n",
       "0               Polco          Remote     51 to 200 Employees       -1   \n",
       "1  Overstock.com Inc.          Remote  1001 to 5000 Employees     1999   \n",
       "3  PROLIM Corporation          Remote                      -1       -1   \n",
       "4                UNFI  Providence, RI        10000+ Employees     1978   \n",
       "5         Redvest App          Remote                      -1       -1   \n",
       "\n",
       "   Type of ownership                            Industry  ... Onsite   State  \\\n",
       "0  Company - Private                  Municipal Agencies  ...      0  remote   \n",
       "1   Company - Public  Home Furniture & Housewares Stores  ...      0  remote   \n",
       "3                 -1                                  -1  ...      0  remote   \n",
       "4   Company - Public                           Wholesale  ...      1      RI   \n",
       "5                 -1                                  -1  ...      0  remote   \n",
       "\n",
       "   Age  python  spark  tableau  tensorflow  Simplified Title Seniority  \\\n",
       "0   -1       0      0        0           0    data scientist        na   \n",
       "1   24       0      0        0           0    data scientist        na   \n",
       "3   -1       1      0        1           0    data scientist        na   \n",
       "4   45       0      0        0           0    data scientist        na   \n",
       "5   -1       0      0        0           0    data scientist        na   \n",
       "\n",
       "   isPrivate  \n",
       "0          1  \n",
       "1          0  \n",
       "3         -1  \n",
       "4          0  \n",
       "5         -1  \n",
       "\n",
       "[5 rows x 27 columns]"
      ]
     },
     "execution_count": 121,
     "metadata": {},
     "output_type": "execute_result"
    }
   ],
   "source": [
    "#categorising company as public or private\n",
    "df[\"isPrivate\"] = df[\"Type of ownership\"].apply(checkprivate)\n",
    "df.head()"
   ]
  },
  {
   "cell_type": "markdown",
   "id": "01f66d0a",
   "metadata": {},
   "source": [
    "### Saving the cleaned dataset"
   ]
  },
  {
   "cell_type": "code",
   "execution_count": 33,
   "id": "0e1ca048",
   "metadata": {},
   "outputs": [],
   "source": [
    "#df.to_csv(\"salary_cleaned_dataset.csv\",index=False)"
   ]
  },
  {
   "cell_type": "code",
   "execution_count": 5,
   "id": "8965a284",
   "metadata": {},
   "outputs": [
    {
     "data": {
      "text/html": [
       "<div>\n",
       "<style scoped>\n",
       "    .dataframe tbody tr th:only-of-type {\n",
       "        vertical-align: middle;\n",
       "    }\n",
       "\n",
       "    .dataframe tbody tr th {\n",
       "        vertical-align: top;\n",
       "    }\n",
       "\n",
       "    .dataframe thead th {\n",
       "        text-align: right;\n",
       "    }\n",
       "</style>\n",
       "<table border=\"1\" class=\"dataframe\">\n",
       "  <thead>\n",
       "    <tr style=\"text-align: right;\">\n",
       "      <th></th>\n",
       "      <th>Job Title</th>\n",
       "      <th>Salary Estimate</th>\n",
       "      <th>Job Description</th>\n",
       "      <th>Rating</th>\n",
       "      <th>Company Name</th>\n",
       "      <th>Location</th>\n",
       "      <th>Size</th>\n",
       "      <th>Founded</th>\n",
       "      <th>Type of ownership</th>\n",
       "      <th>Industry</th>\n",
       "      <th>...</th>\n",
       "      <th>Onsite</th>\n",
       "      <th>State</th>\n",
       "      <th>Age</th>\n",
       "      <th>python</th>\n",
       "      <th>spark</th>\n",
       "      <th>tableau</th>\n",
       "      <th>tensorflow</th>\n",
       "      <th>Simplified Title</th>\n",
       "      <th>Seniority</th>\n",
       "      <th>isPrivate</th>\n",
       "    </tr>\n",
       "  </thead>\n",
       "  <tbody>\n",
       "    <tr>\n",
       "      <th>0</th>\n",
       "      <td>Associate Data Scientist</td>\n",
       "      <td>Employer Provided Salary:$80K - $110K</td>\n",
       "      <td>The Role\\nWe are seeking a motivated and analy...</td>\n",
       "      <td>4.8</td>\n",
       "      <td>Polco</td>\n",
       "      <td>Remote</td>\n",
       "      <td>51 to 200 Employees</td>\n",
       "      <td>-1</td>\n",
       "      <td>Company - Private</td>\n",
       "      <td>Municipal Agencies</td>\n",
       "      <td>...</td>\n",
       "      <td>0</td>\n",
       "      <td>remote</td>\n",
       "      <td>-1</td>\n",
       "      <td>0</td>\n",
       "      <td>0</td>\n",
       "      <td>0</td>\n",
       "      <td>0</td>\n",
       "      <td>data scientist</td>\n",
       "      <td>na</td>\n",
       "      <td>1</td>\n",
       "    </tr>\n",
       "    <tr>\n",
       "      <th>1</th>\n",
       "      <td>Data Scientist</td>\n",
       "      <td>Employer Provided Salary:$88K - $110K</td>\n",
       "      <td>We Are Overstock:\\nAt Overstock.com, we believ...</td>\n",
       "      <td>3.2</td>\n",
       "      <td>Overstock.com Inc.</td>\n",
       "      <td>Remote</td>\n",
       "      <td>1001 to 5000 Employees</td>\n",
       "      <td>1999</td>\n",
       "      <td>Company - Public</td>\n",
       "      <td>Home Furniture &amp; Housewares Stores</td>\n",
       "      <td>...</td>\n",
       "      <td>0</td>\n",
       "      <td>remote</td>\n",
       "      <td>24</td>\n",
       "      <td>0</td>\n",
       "      <td>0</td>\n",
       "      <td>0</td>\n",
       "      <td>0</td>\n",
       "      <td>data scientist</td>\n",
       "      <td>na</td>\n",
       "      <td>0</td>\n",
       "    </tr>\n",
       "    <tr>\n",
       "      <th>2</th>\n",
       "      <td>Data Scientist</td>\n",
       "      <td>Employer Provided Salary:$75.00 - $80.00 Per Hour</td>\n",
       "      <td>Required\\nSelf-motivated individual who functi...</td>\n",
       "      <td>-1.0</td>\n",
       "      <td>PROLIM Corporation</td>\n",
       "      <td>Remote</td>\n",
       "      <td>-1</td>\n",
       "      <td>-1</td>\n",
       "      <td>-1</td>\n",
       "      <td>-1</td>\n",
       "      <td>...</td>\n",
       "      <td>0</td>\n",
       "      <td>remote</td>\n",
       "      <td>-1</td>\n",
       "      <td>1</td>\n",
       "      <td>0</td>\n",
       "      <td>1</td>\n",
       "      <td>0</td>\n",
       "      <td>data scientist</td>\n",
       "      <td>na</td>\n",
       "      <td>-1</td>\n",
       "    </tr>\n",
       "    <tr>\n",
       "      <th>3</th>\n",
       "      <td>Data Scientist I</td>\n",
       "      <td>Employer Provided Salary:$64K - $116K</td>\n",
       "      <td>PURPOSE:\\nThe Data Scientist I will be respons...</td>\n",
       "      <td>3.2</td>\n",
       "      <td>UNFI</td>\n",
       "      <td>Providence, RI</td>\n",
       "      <td>10000+ Employees</td>\n",
       "      <td>1978</td>\n",
       "      <td>Company - Public</td>\n",
       "      <td>Wholesale</td>\n",
       "      <td>...</td>\n",
       "      <td>1</td>\n",
       "      <td>RI</td>\n",
       "      <td>45</td>\n",
       "      <td>0</td>\n",
       "      <td>0</td>\n",
       "      <td>0</td>\n",
       "      <td>0</td>\n",
       "      <td>data scientist</td>\n",
       "      <td>na</td>\n",
       "      <td>0</td>\n",
       "    </tr>\n",
       "    <tr>\n",
       "      <th>4</th>\n",
       "      <td>Data Scientist</td>\n",
       "      <td>Employer Provided Salary:$60K - $140K</td>\n",
       "      <td>iOS: https://apps.apple.com/us/app/id155187173...</td>\n",
       "      <td>-1.0</td>\n",
       "      <td>Redvest App</td>\n",
       "      <td>Remote</td>\n",
       "      <td>-1</td>\n",
       "      <td>-1</td>\n",
       "      <td>-1</td>\n",
       "      <td>-1</td>\n",
       "      <td>...</td>\n",
       "      <td>0</td>\n",
       "      <td>remote</td>\n",
       "      <td>-1</td>\n",
       "      <td>0</td>\n",
       "      <td>0</td>\n",
       "      <td>0</td>\n",
       "      <td>0</td>\n",
       "      <td>data scientist</td>\n",
       "      <td>na</td>\n",
       "      <td>-1</td>\n",
       "    </tr>\n",
       "  </tbody>\n",
       "</table>\n",
       "<p>5 rows × 27 columns</p>\n",
       "</div>"
      ],
      "text/plain": [
       "                  Job Title  \\\n",
       "0  Associate Data Scientist   \n",
       "1            Data Scientist   \n",
       "2            Data Scientist   \n",
       "3          Data Scientist I   \n",
       "4            Data Scientist   \n",
       "\n",
       "                                     Salary Estimate  \\\n",
       "0              Employer Provided Salary:$80K - $110K   \n",
       "1              Employer Provided Salary:$88K - $110K   \n",
       "2  Employer Provided Salary:$75.00 - $80.00 Per Hour   \n",
       "3              Employer Provided Salary:$64K - $116K   \n",
       "4              Employer Provided Salary:$60K - $140K   \n",
       "\n",
       "                                     Job Description  Rating  \\\n",
       "0  The Role\\nWe are seeking a motivated and analy...     4.8   \n",
       "1  We Are Overstock:\\nAt Overstock.com, we believ...     3.2   \n",
       "2  Required\\nSelf-motivated individual who functi...    -1.0   \n",
       "3  PURPOSE:\\nThe Data Scientist I will be respons...     3.2   \n",
       "4  iOS: https://apps.apple.com/us/app/id155187173...    -1.0   \n",
       "\n",
       "         Company Name        Location                    Size  Founded  \\\n",
       "0               Polco          Remote     51 to 200 Employees       -1   \n",
       "1  Overstock.com Inc.          Remote  1001 to 5000 Employees     1999   \n",
       "2  PROLIM Corporation          Remote                      -1       -1   \n",
       "3                UNFI  Providence, RI        10000+ Employees     1978   \n",
       "4         Redvest App          Remote                      -1       -1   \n",
       "\n",
       "   Type of ownership                            Industry  ... Onsite   State  \\\n",
       "0  Company - Private                  Municipal Agencies  ...      0  remote   \n",
       "1   Company - Public  Home Furniture & Housewares Stores  ...      0  remote   \n",
       "2                 -1                                  -1  ...      0  remote   \n",
       "3   Company - Public                           Wholesale  ...      1      RI   \n",
       "4                 -1                                  -1  ...      0  remote   \n",
       "\n",
       "   Age  python  spark  tableau  tensorflow  Simplified Title Seniority  \\\n",
       "0   -1       0      0        0           0    data scientist        na   \n",
       "1   24       0      0        0           0    data scientist        na   \n",
       "2   -1       1      0        1           0    data scientist        na   \n",
       "3   45       0      0        0           0    data scientist        na   \n",
       "4   -1       0      0        0           0    data scientist        na   \n",
       "\n",
       "   isPrivate  \n",
       "0          1  \n",
       "1          0  \n",
       "2         -1  \n",
       "3          0  \n",
       "4         -1  \n",
       "\n",
       "[5 rows x 27 columns]"
      ]
     },
     "execution_count": 5,
     "metadata": {},
     "output_type": "execute_result"
    }
   ],
   "source": [
    "clean_df = pd.read_csv(\"salary_cleaned_dataset.csv\")\n",
    "clean_df.head()"
   ]
  },
  {
   "cell_type": "code",
   "execution_count": 6,
   "id": "85a3d109",
   "metadata": {},
   "outputs": [
    {
     "data": {
      "text/html": [
       "<div>\n",
       "<style scoped>\n",
       "    .dataframe tbody tr th:only-of-type {\n",
       "        vertical-align: middle;\n",
       "    }\n",
       "\n",
       "    .dataframe tbody tr th {\n",
       "        vertical-align: top;\n",
       "    }\n",
       "\n",
       "    .dataframe thead th {\n",
       "        text-align: right;\n",
       "    }\n",
       "</style>\n",
       "<table border=\"1\" class=\"dataframe\">\n",
       "  <thead>\n",
       "    <tr style=\"text-align: right;\">\n",
       "      <th></th>\n",
       "      <th>Rating</th>\n",
       "      <th>Founded</th>\n",
       "      <th>Employer Provided</th>\n",
       "      <th>Hourly</th>\n",
       "      <th>min_sal</th>\n",
       "      <th>max_sal</th>\n",
       "      <th>avg_sal</th>\n",
       "      <th>Onsite</th>\n",
       "      <th>Age</th>\n",
       "      <th>python</th>\n",
       "      <th>spark</th>\n",
       "      <th>tableau</th>\n",
       "      <th>tensorflow</th>\n",
       "      <th>isPrivate</th>\n",
       "    </tr>\n",
       "  </thead>\n",
       "  <tbody>\n",
       "    <tr>\n",
       "      <th>count</th>\n",
       "      <td>389.000000</td>\n",
       "      <td>389.000000</td>\n",
       "      <td>389.000000</td>\n",
       "      <td>389.000000</td>\n",
       "      <td>389.000000</td>\n",
       "      <td>389.000000</td>\n",
       "      <td>389.000000</td>\n",
       "      <td>389.000000</td>\n",
       "      <td>389.000000</td>\n",
       "      <td>389.000000</td>\n",
       "      <td>389.000000</td>\n",
       "      <td>389.000000</td>\n",
       "      <td>389.0</td>\n",
       "      <td>389.000000</td>\n",
       "    </tr>\n",
       "    <tr>\n",
       "      <th>mean</th>\n",
       "      <td>3.177121</td>\n",
       "      <td>1447.395887</td>\n",
       "      <td>0.652956</td>\n",
       "      <td>0.190231</td>\n",
       "      <td>90.880527</td>\n",
       "      <td>117.637455</td>\n",
       "      <td>101.479846</td>\n",
       "      <td>0.773779</td>\n",
       "      <td>34.215938</td>\n",
       "      <td>0.167095</td>\n",
       "      <td>0.017995</td>\n",
       "      <td>0.048843</td>\n",
       "      <td>0.0</td>\n",
       "      <td>0.213368</td>\n",
       "    </tr>\n",
       "    <tr>\n",
       "      <th>std</th>\n",
       "      <td>1.799747</td>\n",
       "      <td>877.205816</td>\n",
       "      <td>0.476643</td>\n",
       "      <td>0.392989</td>\n",
       "      <td>25.450513</td>\n",
       "      <td>39.359755</td>\n",
       "      <td>31.951132</td>\n",
       "      <td>0.418923</td>\n",
       "      <td>49.389047</td>\n",
       "      <td>0.373541</td>\n",
       "      <td>0.133104</td>\n",
       "      <td>0.215818</td>\n",
       "      <td>0.0</td>\n",
       "      <td>0.687312</td>\n",
       "    </tr>\n",
       "    <tr>\n",
       "      <th>min</th>\n",
       "      <td>-1.000000</td>\n",
       "      <td>-1.000000</td>\n",
       "      <td>0.000000</td>\n",
       "      <td>0.000000</td>\n",
       "      <td>52.500000</td>\n",
       "      <td>35.000000</td>\n",
       "      <td>35.000000</td>\n",
       "      <td>0.000000</td>\n",
       "      <td>-1.000000</td>\n",
       "      <td>0.000000</td>\n",
       "      <td>0.000000</td>\n",
       "      <td>0.000000</td>\n",
       "      <td>0.0</td>\n",
       "      <td>-1.000000</td>\n",
       "    </tr>\n",
       "    <tr>\n",
       "      <th>25%</th>\n",
       "      <td>3.200000</td>\n",
       "      <td>-1.000000</td>\n",
       "      <td>0.000000</td>\n",
       "      <td>0.000000</td>\n",
       "      <td>78.000000</td>\n",
       "      <td>99.000000</td>\n",
       "      <td>87.500000</td>\n",
       "      <td>1.000000</td>\n",
       "      <td>-1.000000</td>\n",
       "      <td>0.000000</td>\n",
       "      <td>0.000000</td>\n",
       "      <td>0.000000</td>\n",
       "      <td>0.0</td>\n",
       "      <td>0.000000</td>\n",
       "    </tr>\n",
       "    <tr>\n",
       "      <th>50%</th>\n",
       "      <td>3.800000</td>\n",
       "      <td>1977.000000</td>\n",
       "      <td>1.000000</td>\n",
       "      <td>0.000000</td>\n",
       "      <td>84.000000</td>\n",
       "      <td>114.000000</td>\n",
       "      <td>97.000000</td>\n",
       "      <td>1.000000</td>\n",
       "      <td>16.000000</td>\n",
       "      <td>0.000000</td>\n",
       "      <td>0.000000</td>\n",
       "      <td>0.000000</td>\n",
       "      <td>0.0</td>\n",
       "      <td>0.000000</td>\n",
       "    </tr>\n",
       "    <tr>\n",
       "      <th>75%</th>\n",
       "      <td>4.200000</td>\n",
       "      <td>2006.000000</td>\n",
       "      <td>1.000000</td>\n",
       "      <td>0.000000</td>\n",
       "      <td>97.000000</td>\n",
       "      <td>130.000000</td>\n",
       "      <td>109.500000</td>\n",
       "      <td>1.000000</td>\n",
       "      <td>45.000000</td>\n",
       "      <td>0.000000</td>\n",
       "      <td>0.000000</td>\n",
       "      <td>0.000000</td>\n",
       "      <td>0.0</td>\n",
       "      <td>1.000000</td>\n",
       "    </tr>\n",
       "    <tr>\n",
       "      <th>max</th>\n",
       "      <td>5.000000</td>\n",
       "      <td>2021.000000</td>\n",
       "      <td>1.000000</td>\n",
       "      <td>1.000000</td>\n",
       "      <td>245.000000</td>\n",
       "      <td>294.000000</td>\n",
       "      <td>253.500000</td>\n",
       "      <td>1.000000</td>\n",
       "      <td>269.000000</td>\n",
       "      <td>1.000000</td>\n",
       "      <td>1.000000</td>\n",
       "      <td>1.000000</td>\n",
       "      <td>0.0</td>\n",
       "      <td>1.000000</td>\n",
       "    </tr>\n",
       "  </tbody>\n",
       "</table>\n",
       "</div>"
      ],
      "text/plain": [
       "           Rating      Founded  Employer Provided      Hourly     min_sal  \\\n",
       "count  389.000000   389.000000         389.000000  389.000000  389.000000   \n",
       "mean     3.177121  1447.395887           0.652956    0.190231   90.880527   \n",
       "std      1.799747   877.205816           0.476643    0.392989   25.450513   \n",
       "min     -1.000000    -1.000000           0.000000    0.000000   52.500000   \n",
       "25%      3.200000    -1.000000           0.000000    0.000000   78.000000   \n",
       "50%      3.800000  1977.000000           1.000000    0.000000   84.000000   \n",
       "75%      4.200000  2006.000000           1.000000    0.000000   97.000000   \n",
       "max      5.000000  2021.000000           1.000000    1.000000  245.000000   \n",
       "\n",
       "          max_sal     avg_sal      Onsite         Age      python       spark  \\\n",
       "count  389.000000  389.000000  389.000000  389.000000  389.000000  389.000000   \n",
       "mean   117.637455  101.479846    0.773779   34.215938    0.167095    0.017995   \n",
       "std     39.359755   31.951132    0.418923   49.389047    0.373541    0.133104   \n",
       "min     35.000000   35.000000    0.000000   -1.000000    0.000000    0.000000   \n",
       "25%     99.000000   87.500000    1.000000   -1.000000    0.000000    0.000000   \n",
       "50%    114.000000   97.000000    1.000000   16.000000    0.000000    0.000000   \n",
       "75%    130.000000  109.500000    1.000000   45.000000    0.000000    0.000000   \n",
       "max    294.000000  253.500000    1.000000  269.000000    1.000000    1.000000   \n",
       "\n",
       "          tableau  tensorflow   isPrivate  \n",
       "count  389.000000       389.0  389.000000  \n",
       "mean     0.048843         0.0    0.213368  \n",
       "std      0.215818         0.0    0.687312  \n",
       "min      0.000000         0.0   -1.000000  \n",
       "25%      0.000000         0.0    0.000000  \n",
       "50%      0.000000         0.0    0.000000  \n",
       "75%      0.000000         0.0    1.000000  \n",
       "max      1.000000         0.0    1.000000  "
      ]
     },
     "execution_count": 6,
     "metadata": {},
     "output_type": "execute_result"
    }
   ],
   "source": [
    "clean_df.describe()"
   ]
  },
  {
   "cell_type": "code",
   "execution_count": 7,
   "id": "5994ba3c",
   "metadata": {},
   "outputs": [
    {
     "data": {
      "text/plain": [
       "<AxesSubplot:>"
      ]
     },
     "execution_count": 7,
     "metadata": {},
     "output_type": "execute_result"
    },
    {
     "data": {
      "image/png": "[encoded data removed]",
      "text/plain": [
       "<Figure size 432x288 with 1 Axes>"
      ]
     },
     "metadata": {
      "needs_background": "light"
     },
     "output_type": "display_data"
    }
   ],
   "source": [
    "#average salary almost follows a normal distribution\n",
    "clean_df[\"avg_sal\"].hist()"
   ]
  },
  {
   "cell_type": "code",
   "execution_count": 8,
   "id": "2af1ada7",
   "metadata": {},
   "outputs": [
    {
     "data": {
      "text/plain": [
       "<seaborn.axisgrid.PairGrid at 0x22c6b862760>"
      ]
     },
     "execution_count": 8,
     "metadata": {},
     "output_type": "execute_result"
    },
    {
     "data": {
      "image/png": "[encoded data removed]",
      "text/plain": [
       "<Figure size 771x720 with 20 Axes>"
      ]
     },
     "metadata": {
      "needs_background": "light"
     },
     "output_type": "display_data"
    }
   ],
   "source": [
    "sns.pairplot(clean_df[[\"avg_sal\",\"min_sal\",\"max_sal\",\"isPrivate\",\"Rating\"]],hue=\"isPrivate\",palette=\"brg\")"
   ]
  },
  {
   "cell_type": "code",
   "execution_count": 9,
   "id": "edb07848",
   "metadata": {},
   "outputs": [
    {
     "data": {
      "text/plain": [
       "<AxesSubplot:>"
      ]
     },
     "execution_count": 9,
     "metadata": {},
     "output_type": "execute_result"
    },
    {
     "data": {
      "image/png": "[encoded data removed]",
      "text/plain": [
       "<Figure size 432x288 with 1 Axes>"
      ]
     },
     "metadata": {
      "needs_background": "light"
     },
     "output_type": "display_data"
    }
   ],
   "source": [
    "clean_df.boxplot(column = \"min_sal\")"
   ]
  },
  {
   "cell_type": "code",
   "execution_count": 10,
   "id": "727c44fe",
   "metadata": {},
   "outputs": [
    {
     "data": {
      "text/html": [
       "<div>\n",
       "<style scoped>\n",
       "    .dataframe tbody tr th:only-of-type {\n",
       "        vertical-align: middle;\n",
       "    }\n",
       "\n",
       "    .dataframe tbody tr th {\n",
       "        vertical-align: top;\n",
       "    }\n",
       "\n",
       "    .dataframe thead th {\n",
       "        text-align: right;\n",
       "    }\n",
       "</style>\n",
       "<table border=\"1\" class=\"dataframe\">\n",
       "  <thead>\n",
       "    <tr style=\"text-align: right;\">\n",
       "      <th></th>\n",
       "      <th>avg_sal</th>\n",
       "      <th>Age</th>\n",
       "      <th>Rating</th>\n",
       "    </tr>\n",
       "  </thead>\n",
       "  <tbody>\n",
       "    <tr>\n",
       "      <th>avg_sal</th>\n",
       "      <td>1.000000</td>\n",
       "      <td>-0.070851</td>\n",
       "      <td>0.078368</td>\n",
       "    </tr>\n",
       "    <tr>\n",
       "      <th>Age</th>\n",
       "      <td>-0.070851</td>\n",
       "      <td>1.000000</td>\n",
       "      <td>0.249667</td>\n",
       "    </tr>\n",
       "    <tr>\n",
       "      <th>Rating</th>\n",
       "      <td>0.078368</td>\n",
       "      <td>0.249667</td>\n",
       "      <td>1.000000</td>\n",
       "    </tr>\n",
       "  </tbody>\n",
       "</table>\n",
       "</div>"
      ],
      "text/plain": [
       "          avg_sal       Age    Rating\n",
       "avg_sal  1.000000 -0.070851  0.078368\n",
       "Age     -0.070851  1.000000  0.249667\n",
       "Rating   0.078368  0.249667  1.000000"
      ]
     },
     "execution_count": 10,
     "metadata": {},
     "output_type": "execute_result"
    }
   ],
   "source": [
    "clean_df[[\"avg_sal\",\"Age\",\"Rating\"]].corr()"
   ]
  },
  {
   "cell_type": "code",
   "execution_count": 13,
   "id": "f7a43652",
   "metadata": {},
   "outputs": [
    {
     "data": {
      "text/plain": [
       "<AxesSubplot:>"
      ]
     },
     "execution_count": 13,
     "metadata": {},
     "output_type": "execute_result"
    },
    {
     "data": {
      "image/png": "[encoded data removed]",
      "text/plain": [
       "<Figure size 432x288 with 2 Axes>"
      ]
     },
     "metadata": {
      "needs_background": "light"
     },
     "output_type": "display_data"
    }
   ],
   "source": [
    "sns.heatmap(clean_df[[\"avg_sal\",\"Age\",\"Rating\",\"isPrivate\",\"Onsite\"]].corr(), annot=True)"
   ]
  },
  {
   "cell_type": "code",
   "execution_count": 14,
   "id": "0b45ceb0",
   "metadata": {},
   "outputs": [
    {
     "data": {
      "text/plain": [
       "Index(['Job Title', 'Salary Estimate', 'Job Description', 'Rating',\n",
       "       'Company Name', 'Location', 'Size', 'Founded', 'Type of ownership',\n",
       "       'Industry', 'Sector', 'Revenue', 'Employer Provided', 'Hourly',\n",
       "       'min_sal', 'max_sal', 'avg_sal', 'Onsite', 'State', 'Age', 'python',\n",
       "       'spark', 'tableau', 'tensorflow', 'Simplified Title', 'Seniority',\n",
       "       'isPrivate'],\n",
       "      dtype='object')"
      ]
     },
     "execution_count": 14,
     "metadata": {},
     "output_type": "execute_result"
    }
   ],
   "source": [
    "clean_df.columns"
   ]
  },
  {
   "cell_type": "code",
   "execution_count": 15,
   "id": "028de85f",
   "metadata": {},
   "outputs": [],
   "source": [
    "#visualising categorical variables\n",
    "df_cat = clean_df[['Job Title','Size','Revenue', 'Hourly',\n",
    "        'Onsite', 'python', 'spark',\n",
    "       'tableau', 'tensorflow', 'Seniority', 'isPrivate']]"
   ]
  },
  {
   "cell_type": "code",
   "execution_count": 16,
   "id": "92a55a07",
   "metadata": {},
   "outputs": [
    {
     "name": "stdout",
     "output_type": "stream",
     "text": [
      "graph for Job Title total 39\n"
     ]
    },
    {
     "data": {
      "image/png": "[encoded data removed]",
      "text/plain": [
       "<Figure size 432x288 with 1 Axes>"
      ]
     },
     "metadata": {
      "needs_background": "light"
     },
     "output_type": "display_data"
    },
    {
     "name": "stdout",
     "output_type": "stream",
     "text": [
      "graph for Size total 9\n"
     ]
    },
    {
     "data": {
      "image/png": "[encoded data removed]",
      "text/plain": [
       "<Figure size 432x288 with 1 Axes>"
      ]
     },
     "metadata": {
      "needs_background": "light"
     },
     "output_type": "display_data"
    },
    {
     "name": "stdout",
     "output_type": "stream",
     "text": [
      "graph for Revenue total 10\n"
     ]
    },
    {
     "data": {
      "image/png": "[encoded data removed]",
      "text/plain": [
       "<Figure size 432x288 with 1 Axes>"
      ]
     },
     "metadata": {
      "needs_background": "light"
     },
     "output_type": "display_data"
    },
    {
     "name": "stdout",
     "output_type": "stream",
     "text": [
      "graph for Hourly total 2\n"
     ]
    },
    {
     "data": {
      "image/png": "[encoded data removed]",
      "text/plain": [
       "<Figure size 432x288 with 1 Axes>"
      ]
     },
     "metadata": {
      "needs_background": "light"
     },
     "output_type": "display_data"
    },
    {
     "name": "stdout",
     "output_type": "stream",
     "text": [
      "graph for Onsite total 2\n"
     ]
    },
    {
     "data": {
      "image/png": "[encoded data removed]",
      "text/plain": [
       "<Figure size 432x288 with 1 Axes>"
      ]
     },
     "metadata": {
      "needs_background": "light"
     },
     "output_type": "display_data"
    },
    {
     "name": "stdout",
     "output_type": "stream",
     "text": [
      "graph for python total 2\n"
     ]
    },
    {
     "data": {
      "image/png": "[encoded data removed]",
      "text/plain": [
       "<Figure size 432x288 with 1 Axes>"
      ]
     },
     "metadata": {
      "needs_background": "light"
     },
     "output_type": "display_data"
    },
    {
     "name": "stdout",
     "output_type": "stream",
     "text": [
      "graph for spark total 2\n"
     ]
    },
    {
     "data": {
      "image/png": "[encoded data removed]",
      "text/plain": [
       "<Figure size 432x288 with 1 Axes>"
      ]
     },
     "metadata": {
      "needs_background": "light"
     },
     "output_type": "display_data"
    },
    {
     "name": "stdout",
     "output_type": "stream",
     "text": [
      "graph for tableau total 2\n"
     ]
    },
    {
     "data": {
      "image/png": "[encoded data removed]",
      "text/plain": [
       "<Figure size 432x288 with 1 Axes>"
      ]
     },
     "metadata": {
      "needs_background": "light"
     },
     "output_type": "display_data"
    },
    {
     "name": "stdout",
     "output_type": "stream",
     "text": [
      "graph for tensorflow total 1\n"
     ]
    },
    {
     "data": {
      "image/png": "[encoded data removed]",
      "text/plain": [
       "<Figure size 432x288 with 1 Axes>"
      ]
     },
     "metadata": {
      "needs_background": "light"
     },
     "output_type": "display_data"
    },
    {
     "name": "stdout",
     "output_type": "stream",
     "text": [
      "graph for Seniority total 3\n"
     ]
    },
    {
     "data": {
      "image/png": "[encoded data removed]",
      "text/plain": [
       "<Figure size 432x288 with 1 Axes>"
      ]
     },
     "metadata": {
      "needs_background": "light"
     },
     "output_type": "display_data"
    },
    {
     "name": "stdout",
     "output_type": "stream",
     "text": [
      "graph for isPrivate total 3\n"
     ]
    },
    {
     "data": {
      "image/png": "[encoded data removed]",
      "text/plain": [
       "<Figure size 432x288 with 1 Axes>"
      ]
     },
     "metadata": {
      "needs_background": "light"
     },
     "output_type": "display_data"
    }
   ],
   "source": [
    "for i in df_cat.columns:\n",
    "    cat_num = df_cat[i].value_counts()\n",
    "    print(\"graph for %s total %d\"%(i,len(cat_num)))\n",
    "    chart = sns.barplot(data=clean_df, x=cat_num.index, y=cat_num)\n",
    "    chart.set_xticklabels(chart.get_xticklabels(), rotation=90)\n",
    "    plt.show()"
   ]
  },
  {
   "cell_type": "code",
   "execution_count": 17,
   "id": "2adfe7b4",
   "metadata": {},
   "outputs": [
    {
     "data": {
      "text/html": [
       "<div>\n",
       "<style scoped>\n",
       "    .dataframe tbody tr th:only-of-type {\n",
       "        vertical-align: middle;\n",
       "    }\n",
       "\n",
       "    .dataframe tbody tr th {\n",
       "        vertical-align: top;\n",
       "    }\n",
       "\n",
       "    .dataframe thead th {\n",
       "        text-align: right;\n",
       "    }\n",
       "</style>\n",
       "<table border=\"1\" class=\"dataframe\">\n",
       "  <thead>\n",
       "    <tr style=\"text-align: right;\">\n",
       "      <th></th>\n",
       "      <th></th>\n",
       "      <th>avg_sal</th>\n",
       "    </tr>\n",
       "    <tr>\n",
       "      <th>Job Title</th>\n",
       "      <th>isPrivate</th>\n",
       "      <th></th>\n",
       "    </tr>\n",
       "  </thead>\n",
       "  <tbody>\n",
       "    <tr>\n",
       "      <th>Associate Data Scientist</th>\n",
       "      <th>1</th>\n",
       "      <td>95.000000</td>\n",
       "    </tr>\n",
       "    <tr>\n",
       "      <th>Bioinformatics Engineer/AWS Data/ data scientist</th>\n",
       "      <th>1</th>\n",
       "      <td>42.710000</td>\n",
       "    </tr>\n",
       "    <tr>\n",
       "      <th rowspan=\"2\" valign=\"top\">Data Engineer</th>\n",
       "      <th>0</th>\n",
       "      <td>97.000000</td>\n",
       "    </tr>\n",
       "    <tr>\n",
       "      <th>1</th>\n",
       "      <td>94.750000</td>\n",
       "    </tr>\n",
       "    <tr>\n",
       "      <th rowspan=\"3\" valign=\"top\">Data Scientist</th>\n",
       "      <th>-1</th>\n",
       "      <td>86.867647</td>\n",
       "    </tr>\n",
       "    <tr>\n",
       "      <th>0</th>\n",
       "      <td>98.667290</td>\n",
       "    </tr>\n",
       "    <tr>\n",
       "      <th>1</th>\n",
       "      <td>90.056452</td>\n",
       "    </tr>\n",
       "    <tr>\n",
       "      <th>Data Scientist (All Levels)</th>\n",
       "      <th>-1</th>\n",
       "      <td>115.500000</td>\n",
       "    </tr>\n",
       "    <tr>\n",
       "      <th>Data Scientist (GenerativeAI)</th>\n",
       "      <th>1</th>\n",
       "      <td>138.000000</td>\n",
       "    </tr>\n",
       "    <tr>\n",
       "      <th>Data Scientist (L5) - Applied Research, Consumer Insights</th>\n",
       "      <th>0</th>\n",
       "      <td>133.500000</td>\n",
       "    </tr>\n",
       "    <tr>\n",
       "      <th>Data Scientist - All Levels</th>\n",
       "      <th>1</th>\n",
       "      <td>80.000000</td>\n",
       "    </tr>\n",
       "    <tr>\n",
       "      <th>Data Scientist - Customer Obsession</th>\n",
       "      <th>0</th>\n",
       "      <td>124.000000</td>\n",
       "    </tr>\n",
       "    <tr>\n",
       "      <th>Data Scientist 1</th>\n",
       "      <th>0</th>\n",
       "      <td>86.000000</td>\n",
       "    </tr>\n",
       "    <tr>\n",
       "      <th>Data Scientist 5</th>\n",
       "      <th>0</th>\n",
       "      <td>139.500000</td>\n",
       "    </tr>\n",
       "    <tr>\n",
       "      <th>Data Scientist Fellowship</th>\n",
       "      <th>-1</th>\n",
       "      <td>70.000000</td>\n",
       "    </tr>\n",
       "    <tr>\n",
       "      <th rowspan=\"3\" valign=\"top\">Data Scientist I</th>\n",
       "      <th>-1</th>\n",
       "      <td>134.000000</td>\n",
       "    </tr>\n",
       "    <tr>\n",
       "      <th>0</th>\n",
       "      <td>91.785714</td>\n",
       "    </tr>\n",
       "    <tr>\n",
       "      <th>1</th>\n",
       "      <td>101.000000</td>\n",
       "    </tr>\n",
       "    <tr>\n",
       "      <th>Data Scientist I, Product Analytics</th>\n",
       "      <th>0</th>\n",
       "      <td>133.000000</td>\n",
       "    </tr>\n",
       "    <tr>\n",
       "      <th>Data Scientist II</th>\n",
       "      <th>0</th>\n",
       "      <td>137.000000</td>\n",
       "    </tr>\n",
       "    <tr>\n",
       "      <th>Data Scientist Trainee Cohort3</th>\n",
       "      <th>1</th>\n",
       "      <td>89.000000</td>\n",
       "    </tr>\n",
       "    <tr>\n",
       "      <th>Data Scientist or Statistician, Postdoc</th>\n",
       "      <th>-1</th>\n",
       "      <td>93.500000</td>\n",
       "    </tr>\n",
       "    <tr>\n",
       "      <th>Data Scientist, 40 Hours, Days.</th>\n",
       "      <th>-1</th>\n",
       "      <td>76.000000</td>\n",
       "    </tr>\n",
       "    <tr>\n",
       "      <th>Data Scientist, Machine Learning</th>\n",
       "      <th>0</th>\n",
       "      <td>233.000000</td>\n",
       "    </tr>\n",
       "    <tr>\n",
       "      <th>Data Scientist, Product Analytics</th>\n",
       "      <th>1</th>\n",
       "      <td>142.500000</td>\n",
       "    </tr>\n",
       "    <tr>\n",
       "      <th>Data Visualization Specialist - Data Scientist or Associate Data Scientist</th>\n",
       "      <th>-1</th>\n",
       "      <td>90.500000</td>\n",
       "    </tr>\n",
       "    <tr>\n",
       "      <th>Genomics Data Scientist</th>\n",
       "      <th>1</th>\n",
       "      <td>112.500000</td>\n",
       "    </tr>\n",
       "    <tr>\n",
       "      <th>Geospatial Data Scientist</th>\n",
       "      <th>0</th>\n",
       "      <td>86.500000</td>\n",
       "    </tr>\n",
       "    <tr>\n",
       "      <th>Healthcare Data Scientist</th>\n",
       "      <th>-1</th>\n",
       "      <td>100.000000</td>\n",
       "    </tr>\n",
       "    <tr>\n",
       "      <th>Imaging Data Scientist</th>\n",
       "      <th>0</th>\n",
       "      <td>102.500000</td>\n",
       "    </tr>\n",
       "    <tr>\n",
       "      <th rowspan=\"2\" valign=\"top\">Junior Data Scientist</th>\n",
       "      <th>-1</th>\n",
       "      <td>57.500000</td>\n",
       "    </tr>\n",
       "    <tr>\n",
       "      <th>1</th>\n",
       "      <td>95.500000</td>\n",
       "    </tr>\n",
       "    <tr>\n",
       "      <th>Junior Data Scientist/ Data Analytics - Full Time Position</th>\n",
       "      <th>0</th>\n",
       "      <td>91.000000</td>\n",
       "    </tr>\n",
       "    <tr>\n",
       "      <th>Lead Data Scientist</th>\n",
       "      <th>-1</th>\n",
       "      <td>80.000000</td>\n",
       "    </tr>\n",
       "    <tr>\n",
       "      <th>Lead Data Scientist, Credit Product - Fully Remote</th>\n",
       "      <th>-1</th>\n",
       "      <td>95.000000</td>\n",
       "    </tr>\n",
       "    <tr>\n",
       "      <th>Lead People Data Scientist</th>\n",
       "      <th>0</th>\n",
       "      <td>143.500000</td>\n",
       "    </tr>\n",
       "    <tr>\n",
       "      <th>Machine Learning Data Scientist - Python / R</th>\n",
       "      <th>1</th>\n",
       "      <td>114.500000</td>\n",
       "    </tr>\n",
       "    <tr>\n",
       "      <th>REMOTE: Data Scientist</th>\n",
       "      <th>0</th>\n",
       "      <td>105.000000</td>\n",
       "    </tr>\n",
       "    <tr>\n",
       "      <th rowspan=\"3\" valign=\"top\">Senior Data Scientist</th>\n",
       "      <th>-1</th>\n",
       "      <td>60.000000</td>\n",
       "    </tr>\n",
       "    <tr>\n",
       "      <th>0</th>\n",
       "      <td>163.833333</td>\n",
       "    </tr>\n",
       "    <tr>\n",
       "      <th>1</th>\n",
       "      <td>70.000000</td>\n",
       "    </tr>\n",
       "    <tr>\n",
       "      <th>Senior Data Scientist (REMOTE POSITION)</th>\n",
       "      <th>0</th>\n",
       "      <td>212.500000</td>\n",
       "    </tr>\n",
       "    <tr>\n",
       "      <th>Senior/Staff Data Scientist</th>\n",
       "      <th>1</th>\n",
       "      <td>249.000000</td>\n",
       "    </tr>\n",
       "    <tr>\n",
       "      <th rowspan=\"2\" valign=\"top\">Sr Data Scientist</th>\n",
       "      <th>0</th>\n",
       "      <td>153.000000</td>\n",
       "    </tr>\n",
       "    <tr>\n",
       "      <th>1</th>\n",
       "      <td>60.000000</td>\n",
       "    </tr>\n",
       "    <tr>\n",
       "      <th>Sr Data Scientist- Wealth Analytics</th>\n",
       "      <th>0</th>\n",
       "      <td>108.000000</td>\n",
       "    </tr>\n",
       "    <tr>\n",
       "      <th>Sr. Data Scientist</th>\n",
       "      <th>0</th>\n",
       "      <td>116.937500</td>\n",
       "    </tr>\n",
       "    <tr>\n",
       "      <th rowspan=\"2\" valign=\"top\">Staff Data Scientist</th>\n",
       "      <th>0</th>\n",
       "      <td>253.500000</td>\n",
       "    </tr>\n",
       "    <tr>\n",
       "      <th>1</th>\n",
       "      <td>200.000000</td>\n",
       "    </tr>\n",
       "  </tbody>\n",
       "</table>\n",
       "</div>"
      ],
      "text/plain": [
       "                                                                 avg_sal\n",
       "Job Title                                          isPrivate            \n",
       "Associate Data Scientist                            1          95.000000\n",
       "Bioinformatics Engineer/AWS Data/ data scientist    1          42.710000\n",
       "Data Engineer                                       0          97.000000\n",
       "                                                    1          94.750000\n",
       "Data Scientist                                     -1          86.867647\n",
       "                                                    0          98.667290\n",
       "                                                    1          90.056452\n",
       "Data Scientist (All Levels)                        -1         115.500000\n",
       "Data Scientist (GenerativeAI)                       1         138.000000\n",
       "Data Scientist (L5) - Applied Research, Consume...  0         133.500000\n",
       "Data Scientist - All Levels                         1          80.000000\n",
       "Data Scientist - Customer Obsession                 0         124.000000\n",
       "Data Scientist 1                                    0          86.000000\n",
       "Data Scientist 5                                    0         139.500000\n",
       "Data Scientist Fellowship                          -1          70.000000\n",
       "Data Scientist I                                   -1         134.000000\n",
       "                                                    0          91.785714\n",
       "                                                    1         101.000000\n",
       "Data Scientist I, Product Analytics                 0         133.000000\n",
       "Data Scientist II                                   0         137.000000\n",
       "Data Scientist Trainee Cohort3                      1          89.000000\n",
       "Data Scientist or Statistician, Postdoc            -1          93.500000\n",
       "Data Scientist, 40 Hours, Days.                    -1          76.000000\n",
       "Data Scientist, Machine Learning                    0         233.000000\n",
       "Data Scientist, Product Analytics                   1         142.500000\n",
       "Data Visualization Specialist - Data Scientist ... -1          90.500000\n",
       "Genomics Data Scientist                             1         112.500000\n",
       "Geospatial Data Scientist                           0          86.500000\n",
       "Healthcare Data Scientist                          -1         100.000000\n",
       "Imaging Data Scientist                              0         102.500000\n",
       "Junior Data Scientist                              -1          57.500000\n",
       "                                                    1          95.500000\n",
       "Junior Data Scientist/ Data Analytics - Full Ti...  0          91.000000\n",
       "Lead Data Scientist                                -1          80.000000\n",
       "Lead Data Scientist, Credit Product - Fully Remote -1          95.000000\n",
       "Lead People Data Scientist                          0         143.500000\n",
       "Machine Learning Data Scientist - Python / R        1         114.500000\n",
       "REMOTE: Data Scientist                              0         105.000000\n",
       "Senior Data Scientist                              -1          60.000000\n",
       "                                                    0         163.833333\n",
       "                                                    1          70.000000\n",
       "Senior Data Scientist (REMOTE POSITION)             0         212.500000\n",
       "Senior/Staff Data Scientist                         1         249.000000\n",
       "Sr Data Scientist                                   0         153.000000\n",
       "                                                    1          60.000000\n",
       "Sr Data Scientist- Wealth Analytics                 0         108.000000\n",
       "Sr. Data Scientist                                  0         116.937500\n",
       "Staff Data Scientist                                0         253.500000\n",
       "                                                    1         200.000000"
      ]
     },
     "execution_count": 17,
     "metadata": {},
     "output_type": "execute_result"
    }
   ],
   "source": [
    "pd.pivot_table(clean_df, index=[\"Job Title\",\"isPrivate\"], values=\"avg_sal\")"
   ]
  },
  {
   "cell_type": "code",
   "execution_count": 18,
   "id": "98f5a218",
   "metadata": {},
   "outputs": [
    {
     "data": {
      "text/html": [
       "<div>\n",
       "<style scoped>\n",
       "    .dataframe tbody tr th:only-of-type {\n",
       "        vertical-align: middle;\n",
       "    }\n",
       "\n",
       "    .dataframe tbody tr th {\n",
       "        vertical-align: top;\n",
       "    }\n",
       "\n",
       "    .dataframe thead th {\n",
       "        text-align: right;\n",
       "    }\n",
       "</style>\n",
       "<table border=\"1\" class=\"dataframe\">\n",
       "  <thead>\n",
       "    <tr style=\"text-align: right;\">\n",
       "      <th></th>\n",
       "      <th>avg_sal</th>\n",
       "    </tr>\n",
       "    <tr>\n",
       "      <th>State</th>\n",
       "      <th></th>\n",
       "    </tr>\n",
       "  </thead>\n",
       "  <tbody>\n",
       "    <tr>\n",
       "      <th>WA</th>\n",
       "      <td>139.222222</td>\n",
       "    </tr>\n",
       "    <tr>\n",
       "      <th>NV</th>\n",
       "      <td>135.000000</td>\n",
       "    </tr>\n",
       "    <tr>\n",
       "      <th>US</th>\n",
       "      <td>122.500000</td>\n",
       "    </tr>\n",
       "    <tr>\n",
       "      <th>IL</th>\n",
       "      <td>121.800000</td>\n",
       "    </tr>\n",
       "    <tr>\n",
       "      <th>NY</th>\n",
       "      <td>111.131579</td>\n",
       "    </tr>\n",
       "    <tr>\n",
       "      <th>CO</th>\n",
       "      <td>111.100000</td>\n",
       "    </tr>\n",
       "    <tr>\n",
       "      <th>NJ</th>\n",
       "      <td>110.000000</td>\n",
       "    </tr>\n",
       "    <tr>\n",
       "      <th>AZ</th>\n",
       "      <td>109.500000</td>\n",
       "    </tr>\n",
       "    <tr>\n",
       "      <th>OR</th>\n",
       "      <td>109.000000</td>\n",
       "    </tr>\n",
       "    <tr>\n",
       "      <th>MA</th>\n",
       "      <td>106.400000</td>\n",
       "    </tr>\n",
       "    <tr>\n",
       "      <th>PA</th>\n",
       "      <td>105.000000</td>\n",
       "    </tr>\n",
       "    <tr>\n",
       "      <th>VA</th>\n",
       "      <td>104.833333</td>\n",
       "    </tr>\n",
       "    <tr>\n",
       "      <th>remote</th>\n",
       "      <td>104.662045</td>\n",
       "    </tr>\n",
       "    <tr>\n",
       "      <th>IA</th>\n",
       "      <td>101.900000</td>\n",
       "    </tr>\n",
       "    <tr>\n",
       "      <th>MO</th>\n",
       "      <td>101.500000</td>\n",
       "    </tr>\n",
       "    <tr>\n",
       "      <th>CA</th>\n",
       "      <td>101.205333</td>\n",
       "    </tr>\n",
       "    <tr>\n",
       "      <th>TN</th>\n",
       "      <td>97.500000</td>\n",
       "    </tr>\n",
       "    <tr>\n",
       "      <th>MS</th>\n",
       "      <td>97.000000</td>\n",
       "    </tr>\n",
       "    <tr>\n",
       "      <th>GA</th>\n",
       "      <td>97.000000</td>\n",
       "    </tr>\n",
       "    <tr>\n",
       "      <th>OH</th>\n",
       "      <td>93.500000</td>\n",
       "    </tr>\n",
       "    <tr>\n",
       "      <th>TX</th>\n",
       "      <td>92.078431</td>\n",
       "    </tr>\n",
       "    <tr>\n",
       "      <th>SD</th>\n",
       "      <td>91.500000</td>\n",
       "    </tr>\n",
       "    <tr>\n",
       "      <th>MN</th>\n",
       "      <td>90.500000</td>\n",
       "    </tr>\n",
       "    <tr>\n",
       "      <th>RI</th>\n",
       "      <td>90.000000</td>\n",
       "    </tr>\n",
       "    <tr>\n",
       "      <th>MD</th>\n",
       "      <td>88.375000</td>\n",
       "    </tr>\n",
       "    <tr>\n",
       "      <th>MI</th>\n",
       "      <td>82.000000</td>\n",
       "    </tr>\n",
       "    <tr>\n",
       "      <th>NC</th>\n",
       "      <td>73.625000</td>\n",
       "    </tr>\n",
       "    <tr>\n",
       "      <th>DE</th>\n",
       "      <td>70.000000</td>\n",
       "    </tr>\n",
       "    <tr>\n",
       "      <th>WI</th>\n",
       "      <td>57.500000</td>\n",
       "    </tr>\n",
       "  </tbody>\n",
       "</table>\n",
       "</div>"
      ],
      "text/plain": [
       "           avg_sal\n",
       "State             \n",
       "WA      139.222222\n",
       "NV      135.000000\n",
       "US      122.500000\n",
       "IL      121.800000\n",
       "NY      111.131579\n",
       "CO      111.100000\n",
       "NJ      110.000000\n",
       "AZ      109.500000\n",
       "OR      109.000000\n",
       "MA      106.400000\n",
       "PA      105.000000\n",
       "VA      104.833333\n",
       "remote  104.662045\n",
       "IA      101.900000\n",
       "MO      101.500000\n",
       "CA      101.205333\n",
       "TN       97.500000\n",
       "MS       97.000000\n",
       "GA       97.000000\n",
       "OH       93.500000\n",
       "TX       92.078431\n",
       "SD       91.500000\n",
       "MN       90.500000\n",
       "RI       90.000000\n",
       "MD       88.375000\n",
       "MI       82.000000\n",
       "NC       73.625000\n",
       "DE       70.000000\n",
       "WI       57.500000"
      ]
     },
     "execution_count": 18,
     "metadata": {},
     "output_type": "execute_result"
    }
   ],
   "source": [
    "pd.pivot_table(clean_df, index=[\"State\"], values=\"avg_sal\").sort_values(by=\"avg_sal\",ascending=False)"
   ]
  },
  {
   "cell_type": "markdown",
   "id": "3492df7d",
   "metadata": {},
   "source": [
    "## Generating word cloud"
   ]
  },
  {
   "cell_type": "code",
   "execution_count": 19,
   "id": "f328def1",
   "metadata": {},
   "outputs": [],
   "source": [
    "from wordcloud import WordCloud, ImageColorGenerator, STOPWORDS\n",
    "from nltk.corpus import stopwords\n",
    "from nltk.tokenize import word_tokenize"
   ]
  },
  {
   "cell_type": "code",
   "execution_count": 22,
   "id": "386f693a",
   "metadata": {},
   "outputs": [
    {
     "ename": "ValueError",
     "evalue": "Only supported for TrueType fonts",
     "output_type": "error",
     "traceback": [
      "\u001b[1;31m---------------------------------------------------------------------------\u001b[0m",
      "\u001b[1;31mValueError\u001b[0m                                Traceback (most recent call last)",
      "\u001b[1;32m~\\AppData\\Local\\Temp/ipykernel_15912/617366777.py\u001b[0m in \u001b[0;36m<module>\u001b[1;34m\u001b[0m\n\u001b[0;32m     17\u001b[0m \u001b[1;33m\u001b[0m\u001b[0m\n\u001b[0;32m     18\u001b[0m \u001b[0mwc\u001b[0m \u001b[1;33m=\u001b[0m \u001b[0mWordCloud\u001b[0m\u001b[1;33m(\u001b[0m\u001b[0mwidth\u001b[0m \u001b[1;33m=\u001b[0m \u001b[1;36m1000\u001b[0m\u001b[1;33m,\u001b[0m \u001b[0mheight\u001b[0m \u001b[1;33m=\u001b[0m \u001b[1;36m1000\u001b[0m\u001b[1;33m,\u001b[0m\u001b[0mbackground_color\u001b[0m \u001b[1;33m=\u001b[0m\u001b[1;34m'white'\u001b[0m\u001b[1;33m,\u001b[0m\u001b[0mstopwords\u001b[0m \u001b[1;33m=\u001b[0m \u001b[0mSTOPWORDS\u001b[0m\u001b[1;33m,\u001b[0m\u001b[0mcollocations\u001b[0m \u001b[1;33m=\u001b[0m \u001b[1;32mFalse\u001b[0m\u001b[1;33m,\u001b[0m\u001b[0mmax_words\u001b[0m\u001b[1;33m=\u001b[0m\u001b[1;36m2000\u001b[0m\u001b[1;33m,\u001b[0m\u001b[0mrandom_state\u001b[0m\u001b[1;33m=\u001b[0m\u001b[1;36m1\u001b[0m\u001b[1;33m)\u001b[0m\u001b[1;33m\u001b[0m\u001b[1;33m\u001b[0m\u001b[0m\n\u001b[1;32m---> 19\u001b[1;33m \u001b[0mwc\u001b[0m\u001b[1;33m.\u001b[0m\u001b[0mgenerate\u001b[0m\u001b[1;33m(\u001b[0m\u001b[0mtext\u001b[0m\u001b[1;33m)\u001b[0m\u001b[1;33m\u001b[0m\u001b[1;33m\u001b[0m\u001b[0m\n\u001b[0m\u001b[0;32m     20\u001b[0m \u001b[1;33m\u001b[0m\u001b[0m\n\u001b[0;32m     21\u001b[0m \u001b[1;31m# plot the WordCloud image\u001b[0m\u001b[1;33m\u001b[0m\u001b[1;33m\u001b[0m\u001b[0m\n",
      "\u001b[1;32m~\\anaconda3\\lib\\site-packages\\wordcloud\\wordcloud.py\u001b[0m in \u001b[0;36mgenerate\u001b[1;34m(self, text)\u001b[0m\n\u001b[0;32m    637\u001b[0m         \u001b[0mself\u001b[0m\u001b[1;33m\u001b[0m\u001b[1;33m\u001b[0m\u001b[0m\n\u001b[0;32m    638\u001b[0m         \"\"\"\n\u001b[1;32m--> 639\u001b[1;33m         \u001b[1;32mreturn\u001b[0m \u001b[0mself\u001b[0m\u001b[1;33m.\u001b[0m\u001b[0mgenerate_from_text\u001b[0m\u001b[1;33m(\u001b[0m\u001b[0mtext\u001b[0m\u001b[1;33m)\u001b[0m\u001b[1;33m\u001b[0m\u001b[1;33m\u001b[0m\u001b[0m\n\u001b[0m\u001b[0;32m    640\u001b[0m \u001b[1;33m\u001b[0m\u001b[0m\n\u001b[0;32m    641\u001b[0m     \u001b[1;32mdef\u001b[0m \u001b[0m_check_generated\u001b[0m\u001b[1;33m(\u001b[0m\u001b[0mself\u001b[0m\u001b[1;33m)\u001b[0m\u001b[1;33m:\u001b[0m\u001b[1;33m\u001b[0m\u001b[1;33m\u001b[0m\u001b[0m\n",
      "\u001b[1;32m~\\anaconda3\\lib\\site-packages\\wordcloud\\wordcloud.py\u001b[0m in \u001b[0;36mgenerate_from_text\u001b[1;34m(self, text)\u001b[0m\n\u001b[0;32m    619\u001b[0m         \"\"\"\n\u001b[0;32m    620\u001b[0m         \u001b[0mwords\u001b[0m \u001b[1;33m=\u001b[0m \u001b[0mself\u001b[0m\u001b[1;33m.\u001b[0m\u001b[0mprocess_text\u001b[0m\u001b[1;33m(\u001b[0m\u001b[0mtext\u001b[0m\u001b[1;33m)\u001b[0m\u001b[1;33m\u001b[0m\u001b[1;33m\u001b[0m\u001b[0m\n\u001b[1;32m--> 621\u001b[1;33m         \u001b[0mself\u001b[0m\u001b[1;33m.\u001b[0m\u001b[0mgenerate_from_frequencies\u001b[0m\u001b[1;33m(\u001b[0m\u001b[0mwords\u001b[0m\u001b[1;33m)\u001b[0m\u001b[1;33m\u001b[0m\u001b[1;33m\u001b[0m\u001b[0m\n\u001b[0m\u001b[0;32m    622\u001b[0m         \u001b[1;32mreturn\u001b[0m \u001b[0mself\u001b[0m\u001b[1;33m\u001b[0m\u001b[1;33m\u001b[0m\u001b[0m\n\u001b[0;32m    623\u001b[0m \u001b[1;33m\u001b[0m\u001b[0m\n",
      "\u001b[1;32m~\\anaconda3\\lib\\site-packages\\wordcloud\\wordcloud.py\u001b[0m in \u001b[0;36mgenerate_from_frequencies\u001b[1;34m(self, frequencies, max_font_size)\u001b[0m\n\u001b[0;32m    451\u001b[0m                 \u001b[0mfont_size\u001b[0m \u001b[1;33m=\u001b[0m \u001b[0mself\u001b[0m\u001b[1;33m.\u001b[0m\u001b[0mheight\u001b[0m\u001b[1;33m\u001b[0m\u001b[1;33m\u001b[0m\u001b[0m\n\u001b[0;32m    452\u001b[0m             \u001b[1;32melse\u001b[0m\u001b[1;33m:\u001b[0m\u001b[1;33m\u001b[0m\u001b[1;33m\u001b[0m\u001b[0m\n\u001b[1;32m--> 453\u001b[1;33m                 self.generate_from_frequencies(dict(frequencies[:2]),\n\u001b[0m\u001b[0;32m    454\u001b[0m                                                max_font_size=self.height)\n\u001b[0;32m    455\u001b[0m                 \u001b[1;31m# find font sizes\u001b[0m\u001b[1;33m\u001b[0m\u001b[1;33m\u001b[0m\u001b[0m\n",
      "\u001b[1;32m~\\anaconda3\\lib\\site-packages\\wordcloud\\wordcloud.py\u001b[0m in \u001b[0;36mgenerate_from_frequencies\u001b[1;34m(self, frequencies, max_font_size)\u001b[0m\n\u001b[0;32m    506\u001b[0m                     font, orientation=orientation)\n\u001b[0;32m    507\u001b[0m                 \u001b[1;31m# get size of resulting text\u001b[0m\u001b[1;33m\u001b[0m\u001b[1;33m\u001b[0m\u001b[0m\n\u001b[1;32m--> 508\u001b[1;33m                 \u001b[0mbox_size\u001b[0m \u001b[1;33m=\u001b[0m \u001b[0mdraw\u001b[0m\u001b[1;33m.\u001b[0m\u001b[0mtextbbox\u001b[0m\u001b[1;33m(\u001b[0m\u001b[1;33m(\u001b[0m\u001b[1;36m0\u001b[0m\u001b[1;33m,\u001b[0m \u001b[1;36m0\u001b[0m\u001b[1;33m)\u001b[0m\u001b[1;33m,\u001b[0m \u001b[0mword\u001b[0m\u001b[1;33m,\u001b[0m \u001b[0mfont\u001b[0m\u001b[1;33m=\u001b[0m\u001b[0mtransposed_font\u001b[0m\u001b[1;33m,\u001b[0m \u001b[0manchor\u001b[0m\u001b[1;33m=\u001b[0m\u001b[1;34m\"lt\"\u001b[0m\u001b[1;33m)\u001b[0m\u001b[1;33m\u001b[0m\u001b[1;33m\u001b[0m\u001b[0m\n\u001b[0m\u001b[0;32m    509\u001b[0m                 \u001b[1;31m# find possible places using integral image:\u001b[0m\u001b[1;33m\u001b[0m\u001b[1;33m\u001b[0m\u001b[0m\n\u001b[0;32m    510\u001b[0m                 result = occupancy.sample_position(box_size[3] + self.margin,\n",
      "\u001b[1;32m~\\anaconda3\\lib\\site-packages\\PIL\\ImageDraw.py\u001b[0m in \u001b[0;36mtextbbox\u001b[1;34m(self, xy, text, font, anchor, spacing, align, direction, features, language, stroke_width, embedded_color)\u001b[0m\n\u001b[0;32m    649\u001b[0m             \u001b[0mfont\u001b[0m \u001b[1;33m=\u001b[0m \u001b[0mself\u001b[0m\u001b[1;33m.\u001b[0m\u001b[0mgetfont\u001b[0m\u001b[1;33m(\u001b[0m\u001b[1;33m)\u001b[0m\u001b[1;33m\u001b[0m\u001b[1;33m\u001b[0m\u001b[0m\n\u001b[0;32m    650\u001b[0m         \u001b[1;32mif\u001b[0m \u001b[1;32mnot\u001b[0m \u001b[0misinstance\u001b[0m\u001b[1;33m(\u001b[0m\u001b[0mfont\u001b[0m\u001b[1;33m,\u001b[0m \u001b[0mImageFont\u001b[0m\u001b[1;33m.\u001b[0m\u001b[0mFreeTypeFont\u001b[0m\u001b[1;33m)\u001b[0m\u001b[1;33m:\u001b[0m\u001b[1;33m\u001b[0m\u001b[1;33m\u001b[0m\u001b[0m\n\u001b[1;32m--> 651\u001b[1;33m             \u001b[1;32mraise\u001b[0m \u001b[0mValueError\u001b[0m\u001b[1;33m(\u001b[0m\u001b[1;34m\"Only supported for TrueType fonts\"\u001b[0m\u001b[1;33m)\u001b[0m\u001b[1;33m\u001b[0m\u001b[1;33m\u001b[0m\u001b[0m\n\u001b[0m\u001b[0;32m    652\u001b[0m         \u001b[0mmode\u001b[0m \u001b[1;33m=\u001b[0m \u001b[1;34m\"RGBA\"\u001b[0m \u001b[1;32mif\u001b[0m \u001b[0membedded_color\u001b[0m \u001b[1;32melse\u001b[0m \u001b[0mself\u001b[0m\u001b[1;33m.\u001b[0m\u001b[0mfontmode\u001b[0m\u001b[1;33m\u001b[0m\u001b[1;33m\u001b[0m\u001b[0m\n\u001b[0;32m    653\u001b[0m         bbox = font.getbbox(\n",
      "\u001b[1;31mValueError\u001b[0m: Only supported for TrueType fonts"
     ]
    }
   ],
   "source": [
    "words = \" \".join(clean_df[\"Job Description\"])\n",
    "\n",
    "def punctuation_stop(text):\n",
    "    \"\"\"remove punctuation and stop words\"\"\"\n",
    "    filtered = []\n",
    "    stop_words = set(stopwords.words('english'))\n",
    "    word_tokens = word_tokenize(text)\n",
    "    for w in word_tokens:\n",
    "        if w not in stop_words and w.isalpha():\n",
    "            filtered.append(w.lower())\n",
    "    return filtered\n",
    "\n",
    "\n",
    "words_filtered = punctuation_stop(words)\n",
    "\n",
    "text = \" \".join([ele for ele in words_filtered])\n",
    "\n",
    "wc = WordCloud(width = 1000, height = 1000,background_color ='white',stopwords = STOPWORDS,collocations = False,max_words=2000)\n",
    "wc.generate(text)\n",
    "\n",
    "# plot the WordCloud image\n",
    "plt.figure(figsize = (10, 10), facecolor = None)\n",
    "plt.imshow(wc.interpolation(\"bilinear\"))\n",
    "plt.axis(\"off\")\n",
    "plt.tight_layout(pad = 0)\n",
    "\n",
    "plt.show()\n"
   ]
  },
  {
   "cell_type": "markdown",
   "id": "46543db5",
   "metadata": {},
   "source": [
    "## Model Buliding"
   ]
  },
  {
   "cell_type": "code",
   "execution_count": 11,
   "id": "871bd875",
   "metadata": {},
   "outputs": [],
   "source": [
    "#taking relevant variables for model building\n",
    "dataset = clean_df[['Rating',\n",
    "       'Company Name', 'Size','Type of ownership',\n",
    "       'Industry', 'Sector', 'Revenue', 'Employer Provided', 'Hourly',\n",
    "       'avg_sal', 'Onsite', 'State', 'Age', 'python',\n",
    "       'spark', 'tableau', 'tensorflow', 'Simplified Title', 'Seniority',\n",
    "       'isPrivate']]"
   ]
  },
  {
   "cell_type": "code",
   "execution_count": 12,
   "id": "5c1820e0",
   "metadata": {},
   "outputs": [
    {
     "data": {
      "text/plain": [
       "(389, 208)"
      ]
     },
     "execution_count": 12,
     "metadata": {},
     "output_type": "execute_result"
    }
   ],
   "source": [
    "#giving each categorical variable a seperate column\n",
    "df_dum = pd.get_dummies(dataset)\n",
    "df_dum.shape"
   ]
  },
  {
   "cell_type": "code",
   "execution_count": 13,
   "id": "1bdf7b4b",
   "metadata": {},
   "outputs": [],
   "source": [
    "from sklearn.model_selection import train_test_split"
   ]
  },
  {
   "cell_type": "code",
   "execution_count": 76,
   "id": "86eef6cb",
   "metadata": {},
   "outputs": [],
   "source": [
    "#splitting dataset into training and testing data\n",
    "X = df_dum.drop(\"avg_sal\",axis=1)\n",
    "y = df_dum[\"avg_sal\"].values\n",
    "X_train, X_test, y_train, y_test = train_test_split(X, y, train_size = 0.8 ,random_state=10)"
   ]
  },
  {
   "cell_type": "markdown",
   "id": "00967544",
   "metadata": {},
   "source": [
    "## Linear Regression using Ridge Regression"
   ]
  },
  {
   "cell_type": "code",
   "execution_count": 15,
   "id": "3b2f90a8",
   "metadata": {},
   "outputs": [],
   "source": [
    "from sklearn.model_selection import GridSearchCV"
   ]
  },
  {
   "cell_type": "code",
   "execution_count": 16,
   "id": "d5a43084",
   "metadata": {},
   "outputs": [],
   "source": [
    "#linear regression\n",
    "from sklearn.linear_model import LinearRegression, Lasso\n",
    "from sklearn.model_selection import cross_val_score\n",
    "from sklearn.linear_model import Ridge\n",
    "from yellowbrick.regressor import PredictionError, ResidualsPlot"
   ]
  },
  {
   "cell_type": "code",
   "execution_count": 41,
   "id": "c3be3061",
   "metadata": {},
   "outputs": [],
   "source": [
    "# regression = LinearRegression()\n",
    "# regression.fit(X_train,y_train)\n",
    "# reg_MAE = np.mean(cross_val_score(regression, X_train, y_train, scoring=\"neg_mean_absolute_error\", cv=5))\n",
    "# print(\"Mean Absolute error of Linear Regression is: \",reg_MAE)"
   ]
  },
  {
   "cell_type": "code",
   "execution_count": 42,
   "id": "228833cb",
   "metadata": {},
   "outputs": [
    {
     "data": {
      "text/html": [
       "<style>#sk-container-id-3 {color: black;background-color: white;}#sk-container-id-3 pre{padding: 0;}#sk-container-id-3 div.sk-toggleable {background-color: white;}#sk-container-id-3 label.sk-toggleable__label {cursor: pointer;display: block;width: 100%;margin-bottom: 0;padding: 0.3em;box-sizing: border-box;text-align: center;}#sk-container-id-3 label.sk-toggleable__label-arrow:before {content: \"▸\";float: left;margin-right: 0.25em;color: #696969;}#sk-container-id-3 label.sk-toggleable__label-arrow:hover:before {color: black;}#sk-container-id-3 div.sk-estimator:hover label.sk-toggleable__label-arrow:before {color: black;}#sk-container-id-3 div.sk-toggleable__content {max-height: 0;max-width: 0;overflow: hidden;text-align: left;background-color: #f0f8ff;}#sk-container-id-3 div.sk-toggleable__content pre {margin: 0.2em;color: black;border-radius: 0.25em;background-color: #f0f8ff;}#sk-container-id-3 input.sk-toggleable__control:checked~div.sk-toggleable__content {max-height: 200px;max-width: 100%;overflow: auto;}#sk-container-id-3 input.sk-toggleable__control:checked~label.sk-toggleable__label-arrow:before {content: \"▾\";}#sk-container-id-3 div.sk-estimator input.sk-toggleable__control:checked~label.sk-toggleable__label {background-color: #d4ebff;}#sk-container-id-3 div.sk-label input.sk-toggleable__control:checked~label.sk-toggleable__label {background-color: #d4ebff;}#sk-container-id-3 input.sk-hidden--visually {border: 0;clip: rect(1px 1px 1px 1px);clip: rect(1px, 1px, 1px, 1px);height: 1px;margin: -1px;overflow: hidden;padding: 0;position: absolute;width: 1px;}#sk-container-id-3 div.sk-estimator {font-family: monospace;background-color: #f0f8ff;border: 1px dotted black;border-radius: 0.25em;box-sizing: border-box;margin-bottom: 0.5em;}#sk-container-id-3 div.sk-estimator:hover {background-color: #d4ebff;}#sk-container-id-3 div.sk-parallel-item::after {content: \"\";width: 100%;border-bottom: 1px solid gray;flex-grow: 1;}#sk-container-id-3 div.sk-label:hover label.sk-toggleable__label {background-color: #d4ebff;}#sk-container-id-3 div.sk-serial::before {content: \"\";position: absolute;border-left: 1px solid gray;box-sizing: border-box;top: 0;bottom: 0;left: 50%;z-index: 0;}#sk-container-id-3 div.sk-serial {display: flex;flex-direction: column;align-items: center;background-color: white;padding-right: 0.2em;padding-left: 0.2em;position: relative;}#sk-container-id-3 div.sk-item {position: relative;z-index: 1;}#sk-container-id-3 div.sk-parallel {display: flex;align-items: stretch;justify-content: center;background-color: white;position: relative;}#sk-container-id-3 div.sk-item::before, #sk-container-id-3 div.sk-parallel-item::before {content: \"\";position: absolute;border-left: 1px solid gray;box-sizing: border-box;top: 0;bottom: 0;left: 50%;z-index: -1;}#sk-container-id-3 div.sk-parallel-item {display: flex;flex-direction: column;z-index: 1;position: relative;background-color: white;}#sk-container-id-3 div.sk-parallel-item:first-child::after {align-self: flex-end;width: 50%;}#sk-container-id-3 div.sk-parallel-item:last-child::after {align-self: flex-start;width: 50%;}#sk-container-id-3 div.sk-parallel-item:only-child::after {width: 0;}#sk-container-id-3 div.sk-dashed-wrapped {border: 1px dashed gray;margin: 0 0.4em 0.5em 0.4em;box-sizing: border-box;padding-bottom: 0.4em;background-color: white;}#sk-container-id-3 div.sk-label label {font-family: monospace;font-weight: bold;display: inline-block;line-height: 1.2em;}#sk-container-id-3 div.sk-label-container {text-align: center;}#sk-container-id-3 div.sk-container {/* jupyter's `normalize.less` sets `[hidden] { display: none; }` but bootstrap.min.css set `[hidden] { display: none !important; }` so we also need the `!important` here to be able to override the default hidden behavior on the sphinx rendered scikit-learn.org. See: https://github.com/scikit-learn/scikit-learn/issues/21755 */display: inline-block !important;position: relative;}#sk-container-id-3 div.sk-text-repr-fallback {display: none;}</style><div id=\"sk-container-id-3\" class=\"sk-top-container\"><div class=\"sk-text-repr-fallback\"><pre>Ridge(normalize=False)</pre><b>In a Jupyter environment, please rerun this cell to show the HTML representation or trust the notebook. <br />On GitHub, the HTML representation is unable to render, please try loading this page with nbviewer.org.</b></div><div class=\"sk-container\" hidden><div class=\"sk-item\"><div class=\"sk-estimator sk-toggleable\"><input class=\"sk-toggleable__control sk-hidden--visually\" id=\"sk-estimator-id-3\" type=\"checkbox\" checked><label for=\"sk-estimator-id-3\" class=\"sk-toggleable__label sk-toggleable__label-arrow\">Ridge</label><div class=\"sk-toggleable__content\"><pre>Ridge(normalize=False)</pre></div></div></div></div></div>"
      ],
      "text/plain": [
       "Ridge(normalize=False)"
      ]
     },
     "execution_count": 42,
     "metadata": {},
     "output_type": "execute_result"
    }
   ],
   "source": [
    "#using ridge regression\n",
    "Ridge(alpha=1.0, fit_intercept=True, normalize=False, copy_X=True,max_iter=None, tol=0.001, solver='auto', random_state=None)"
   ]
  },
  {
   "cell_type": "code",
   "execution_count": 43,
   "id": "e477db4f",
   "metadata": {},
   "outputs": [
    {
     "name": "stdout",
     "output_type": "stream",
     "text": [
      "Best parameters:\n",
      "{'alpha': 1, 'fit_intercept': True, 'solver': 'svd'}\n"
     ]
    }
   ],
   "source": [
    "parameter_space = {\n",
    "\"alpha\": [1, 10, 100, 290, 500],\n",
    "\"fit_intercept\": [True, False],\n",
    "\"solver\": ['svd', 'cholesky', 'lsqr', 'sparse_cg', 'sag', 'saga'],\n",
    "}\n",
    "clf = GridSearchCV(Ridge(random_state=3), parameter_space, n_jobs=4, cv=3, scoring=\"neg_mean_absolute_error\")\n",
    "clf.fit(X_train, y_train)\n",
    "print(\"Best parameters:\")\n",
    "print(clf.best_params_)"
   ]
  },
  {
   "cell_type": "code",
   "execution_count": 44,
   "id": "325ebeab",
   "metadata": {},
   "outputs": [
    {
     "name": "stdout",
     "output_type": "stream",
     "text": [
      "Mean Absolute error of Linear Regression with ridge regression is:  -3.7890208862710346\n"
     ]
    }
   ],
   "source": [
    "ridge_model = Ridge(random_state=3, **clf.best_params_)\n",
    "ridge_reg_MAE = np.mean(cross_val_score(ridge_model, X_train, y_train, scoring=\"neg_mean_absolute_error\", cv=3))\n",
    "print(\"Mean Absolute error of Linear Regression with ridge regression is: \",ridge_reg_MAE)"
   ]
  },
  {
   "cell_type": "code",
   "execution_count": 21,
   "id": "3b6a4499",
   "metadata": {},
   "outputs": [
    {
     "data": {
      "image/png": "[encoded data removed]",
      "text/plain": [
       "<Figure size 576x396 with 1 Axes>"
      ]
     },
     "metadata": {},
     "output_type": "display_data"
    },
    {
     "data": {
      "text/plain": [
       "<AxesSubplot:title={'center':'Prediction Error for Ridge'}, xlabel='$y$', ylabel='$\\\\hat{y}$'>"
      ]
     },
     "execution_count": 21,
     "metadata": {},
     "output_type": "execute_result"
    }
   ],
   "source": [
    "visualizer = PredictionError(ridge_model)\n",
    "visualizer.fit(X_train, y_train)  \n",
    "visualizer.score(X_test, y_test)  \n",
    "visualizer.poof()"
   ]
  },
  {
   "cell_type": "code",
   "execution_count": 22,
   "id": "7d27b4ac",
   "metadata": {},
   "outputs": [
    {
     "name": "stderr",
     "output_type": "stream",
     "text": [
      "C:\\Users\\Patil\\anaconda3\\lib\\site-packages\\sklearn\\base.py:450: UserWarning: X does not have valid feature names, but Ridge was fitted with feature names\n",
      "  warnings.warn(\n"
     ]
    },
    {
     "data": {
      "image/png": "[encoded data removed]",
      "text/plain": [
       "<Figure size 576x396 with 2 Axes>"
      ]
     },
     "metadata": {},
     "output_type": "display_data"
    },
    {
     "data": {
      "text/plain": [
       "<AxesSubplot:title={'center':'Residuals for Ridge Model'}, xlabel='Predicted Value', ylabel='Residuals'>"
      ]
     },
     "execution_count": 22,
     "metadata": {},
     "output_type": "execute_result"
    }
   ],
   "source": [
    "visualizer = ResidualsPlot(ridge_model)\n",
    "visualizer.fit(X_train, y_train)  \n",
    "visualizer.score(X_test, y_test)  \n",
    "visualizer.poof()"
   ]
  },
  {
   "cell_type": "code",
   "execution_count": null,
   "id": "8d31315e",
   "metadata": {},
   "outputs": [],
   "source": []
  },
  {
   "cell_type": "markdown",
   "id": "bfb56c77",
   "metadata": {},
   "source": [
    "## Random Forest Model"
   ]
  },
  {
   "cell_type": "code",
   "execution_count": 23,
   "id": "ca5cce15",
   "metadata": {},
   "outputs": [],
   "source": [
    "from sklearn.ensemble import RandomForestRegressor\n",
    "from sklearn.model_selection import RandomizedSearchCV"
   ]
  },
  {
   "cell_type": "code",
   "execution_count": 24,
   "id": "588d8810",
   "metadata": {},
   "outputs": [
    {
     "name": "stdout",
     "output_type": "stream",
     "text": [
      "Best parameters:\n",
      "{'n_estimators': 600, 'min_samples_split': 2, 'min_samples_leaf': 1, 'max_features': 19, 'max_depth': 254, 'criterion': 'squared_error', 'bootstrap': False}\n"
     ]
    }
   ],
   "source": [
    "parameter_space = {\n",
    "\"n_estimators\": [10, 100, 300, 600],\n",
    "\"criterion\": [\"squared_error\", \"absolute_error\"],\n",
    "\"max_depth\": [7, 50, 254],\n",
    "\"min_samples_split\": [2, 5],\n",
    "\"min_samples_leaf\": [1, 5],\n",
    "\"max_features\": [19, 100, X_train.shape[1]],\n",
    "\"bootstrap\": [True, False],\n",
    "}\n",
    "clf = RandomizedSearchCV(RandomForestRegressor(random_state=3),\n",
    "parameter_space, cv=3, n_jobs=4,\n",
    "scoring=\"neg_mean_absolute_error\",\n",
    "n_iter=10, random_state=3)\n",
    "clf.fit(X_train, y_train)\n",
    "print(\"Best parameters:\")\n",
    "print(clf.best_params_)"
   ]
  },
  {
   "cell_type": "code",
   "execution_count": 25,
   "id": "da5398d9",
   "metadata": {},
   "outputs": [
    {
     "name": "stdout",
     "output_type": "stream",
     "text": [
      "Mean Absolute error of Random Forest is:  -2.1269553899983036\n"
     ]
    }
   ],
   "source": [
    "rf = RandomForestRegressor(**clf.best_params_)\n",
    "rf_MAE=np.mean(cross_val_score(rf, X_train, y_train, scoring=\"neg_mean_absolute_error\", cv=5))\n",
    "print(\"Mean Absolute error of Random Forest is: \",rf_MAE)"
   ]
  },
  {
   "cell_type": "code",
   "execution_count": 102,
   "id": "18d28a6f",
   "metadata": {},
   "outputs": [
    {
     "name": "stdout",
     "output_type": "stream",
     "text": [
      "[155.          95.          77.5         60.38        54.\n",
      "  95.          87.          99.27645     89.         139.5\n",
      "  90.          95.5        101.          97.50416667  97.50416667\n",
      " 105.          96.          87.          90.          90.\n",
      "  67.         142.5         99.          97.         109.5\n",
      "  35.         109.          91.          66.37783333 172.5\n",
      " 100.         142.5        109.5         95.5         91.\n",
      " 135.          91.         109.5        109.         172.5\n",
      "  95.5         99.27645     99.          42.71        77.5\n",
      " 132.5         91.5         95.         200.          90.5\n",
      " 141.         102.99916667 104.4432      66.37783333  67.\n",
      " 172.5         95.5         95.          35.         114.\n",
      "  35.         139.5         96.         113.43063333 102.99916667\n",
      "  57.5        132.5        114.          99.83833333 100.\n",
      "  66.37783333  61.          91.5        135.46666667  90.\n",
      " 109.          86.         134.        ]\n"
     ]
    }
   ],
   "source": [
    "rf.fit(X_train, y_train)\n",
    "y_pred = rf.predict(X_test)\n",
    "print(y_pred)"
   ]
  },
  {
   "cell_type": "code",
   "execution_count": 103,
   "id": "ef9bfaa9",
   "metadata": {},
   "outputs": [
    {
     "name": "stdout",
     "output_type": "stream",
     "text": [
      "R-squared: 0.9999999650151358\n"
     ]
    }
   ],
   "source": [
    "score = rf.score(X_train,y_train)\n",
    "print(\"R-squared:\", score)"
   ]
  },
  {
   "cell_type": "code",
   "execution_count": 105,
   "id": "3ecccb6f",
   "metadata": {},
   "outputs": [
    {
     "name": "stdout",
     "output_type": "stream",
     "text": [
      "R-squared: 0.6793623209442854\n"
     ]
    }
   ],
   "source": [
    "score = rf.score(X_test,y_test)\n",
    "print(\"R-squared:\", score)"
   ]
  },
  {
   "cell_type": "markdown",
   "id": "fafc7785",
   "metadata": {},
   "source": [
    "## Decision Tree Regressor"
   ]
  },
  {
   "cell_type": "code",
   "execution_count": 26,
   "id": "2878452b",
   "metadata": {},
   "outputs": [],
   "source": [
    "from sklearn.tree import DecisionTreeRegressor"
   ]
  },
  {
   "cell_type": "code",
   "execution_count": 45,
   "id": "20276782",
   "metadata": {},
   "outputs": [],
   "source": [
    "# tree = DecisionTreeRegressor()\n",
    "# dt_MAE = np.mean(cross_val_score(tree, X_train, y_train, scoring=\"neg_mean_absolute_error\", cv=5))\n",
    "# print(\"Mean Absolute error of Decision Tree is: \",dt_MAE)"
   ]
  },
  {
   "cell_type": "code",
   "execution_count": 48,
   "id": "19d62af9",
   "metadata": {},
   "outputs": [
    {
     "name": "stdout",
     "output_type": "stream",
     "text": [
      "Best parameters:\n",
      "{'criterion': 'absolute_error', 'max_features': 207, 'min_samples_leaf': 3, 'min_samples_split': 5}\n"
     ]
    }
   ],
   "source": [
    "parameter_space = {\n",
    "\"criterion\": [\"absolute_error\", \"friedman_mse\", \"squared_error\"],\n",
    "\"min_samples_split\": [5, 18, 29, 50],\n",
    "\"min_samples_leaf\": [3, 7, 15, 25],\n",
    "\"max_features\": [20, 50, 150, 200, X_train.shape[1]]\n",
    "}\n",
    "\n",
    "clf = GridSearchCV(DecisionTreeRegressor(random_state=3), parameter_space,\n",
    "cv=3, scoring=\"neg_mean_absolute_error\", n_jobs=4)\n",
    "clf.fit(X_train, y_train)\n",
    "print(\"Best parameters:\")\n",
    "print(clf.best_params_)"
   ]
  },
  {
   "cell_type": "code",
   "execution_count": 49,
   "id": "71352dac",
   "metadata": {},
   "outputs": [
    {
     "name": "stdout",
     "output_type": "stream",
     "text": [
      "Mean Absolute error of Decision Tree is:  -6.027793650793651\n"
     ]
    }
   ],
   "source": [
    "tree = DecisionTreeRegressor(**clf.best_params_)\n",
    "dt_MAE = np.mean(cross_val_score(tree, X_train, y_train, scoring=\"neg_mean_absolute_error\", cv=5))\n",
    "print(\"Mean Absolute error of Decision Tree is: \",dt_MAE)"
   ]
  },
  {
   "cell_type": "markdown",
   "id": "56962ed5",
   "metadata": {},
   "source": [
    "## KNN"
   ]
  },
  {
   "cell_type": "code",
   "execution_count": 31,
   "id": "b659c477",
   "metadata": {},
   "outputs": [],
   "source": [
    "from sklearn.neighbors import KNeighborsRegressor"
   ]
  },
  {
   "cell_type": "code",
   "execution_count": 32,
   "id": "a7f2e55c",
   "metadata": {},
   "outputs": [
    {
     "name": "stdout",
     "output_type": "stream",
     "text": [
      "Best parameters:\n",
      "{'algorithm': 'ball_tree', 'leaf_size': 2, 'n_neighbors': 15, 'weights': 'distance'}\n"
     ]
    }
   ],
   "source": [
    "parameter_space = {\n",
    "\"n_neighbors\": [5, 10, 15, 20, 45],\n",
    "\"weights\": [\"uniform\", \"distance\"],\n",
    "\"algorithm\": [\"ball_tree\", \"kd_tree\", \"brute\"],\n",
    "\"leaf_size\": [1,2,10,40,250]\n",
    "}\n",
    "clf = GridSearchCV(KNeighborsRegressor(), parameter_space, cv=3,\n",
    "scoring=\"neg_mean_absolute_error\", n_jobs=4)\n",
    "clf.fit(X_train, y_train)\n",
    "print(\"Best parameters:\")\n",
    "print(clf.best_params_)"
   ]
  },
  {
   "cell_type": "code",
   "execution_count": 33,
   "id": "9577b173",
   "metadata": {},
   "outputs": [
    {
     "name": "stdout",
     "output_type": "stream",
     "text": [
      "Mean Absolute error of Decision Tree is:  -2.9148834996748554\n"
     ]
    }
   ],
   "source": [
    "#**kwargs will accept any number of arguments\n",
    "knn = KNeighborsRegressor(**clf.best_params_)\n",
    "knn_MAE = np.mean(cross_val_score(knn, X_train, y_train, scoring=\"neg_mean_absolute_error\", cv=3))\n",
    "print(\"Mean Absolute error of Decision Tree is: \",knn_MAE)"
   ]
  },
  {
   "cell_type": "markdown",
   "id": "70829eb3",
   "metadata": {},
   "source": [
    "## Neural Networks"
   ]
  },
  {
   "cell_type": "code",
   "execution_count": 57,
   "id": "44bc9d04",
   "metadata": {},
   "outputs": [],
   "source": [
    "from sklearn.neural_network import MLPRegressor"
   ]
  },
  {
   "cell_type": "code",
   "execution_count": 58,
   "id": "a3a47039",
   "metadata": {},
   "outputs": [
    {
     "name": "stdout",
     "output_type": "stream",
     "text": [
      "Best parameters:\n",
      "{'activation': 'identity', 'alpha': 10, 'hidden_layer_sizes': (154,), 'solver': 'lbfgs'}\n"
     ]
    },
    {
     "name": "stderr",
     "output_type": "stream",
     "text": [
      "C:\\Users\\Patil\\anaconda3\\lib\\site-packages\\sklearn\\neural_network\\_multilayer_perceptron.py:559: ConvergenceWarning: lbfgs failed to converge (status=1):\n",
      "STOP: TOTAL NO. of ITERATIONS REACHED LIMIT.\n",
      "\n",
      "Increase the number of iterations (max_iter) or scale the data as shown in:\n",
      "    https://scikit-learn.org/stable/modules/preprocessing.html\n",
      "  self.n_iter_ = _check_optimize_result(\"lbfgs\", opt_res, self.max_iter)\n"
     ]
    }
   ],
   "source": [
    "parameter_space = {\n",
    "\"hidden_layer_sizes\": [(7,)*3, (19,), (100,), (154,)],\n",
    "\"activation\": [\"identity\", \"logistic\", \"tanh\", \"relu\"],\n",
    "\"solver\": [\"lbfgs\"],\n",
    "\"alpha\": [1, 10, 100],\n",
    "}\n",
    "clf = GridSearchCV(MLPRegressor(random_state=3), parameter_space,\n",
    "cv=3, scoring=\"neg_mean_absolute_error\", n_jobs=4)\n",
    "clf.fit(X_train, y_train)\n",
    "print(\"Best parameters:\")\n",
    "print(clf.best_params_)"
   ]
  },
  {
   "cell_type": "code",
   "execution_count": 61,
   "id": "ec53c9f6",
   "metadata": {},
   "outputs": [
    {
     "name": "stderr",
     "output_type": "stream",
     "text": [
      "C:\\Users\\Patil\\anaconda3\\lib\\site-packages\\sklearn\\neural_network\\_multilayer_perceptron.py:559: ConvergenceWarning: lbfgs failed to converge (status=1):\n",
      "STOP: TOTAL NO. of ITERATIONS REACHED LIMIT.\n",
      "\n",
      "Increase the number of iterations (max_iter) or scale the data as shown in:\n",
      "    https://scikit-learn.org/stable/modules/preprocessing.html\n",
      "  self.n_iter_ = _check_optimize_result(\"lbfgs\", opt_res, self.max_iter)\n",
      "C:\\Users\\Patil\\anaconda3\\lib\\site-packages\\sklearn\\neural_network\\_multilayer_perceptron.py:559: ConvergenceWarning: lbfgs failed to converge (status=1):\n",
      "STOP: TOTAL NO. of ITERATIONS REACHED LIMIT.\n",
      "\n",
      "Increase the number of iterations (max_iter) or scale the data as shown in:\n",
      "    https://scikit-learn.org/stable/modules/preprocessing.html\n",
      "  self.n_iter_ = _check_optimize_result(\"lbfgs\", opt_res, self.max_iter)\n"
     ]
    },
    {
     "name": "stdout",
     "output_type": "stream",
     "text": [
      "Mean Absolute error of Neural Network Tree is:  -2.612315272923062\n"
     ]
    },
    {
     "name": "stderr",
     "output_type": "stream",
     "text": [
      "C:\\Users\\Patil\\anaconda3\\lib\\site-packages\\sklearn\\neural_network\\_multilayer_perceptron.py:559: ConvergenceWarning: lbfgs failed to converge (status=1):\n",
      "STOP: TOTAL NO. of ITERATIONS REACHED LIMIT.\n",
      "\n",
      "Increase the number of iterations (max_iter) or scale the data as shown in:\n",
      "    https://scikit-learn.org/stable/modules/preprocessing.html\n",
      "  self.n_iter_ = _check_optimize_result(\"lbfgs\", opt_res, self.max_iter)\n"
     ]
    }
   ],
   "source": [
    "nn = MLPRegressor(**clf.best_params_,max_iter=500)\n",
    "nn_MAE = np.mean(cross_val_score(nn, X_train, y_train, scoring=\"neg_mean_absolute_error\", cv=3))\n",
    "print(\"Mean Absolute error of Neural Network Tree is: \",nn_MAE)"
   ]
  },
  {
   "cell_type": "markdown",
   "id": "05121ba8",
   "metadata": {},
   "source": [
    "## Support Vector Machines"
   ]
  },
  {
   "cell_type": "code",
   "execution_count": 84,
   "id": "08b99839",
   "metadata": {},
   "outputs": [],
   "source": [
    "from sklearn.model_selection import RandomizedSearchCV\n",
    "from sklearn.svm import SVR"
   ]
  },
  {
   "cell_type": "code",
   "execution_count": 85,
   "id": "d04ea8ee",
   "metadata": {},
   "outputs": [
    {
     "name": "stdout",
     "output_type": "stream",
     "text": [
      "Best parameters:\n",
      "{'C': 100, 'coef0': 0, 'degree': 3, 'gamma': 0.001, 'kernel': 'linear'}\n"
     ]
    }
   ],
   "source": [
    "parameter_space = {\n",
    "\"kernel\": [\"poly\", \"linear\", \"rbf\", \"sigmoid\"],\n",
    "\"degree\": [3, 5],\n",
    "\"coef0\": [0, 3, 7],\n",
    "\"gamma\":[1e-3, 1e-1, 1/X_train.shape[1]],\n",
    "\"C\": [1, 10, 100],\n",
    "}\n",
    "clf = GridSearchCV(SVR(), parameter_space, cv=3, n_jobs=4,\n",
    "scoring=\"neg_mean_absolute_error\")\n",
    "clf.fit(X_train, y_train)\n",
    "print(\"Best parameters:\")\n",
    "print(clf.best_params_)"
   ]
  },
  {
   "cell_type": "code",
   "execution_count": 86,
   "id": "782a9f63",
   "metadata": {},
   "outputs": [
    {
     "name": "stdout",
     "output_type": "stream",
     "text": [
      "Mean Absolute error of SVM is:  -1.8793236417866843\n"
     ]
    }
   ],
   "source": [
    "svm = SVR(**clf.best_params_)\n",
    "svm_MAE = np.mean(cross_val_score(svm, X_train, y_train, scoring=\"neg_mean_absolute_error\", cv=3))\n",
    "print(\"Mean Absolute error of SVM is: \",svm_MAE)"
   ]
  },
  {
   "cell_type": "code",
   "execution_count": 87,
   "id": "15b129fa",
   "metadata": {},
   "outputs": [
    {
     "name": "stdout",
     "output_type": "stream",
     "text": [
      "[154.90396298  95.10016178  77.40020772  60.4801985   53.90005578\n",
      "  95.10016406  87.09766227 132.97005815  89.09619761 139.39705295\n",
      "  90.09330544  95.59938543 100.89741923  97.60020635  97.60020635\n",
      " 104.90017808  95.89416864  87.09766227  90.09330544  90.09785196\n",
      "  67.1047807  142.39951186  99.09902896  96.94872848 109.59463173\n",
      "  35.18540105 109.09603016  90.9002712   74.04894496 172.40016344\n",
      " 100.10017119 142.39951186 109.59463173  95.59938543  90.9002712\n",
      " 134.90021114  90.9002712  109.59463173 109.09603016 172.40016344\n",
      "  95.59938543 132.97005815  99.09902896  42.80908334  77.40020772\n",
      " 132.40269027  91.60019037  95.10016178 199.90053469  90.40754521\n",
      " 140.90048337 103.06395896 107.4125988   74.04894496  67.1047807\n",
      " 172.40016344  95.59938543  95.10016178  35.18540105 113.8668844\n",
      "  35.18540105 139.39705295  95.89416864 133.77886095 103.06395896\n",
      "  57.59972101 132.40269027 113.8668844  102.56926339 100.10018345\n",
      "  74.04894496  60.9002993   91.60016091 172.27444585  90.09330544\n",
      " 109.09603016  86.10049396 133.90157573]\n"
     ]
    }
   ],
   "source": [
    "svm.fit(X_train, y_train)\n",
    "y_pred = svm.predict(X_test)\n",
    "print(y_pred)"
   ]
  },
  {
   "cell_type": "code",
   "execution_count": 106,
   "id": "df4ddcb7",
   "metadata": {},
   "outputs": [
    {
     "name": "stdout",
     "output_type": "stream",
     "text": [
      "[155.    95.    77.5   60.38  54.    95.    87.   112.5   89.   139.5\n",
      "  90.    95.5  101.    97.5   97.5  105.    96.    87.    90.    90.\n",
      "  67.   142.5   99.    97.   109.5   35.   109.    91.    60.   172.5\n",
      " 100.   142.5  109.5   95.5   91.   135.    91.   109.5  109.   172.5\n",
      "  95.5  112.5   99.    42.71  77.5  132.5   91.5   95.   200.    90.5\n",
      " 141.   103.   253.5   60.    67.   172.5   95.5   95.    35.   114.\n",
      "  35.   139.5   96.   185.   103.    57.5  132.5  114.   100.   100.\n",
      "  60.    61.    91.5  249.    90.   109.    86.   134.  ]\n"
     ]
    }
   ],
   "source": [
    "print(y_test)"
   ]
  },
  {
   "cell_type": "code",
   "execution_count": 90,
   "id": "4e5d7d6d",
   "metadata": {},
   "outputs": [],
   "source": [
    "from sklearn.metrics import mean_absolute_error, mean_squared_error, mean_absolute_percentage_error "
   ]
  },
  {
   "cell_type": "code",
   "execution_count": 91,
   "id": "3c5cd1fa",
   "metadata": {},
   "outputs": [
    {
     "name": "stdout",
     "output_type": "stream",
     "text": [
      "Mean Absolute Error 4.7017795182729\n"
     ]
    }
   ],
   "source": [
    "#MAE = ∑|ypred-yactual| / N\n",
    "mae = mean_absolute_error(y_true=y_test,y_pred=y_pred)\n",
    "print(\"Mean Absolute Error\", mae)"
   ]
  },
  {
   "cell_type": "code",
   "execution_count": 93,
   "id": "951f1243",
   "metadata": {},
   "outputs": [
    {
     "name": "stdout",
     "output_type": "stream",
     "text": [
      "Mean Square Error 401.14692373154475\n"
     ]
    }
   ],
   "source": [
    "#MSE = ∑(ypred - yactual)2 / N\n",
    "mse = mean_squared_error(y_true=y_test,y_pred=y_pred)\n",
    "print(\"Mean Square Error\", mse)"
   ]
  },
  {
   "cell_type": "code",
   "execution_count": 94,
   "id": "d62c86bf",
   "metadata": {},
   "outputs": [
    {
     "name": "stdout",
     "output_type": "stream",
     "text": [
      "Root Mean Square Error 20.028652569045796\n"
     ]
    }
   ],
   "source": [
    "#RMSE=√(∑(ypred - yactual)2 / N)\n",
    "rmse = mean_squared_error(y_true=y_test,y_pred=y_pred,squared=False)\n",
    "print(\"Root Mean Square Error\", rmse)"
   ]
  },
  {
   "cell_type": "code",
   "execution_count": 95,
   "id": "c1240f24",
   "metadata": {},
   "outputs": [
    {
     "name": "stdout",
     "output_type": "stream",
     "text": [
      "Mean Absolute Percentage Error 0.029957232751941027\n"
     ]
    }
   ],
   "source": [
    "# MAPE = ∑((ypred-yactual) / yactual) / N * 100 %\n",
    "mape = mean_absolute_percentage_error(y_test,y_pred,sample_weight=None,multioutput='uniform_average')\n",
    "print(\"Mean Absolute Percentage Error\", mape)"
   ]
  },
  {
   "cell_type": "code",
   "execution_count": 98,
   "id": "fb70cb89",
   "metadata": {},
   "outputs": [
    {
     "name": "stdout",
     "output_type": "stream",
     "text": [
      "R-squared: 0.9999887120346072\n"
     ]
    }
   ],
   "source": [
    "score = svm.score(X_train,y_train)\n",
    "print(\"R-squared:\", score)"
   ]
  },
  {
   "cell_type": "code",
   "execution_count": 99,
   "id": "85718627",
   "metadata": {},
   "outputs": [
    {
     "name": "stdout",
     "output_type": "stream",
     "text": [
      "R-squared: 0.7535095782777887\n"
     ]
    }
   ],
   "source": [
    "score = svm.score(X_test,y_test)\n",
    "print(\"R-squared:\", score)"
   ]
  },
  {
   "cell_type": "markdown",
   "id": "8e339cce",
   "metadata": {},
   "source": [
    "## Putting Model into production"
   ]
  },
  {
   "cell_type": "code",
   "execution_count": 112,
   "id": "d0bac8ac",
   "metadata": {},
   "outputs": [],
   "source": [
    "#pickle the model : converting the object into a byte stream so that it can be stored and transfered\n",
    "import pickle\n",
    "pickle.dump(svm, open('model.pkl','wb'))"
   ]
  },
  {
   "cell_type": "code",
   "execution_count": 119,
   "id": "7d608cb4",
   "metadata": {},
   "outputs": [
    {
     "name": "stdout",
     "output_type": "stream",
     "text": [
      "95.0\n"
     ]
    },
    {
     "name": "stderr",
     "output_type": "stream",
     "text": [
      "C:\\Users\\Patil\\anaconda3\\lib\\site-packages\\sklearn\\base.py:450: UserWarning: X does not have valid feature names, but SVR was fitted with feature names\n",
      "  warnings.warn(\n"
     ]
    },
    {
     "data": {
      "text/plain": [
       "array([95.10016178])"
      ]
     },
     "execution_count": 119,
     "metadata": {},
     "output_type": "execute_result"
    }
   ],
   "source": [
    "file_name = 'model.pkl'\n",
    "with open (file_name,'rb') as pickled:\n",
    "    data = pickle.load(pickled)\n",
    "\n",
    "print(y_test[1])\n",
    "data.predict(X_test.iloc[1,:].values.reshape(1,-1))"
   ]
  }
 ],
 "metadata": {
  "kernelspec": {
   "display_name": "Python 3 (ipykernel)",
   "language": "python",
   "name": "python3"
  },
  "language_info": {
   "codemirror_mode": {
    "name": "ipython",
    "version": 3
   },
   "file_extension": ".py",
   "mimetype": "text/x-python",
   "name": "python",
   "nbconvert_exporter": "python",
   "pygments_lexer": "ipython3",
   "version": "3.9.7"
  }
 },
 "nbformat": 4,
 "nbformat_minor": 5
}
